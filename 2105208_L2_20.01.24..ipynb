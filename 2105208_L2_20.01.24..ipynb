{
 "cells": [
  {
   "cell_type": "code",
   "execution_count": 3,
   "id": "d0133603",
   "metadata": {},
   "outputs": [
    {
     "name": "stdout",
     "output_type": "stream",
     "text": [
      "MENU - DRIVEN PROGRAM\n",
      "\n",
      "MENU\n",
      "1. Sum of two Numbers\n",
      "2. Difference between two Numbers\n",
      "3. Product of two Numbers\n",
      "4. Division of two Numbers\n",
      "5. Exit\n",
      "\n",
      "Enter the Choice: 1\n",
      "\n",
      "ADDITION\n",
      "\n",
      "First Number: 12\n",
      "Second Number: 89\n",
      "12 + 89 = 101\n",
      "\n",
      "MENU\n",
      "1. Sum of two Numbers\n",
      "2. Difference between two Numbers\n",
      "3. Product of two Numbers\n",
      "4. Division of two Numbers\n",
      "5. Exit\n",
      "\n",
      "Enter the Choice: 5\n",
      "\n",
      "EXIT\n",
      "\n"
     ]
    }
   ],
   "source": [
    "# ''' Q1.Write a Python program(WAPP) to input any two integers, and provide a menu to the \n",
    "# user to select any of the options as add, subtract, multiply, divide and display the result \n",
    "# accordingly.  '''\n",
    "print(\"MENU - DRIVEN PROGRAM\")\n",
    "\n",
    "while True:\n",
    "    print(\"\\nMENU\")\n",
    "    print(\"1. Sum of two Numbers\")\n",
    "    print(\"2. Difference between two Numbers\")\n",
    "    print(\"3. Product of two Numbers\")\n",
    "    print(\"4. Division of two Numbers\")\n",
    "    print(\"5. Exit\")\n",
    "    choice = int(input(\"\\nEnter the Choice: \"))\n",
    "\n",
    "    if choice == 1:\n",
    "        print(\"\\nADDITION\\n\")\n",
    "        a = int(input(\"First Number: \"))\n",
    "        b = int(input(\"Second Number: \"))\n",
    "        sum_result = a + b\n",
    "        print(a, \"+\", b, \"=\", sum_result)\n",
    "\n",
    "    elif choice == 2:\n",
    "        print(\"\\nSUBTRACTION\\n\")\n",
    "        a = int(input(\"First Number: \"))\n",
    "        b = int(input(\"Second Number: \"))\n",
    "        difference = a - b\n",
    "        print(a, \"-\", b, \"=\", difference)\n",
    "\n",
    "    elif choice == 3:\n",
    "        print(\"\\nMULTIPLICATION\\n\")\n",
    "        a = int(input(\"First Number: \"))\n",
    "        b = int(input(\"Second Number: \"))\n",
    "        product = a * b\n",
    "        print(a, \"x\", b, \"=\", product)\n",
    "\n",
    "    elif choice == 4:\n",
    "        print(\"\\nDIVISION\\n\")\n",
    "        a = int(input(\"First Number: \"))\n",
    "        b = int(input(\"Second Number: \"))\n",
    "        division = a / b\n",
    "        print(a, \"/\", b, \"=\", division)\n",
    "\n",
    "    elif choice == 5:\n",
    "        print(\"\\nEXIT\\n\")\n",
    "        break\n",
    "\n",
    "    else:\n",
    "        print(\"Please Provide a valid Input!\")\n"
   ]
  },
  {
   "cell_type": "code",
   "execution_count": 2,
   "id": "290d0046",
   "metadata": {},
   "outputs": [
    {
     "name": "stdout",
     "output_type": "stream",
     "text": [
      "Enter a year: 2012\n",
      "2012 is a leap year.\n"
     ]
    }
   ],
   "source": [
    "#Q2.Check if a year is a leap year or not\n",
    "year = int(input(\"Enter a year: \"))\n",
    "if (year % 4 == 0 and year % 100 != 0) or (year % 400 == 0):\n",
    "    print(f\"{year} is a leap year.\")\n",
    "else:\n",
    "    print(f\"{year} is not a leap year.\")\n",
    "\n",
    "# The f-string in Python is a way to format strings. \n",
    "# It stands for \"formatted string literals.\" With f-strings,\n",
    "# you can embed expressions inside string literals, using curly braces {}"
   ]
  },
  {
   "cell_type": "code",
   "execution_count": 3,
   "id": "f6e5b05e",
   "metadata": {},
   "outputs": [
    {
     "name": "stdout",
     "output_type": "stream",
     "text": [
      "Enter temperature in Celsius: 109\n",
      "109.0°C is equal to 228.2°F.\n"
     ]
    }
   ],
   "source": [
    "#Q3.WAPP to convert temperature from centigrade to Fahrenheit scale.\n",
    "\n",
    "celsius_temp = float(input(\"Enter temperature in Celsius: \"))\n",
    "fahrenheit_temp = (celsius_temp * 9/5) + 32\n",
    "print(f\"{celsius_temp}°C is equal to {fahrenheit_temp}°F.\")\n"
   ]
  },
  {
   "cell_type": "code",
   "execution_count": 5,
   "id": "c97753a0",
   "metadata": {},
   "outputs": [
    {
     "name": "stdout",
     "output_type": "stream",
     "text": [
      "Enter the first time (HH:MM:SS): 10:23:54\n",
      "Enter the second time (HH:MM:SS): 12:54:34\n",
      "The sum of 10:23:54 and 12:54:34 is 23:18:28.\n"
     ]
    }
   ],
   "source": [
    "#Q4.WAPP to  add two times in  hour, minute & second format entered \n",
    "#through the keyboard. \n",
    "time1 = input(\"Enter the first time (HH:MM:SS): \")\n",
    "time2 = input(\"Enter the second time (HH:MM:SS): \")\n",
    "\n",
    "h1, m1, s1 = [int(unit) for unit in time1.split(':')]\n",
    "h2, m2, s2 = [int(unit) for unit in time2.split(':')]\n",
    "\n",
    "total_seconds = (h1 + h2) * 3600 + (m1 + m2) * 60 + (s1 + s2)\n",
    "\n",
    "result_hours, remainder = divmod(total_seconds, 3600)\n",
    "result_minutes, result_seconds = divmod(remainder, 60)\n",
    "\n",
    "result_time = f\"{result_hours:02d}:{result_minutes:02d}:{result_seconds:02d}\"\n",
    "\n",
    "print(f\"The sum of {time1} and {time2} is {result_time}.\")"
   ]
  },
  {
   "cell_type": "code",
   "execution_count": 6,
   "id": "dbce236e",
   "metadata": {},
   "outputs": [
    {
     "name": "stdout",
     "output_type": "stream",
     "text": [
      "Enter a number: 123\n",
      "123 is not an Armstrong number.\n"
     ]
    }
   ],
   "source": [
    "#Q5.WAPP to check given number is Armstrong or not.\n",
    "\n",
    "num = int(input(\"Enter a number: \"))\n",
    "n = len(str(num))\n",
    "temp = num\n",
    "total = 0\n",
    "while temp > 0:\n",
    "    digit = temp % 10\n",
    "    total += digit ** n\n",
    "    temp //= 10\n",
    "if total == num:\n",
    "    print(f\"{num} is an Armstrong number.\")\n",
    "else:\n",
    "    print(f\"{num} is not an Armstrong number.\")\n"
   ]
  },
  {
   "cell_type": "code",
   "execution_count": 7,
   "id": "c01b4b78",
   "metadata": {},
   "outputs": [
    {
     "name": "stdout",
     "output_type": "stream",
     "text": [
      "Enter a number: 5\n",
      "The factors of 5 are: [1, 5]\n"
     ]
    }
   ],
   "source": [
    "#Q6. WAPP to find out the factors of a number. \n",
    "\n",
    "num = int(input(\"Enter a number: \"))\n",
    "factors = [i for i in range(1, num + 1) if num % i == 0]\n",
    "print(f\"The factors of {num} are: {factors}\")\n"
   ]
  },
  {
   "cell_type": "code",
   "execution_count": 8,
   "id": "43e411d7",
   "metadata": {},
   "outputs": [
    {
     "name": "stdout",
     "output_type": "stream",
     "text": [
      "100 102 104 106 108 110 112 114 116 118 120 122 124 126 128 130 132 134 136 138 140 142 144 146 148 150 152 154 156 158 160 162 164 166 168 170 172 174 176 178 180 182 184 186 188 190 192 194 196 198 200 "
     ]
    }
   ],
   "source": [
    "#Q7.WAPP to print all even number between 100 to 200 using loop. \n",
    "\n",
    "for i in range(100, 201, 2):\n",
    "    print(i, end=' ')\n"
   ]
  },
  {
   "cell_type": "code",
   "execution_count": 9,
   "id": "04d07f45",
   "metadata": {},
   "outputs": [
    {
     "name": "stdout",
     "output_type": "stream",
     "text": [
      "Enter the first number: 12\n",
      "Enter the second number: 24\n",
      "The LCM of 12 and 24 is 24.\n"
     ]
    }
   ],
   "source": [
    "#Q8.WAPP to find LCM of 2 numbers using while loop. \n",
    "num1 = int(input(\"Enter the first number: \"))\n",
    "num2 = int(input(\"Enter the second number: \"))\n",
    "greater = max(num1, num2)\n",
    "lcm = greater\n",
    "while True:\n",
    "    if lcm % num1 == 0 and lcm % num2 == 0:\n",
    "        print(f\"The LCM of {num1} and {num2} is {lcm}.\")\n",
    "        break\n",
    "    lcm += greater\n"
   ]
  },
  {
   "cell_type": "code",
   "execution_count": 10,
   "id": "2a2978b9",
   "metadata": {},
   "outputs": [
    {
     "name": "stdout",
     "output_type": "stream",
     "text": [
      "CO-ORDINATE - 1\n",
      "Enter x1: 12\n",
      "Enter y1: 2\n",
      "\n",
      "CO-ORDINATE - 2\n",
      "Enter x2: 13\n",
      "Enter y2: 4\n",
      "\n",
      "Distance between the coordinates:  2.23606797749979\n"
     ]
    }
   ],
   "source": [
    "#Q9.WAPP to findout the distance between two coordinates (x1, y1) & (x2, y2).\n",
    "\n",
    "import math\n",
    "\n",
    "print(\"CO-ORDINATE - 1\")\n",
    "x1 = int(input(\"Enter x1: \"))\n",
    "y1 = int(input(\"Enter y1: \"))\n",
    "\n",
    "print(\"\\nCO-ORDINATE - 2\")\n",
    "x2 = int(input(\"Enter x2: \"))\n",
    "y2 = int(input(\"Enter y2: \"))\n",
    "d = math.sqrt(((x2-x1) * (x2-x1))+((y2-y1) * (y2-y1)))\n",
    "print(\"\\nDistance between the coordinates: \", d)\n",
    "\n"
   ]
  },
  {
   "cell_type": "code",
   "execution_count": 11,
   "id": "a9641de7",
   "metadata": {},
   "outputs": [
    {
     "name": "stdout",
     "output_type": "stream",
     "text": [
      "Enter a number: 2\n",
      "2 x 1 = 2\n",
      "2 x 2 = 4\n",
      "2 x 3 = 6\n",
      "2 x 4 = 8\n",
      "2 x 5 = 10\n",
      "2 x 6 = 12\n",
      "2 x 7 = 14\n",
      "2 x 8 = 16\n",
      "2 x 9 = 18\n",
      "2 x 10 = 20\n"
     ]
    }
   ],
   "source": [
    "#Q10.WAPP to find the multiplication table of any number using for loop. \n",
    "\n",
    "num = int(input(\"Enter a number: \"))\n",
    "for i in range(1, 11):\n",
    "    print(f\"{num} x {i} = {num * i}\")\n"
   ]
  },
  {
   "cell_type": "code",
   "execution_count": 12,
   "id": "c913d8b6",
   "metadata": {},
   "outputs": [
    {
     "name": "stdout",
     "output_type": "stream",
     "text": [
      "Enter the radius of the cylinder: 6\n",
      "Enter the height of the cylinder: 4\n",
      "\n",
      "Volume of the cylinder: 452.39 cubic units\n",
      "Surface area of the cylinder: 376.99 square units\n"
     ]
    }
   ],
   "source": [
    "#Q11. WAPP to find Volume and Surface Area of Cylinder. \n",
    "# Input radius and height of the cylinder from the user\n",
    "radius = float(input(\"Enter the radius of the cylinder: \"))\n",
    "height = float(input(\"Enter the height of the cylinder: \"))\n",
    "\n",
    "# Calculate volume and surface area of the cylinder\n",
    "pi = 3.14159\n",
    "\n",
    "# Volume of the cylinder = π * r^2 * h\n",
    "volume = pi * radius**2 * height\n",
    "\n",
    "# Surface area of the cylinder = 2 * π * r * (r + h)\n",
    "surface_area = 2 * pi * radius * (radius + height)\n",
    "\n",
    "# Display the results\n",
    "print(f\"\\nVolume of the cylinder: {volume:.2f} cubic units\")\n",
    "print(f\"Surface area of the cylinder: {surface_area:.2f} square units\")\n"
   ]
  },
  {
   "cell_type": "code",
   "execution_count": 13,
   "id": "7e69e862",
   "metadata": {},
   "outputs": [
    {
     "name": "stdout",
     "output_type": "stream",
     "text": [
      "Enter the coefficient 'a': 4\n",
      "Enter the coefficient 'b': 2\n",
      "Enter the coefficient 'c': 1\n",
      "The roots are complex conjugates: (-0.25+0.4330127018922193j), (-0.25-0.4330127018922193j)\n"
     ]
    }
   ],
   "source": [
    "#Q12.WAPP to find the roots of a quadratic equation ax^2+bx+c=0\n",
    "\n",
    "# Program to find the roots of a quadratic equation ax^2 + bx + c = 0\n",
    "\n",
    "# Input coefficients a, b, and c\n",
    "a = float(input(\"Enter the coefficient 'a': \"))\n",
    "b = float(input(\"Enter the coefficient 'b': \"))\n",
    "c = float(input(\"Enter the coefficient 'c': \"))\n",
    "\n",
    "# Calculate the discriminant\n",
    "discriminant = b**2 - 4*a*c\n",
    "\n",
    "# Check the nature of roots\n",
    "if discriminant > 0:\n",
    "    # Two distinct real roots\n",
    "    root1 = (-b + (discriminant)**0.5) / (2*a)\n",
    "    root2 = (-b - (discriminant)**0.5) / (2*a)\n",
    "    print(f\"The roots are real and distinct: {root1}, {root2}\")\n",
    "elif discriminant == 0:\n",
    "    # One real root (double root)\n",
    "    root = -b / (2*a)\n",
    "    print(f\"The root is real and repeated: {root}\")\n",
    "else:\n",
    "    # Complex roots\n",
    "    real_part = -b / (2*a)\n",
    "    imaginary_part = (abs(discriminant)**0.5) / (2*a)\n",
    "    root1 = complex(real_part, imaginary_part)\n",
    "    root2 = complex(real_part, -imaginary_part)\n",
    "    print(f\"The roots are complex conjugates: {root1}, {root2}\")\n"
   ]
  },
  {
   "cell_type": "code",
   "execution_count": 15,
   "id": "958b4f79",
   "metadata": {},
   "outputs": [
    {
     "name": "stdout",
     "output_type": "stream",
     "text": [
      "Enter the number of semesters: 1\n",
      "\n",
      "--- Semester 1 ---\n",
      "Enter marks for Course 1: 98\n",
      "Enter credits for Course 1: 4\n",
      "Grade for Course 1: O, Credit Points: 40\n",
      "Enter marks for Course 2: 87\n",
      "Enter credits for Course 2: 3\n",
      "Grade for Course 2: E, Credit Points: 27\n",
      "Enter marks for Course 3: 83\n",
      "Enter credits for Course 3: 3\n",
      "Grade for Course 3: E, Credit Points: 27\n",
      "Enter marks for Course 4: 95\n",
      "Enter credits for Course 4: 4\n",
      "Grade for Course 4: O, Credit Points: 40\n",
      "Enter marks for Course 5: 77\n",
      "Enter credits for Course 5: 3\n",
      "Grade for Course 5: A, Credit Points: 24\n",
      "SGPA for Semester 1: 9.29\n",
      "\n",
      "Overall CGPA: 9.29\n"
     ]
    }
   ],
   "source": [
    "#Q13.WAPP to enter your marks of any 5 courses of 2 semesters through keyboard print the \n",
    "#corresponding grade.  \n",
    "#Calculate SGPA for each semester and overall CGPA. \n",
    "\n",
    "#  Number of semesters\n",
    "num_semesters = int(input(\"Enter the number of semesters: \"))\n",
    "\n",
    "# Initialize variables for overall CGPA calculation\n",
    "total_credits_all_semesters = 0\n",
    "total_credit_points_all_semesters = 0\n",
    "\n",
    "# Iterate through each semester\n",
    "for semester in range(1, num_semesters + 1):\n",
    "    print(f\"\\n--- Semester {semester} ---\")\n",
    "    total_credits_semester = 0\n",
    "    total_credit_points_semester = 0\n",
    "\n",
    "    # Iterate through each course in the semester\n",
    "    for course in range(1, 6):\n",
    "        marks = float(input(f\"Enter marks for Course {course}: \"))\n",
    "        credits = int(input(f\"Enter credits for Course {course}: \"))\n",
    "\n",
    "        # Calculate grade and credit points\n",
    "        if 90 <= marks <= 100:\n",
    "            grade = 'O'\n",
    "            points = 10\n",
    "        elif 80 <= marks <= 89:\n",
    "            grade = 'E'\n",
    "            points = 9\n",
    "        elif 70 <= marks <= 79:\n",
    "            grade = 'A'\n",
    "            points = 8\n",
    "        elif 60 <= marks <= 69:\n",
    "            grade = 'B'\n",
    "            points = 7\n",
    "        elif 50 <= marks <= 59:\n",
    "            grade = 'C'\n",
    "            points = 6\n",
    "        elif 40 <= marks <= 49:\n",
    "            grade = 'D'\n",
    "            points = 5\n",
    "        else:\n",
    "            grade = 'F'\n",
    "            points = 2\n",
    "\n",
    "        # Calculate credit points for the course\n",
    "        credit_points = credits * points\n",
    "\n",
    "        # Update total credit points and credits for the semester\n",
    "        total_credit_points_semester += credit_points\n",
    "        total_credits_semester += credits\n",
    "\n",
    "        print(f\"Grade for Course {course}: {grade}, Credit Points: {credit_points}\")\n",
    "\n",
    "    # Calculate SGPA for the semester\n",
    "    sgpa = total_credit_points_semester / total_credits_semester\n",
    "    print(f\"SGPA for Semester {semester}: {sgpa:.2f}\")\n",
    "\n",
    "    # Update overall CGPA variables\n",
    "    total_credit_points_all_semesters += total_credit_points_semester\n",
    "    total_credits_all_semesters += total_credits_semester\n",
    "\n",
    "# Calculate CGPA\n",
    "cgpa = total_credit_points_all_semesters / total_credits_all_semesters\n",
    "print(f\"\\nOverall CGPA: {cgpa:.2f}\")\n"
   ]
  },
  {
   "cell_type": "code",
   "execution_count": 16,
   "id": "a1d5c049",
   "metadata": {},
   "outputs": [
    {
     "name": "stdout",
     "output_type": "stream",
     "text": [
      "Enter the number of classes held: 40\n",
      "Enter the number of classes attended: 34\n",
      "Attendance Percentage: 85.0%\n",
      "The student is allowed to sit in the exam.\n"
     ]
    }
   ],
   "source": [
    "# Q14. A student will not be allowed to sit in exam if his/her attendence is less than 70%. \n",
    "# Take following input from user: \n",
    "# • Number of classes held  \n",
    "# • Number of classes attended \n",
    "# Print percentage of class attended and check the student is allowed to sit in exam or not.\n",
    "\n",
    "\n",
    "# Program to check if a student is allowed to sit in the exam based on attendance\n",
    "\n",
    "# Input number of classes held and attended\n",
    "classes_held = int(input(\"Enter the number of classes held: \"))\n",
    "classes_attended = int(input(\"Enter the number of classes attended: \"))\n",
    "\n",
    "# Calculate attendance percentage\n",
    "attendance_percentage = (classes_attended / classes_held) * 100\n",
    "\n",
    "# Check eligibility to sit in the exam\n",
    "if attendance_percentage >= 70:\n",
    "    print(f\"Attendance Percentage: {attendance_percentage}%\")\n",
    "    print(\"The student is allowed to sit in the exam.\")\n",
    "else:\n",
    "    print(f\"Attendance Percentage: {attendance_percentage}%\")\n",
    "    print(\"The student is not allowed to sit in the exam.\")\n"
   ]
  },
  {
   "cell_type": "code",
   "execution_count": 18,
   "id": "73256420",
   "metadata": {},
   "outputs": [
    {
     "name": "stdout",
     "output_type": "stream",
     "text": [
      "Enter the salary: 12000\n",
      "Enter the years of service: 10\n",
      "Net Bonus Amount: 1200.0\n"
     ]
    }
   ],
   "source": [
    "## Q15. High Radius Company decided to give bonus of 10% to employee if his/her year of service \n",
    "# is more than 5 years. \n",
    "# • Enter salary and year of service from keyboard and print the net bonus amount. \n",
    "# • Determine oldest and youngest among 3 employees by taking input(from user) of  \n",
    "# their age. \n",
    "\n",
    "\n",
    "# Program to calculate bonus based on years of service\n",
    "\n",
    "# Input salary and years of service\n",
    "salary = float(input(\"Enter the salary: \"))\n",
    "years_of_service = int(input(\"Enter the years of service: \"))\n",
    "\n",
    "# Calculate bonus\n",
    "if years_of_service > 5:\n",
    "    bonus_percentage = 10\n",
    "    bonus_amount = (bonus_percentage / 100) * salary\n",
    "    print(f\"Net Bonus Amount: {bonus_amount}\")\n",
    "else:\n",
    "    print(\"No bonus for less than 5 years of service.\")\n"
   ]
  },
  {
   "cell_type": "code",
   "execution_count": 19,
   "id": "5d3908f6",
   "metadata": {},
   "outputs": [
    {
     "name": "stdout",
     "output_type": "stream",
     "text": [
      "Enter a quantity in meters: 200\n",
      "200 meters = 0 Km and 200 meters.\n"
     ]
    }
   ],
   "source": [
    "#Q16. Program to convert a quantity in meters to its equivalent kilometer and meter\n",
    "\n",
    "# Input quantity in meters\n",
    "quantity_in_meters = int(input(\"Enter a quantity in meters: \"))\n",
    "\n",
    "# Calculate the equivalent kilometer and meter\n",
    "kilometer = quantity_in_meters // 1000\n",
    "remaining_meter = quantity_in_meters % 1000\n",
    "\n",
    "# Display the result\n",
    "print(f\"{quantity_in_meters} meters = {kilometer} Km and {remaining_meter} meters.\")\n"
   ]
  },
  {
   "cell_type": "code",
   "execution_count": 20,
   "id": "6a234e4d",
   "metadata": {},
   "outputs": [
    {
     "name": "stdout",
     "output_type": "stream",
     "text": [
      "Enter the value of n: 5\n",
      "The sum of prime numbers between 1 to 5 is: 10\n"
     ]
    }
   ],
   "source": [
    "#Q17. Program to print the sum of all prime numbers between 1 to n\n",
    "\n",
    "# Input value of n\n",
    "n = int(input(\"Enter the value of n: \"))\n",
    "\n",
    "# Initialize variables\n",
    "sum_primes = 0\n",
    "\n",
    "# Iterate through numbers from 2 to n\n",
    "for num in range(2, n + 1):\n",
    "    is_prime = True\n",
    "\n",
    "    # Check if num is prime\n",
    "    for i in range(2, int(num**0.5) + 1):\n",
    "        if num % i == 0:\n",
    "            is_prime = False\n",
    "            break\n",
    "\n",
    "    # If num is prime, add it to the sum\n",
    "    if is_prime:\n",
    "        sum_primes += num\n",
    "\n",
    "# Display the sum of prime numbers\n",
    "print(f\"The sum of prime numbers between 1 to {n} is: {sum_primes}\")\n"
   ]
  },
  {
   "cell_type": "code",
   "execution_count": 21,
   "id": "917df1d8",
   "metadata": {},
   "outputs": [
    {
     "name": "stdout",
     "output_type": "stream",
     "text": [
      "Enter a number: 123\n",
      "Reversed no. is 321\n"
     ]
    }
   ],
   "source": [
    "#Q18. WAPP to display the reverse of a number entered through keyboard. \n",
    "\n",
    "num = int(input(\"Enter a number: \"))\n",
    "num2=0\n",
    "while num!=0:\n",
    "    dig = num%10\n",
    "    num2=num2*10+dig\n",
    "    num=num//10\n",
    "print(\"Reversed no. is\",num2)\n",
    "\n",
    "# Convert the number to a string and reverse it\n",
    "#reverse_num = int(str(num)[::-1])\n",
    "\n",
    "# Display the result\n",
    "#print(f\"The reverse of {num} is: {reverse_num}\")\n"
   ]
  },
  {
   "cell_type": "code",
   "execution_count": 22,
   "id": "c423a52f",
   "metadata": {},
   "outputs": [
    {
     "name": "stdout",
     "output_type": "stream",
     "text": [
      "Enter a decimal number: 10\n",
      "Enter the base (b): 2\n",
      "The equivalent number in base 2 is: 1010\n"
     ]
    }
   ],
   "source": [
    "#Q19. WAPP to convert a decimal number into its equivalent number with base b.  \n",
    "# Decimal number and b are the user input. \n",
    "\n",
    "# Program to convert a decimal number into its equivalent number with base b\n",
    "\n",
    "# Input decimal number and base\n",
    "decimal_number = int(input(\"Enter a decimal number: \"))\n",
    "base = int(input(\"Enter the base (b): \"))\n",
    "\n",
    "# Validate base\n",
    "if base < 2:\n",
    "    print(\"Base must be 2 or greater.\")\n",
    "else:\n",
    "    # Initialize variables\n",
    "    result = \"\"\n",
    "    quotient = decimal_number\n",
    "    \n",
    "    # Perform conversion\n",
    "    while quotient > 0:\n",
    "        remainder = quotient % base\n",
    "        quotient = quotient // base\n",
    "        result = str(remainder) + result\n",
    "\n",
    "    print(f\"The equivalent number in base {base} is: {result}\")\n"
   ]
  },
  {
   "cell_type": "code",
   "execution_count": 23,
   "id": "f3ce559c",
   "metadata": {},
   "outputs": [
    {
     "name": "stdout",
     "output_type": "stream",
     "text": [
      "Enter a number (n): 5\n",
      "The sum of the series is: 35\n"
     ]
    }
   ],
   "source": [
    "#20.WAPP to sum the following series    S=1+(1+2)+(1+2+3)+...+(1+2+3+...+n)\n",
    "\n",
    "\n",
    "# Input value of n\n",
    "n = int(input(\"Enter a number (n): \"))\n",
    "\n",
    "# Initialize sum\n",
    "sum_series = 0\n",
    "\n",
    "# Loop to calculate the sum of the series\n",
    "for i in range(1, n + 1):\n",
    "    sum_series += sum(range(1, i + 1))\n",
    "\n",
    "# Display the result\n",
    "print(f\"The sum of the series is: {sum_series}\")\n"
   ]
  }
 ],
 "metadata": {
  "kernelspec": {
   "display_name": "Python 3 (ipykernel)",
   "language": "python",
   "name": "python3"
  },
  "language_info": {
   "codemirror_mode": {
    "name": "ipython",
    "version": 3
   },
   "file_extension": ".py",
   "mimetype": "text/x-python",
   "name": "python",
   "nbconvert_exporter": "python",
   "pygments_lexer": "ipython3",
   "version": "3.11.5"
  }
 },
 "nbformat": 4,
 "nbformat_minor": 5
}
