{
 "cells": [
  {
   "cell_type": "markdown",
   "id": "58d4bf18",
   "metadata": {},
   "source": [
    "print(\"Wellcome to KIIt\")"
   ]
  },
  {
   "cell_type": "code",
   "execution_count": null,
   "id": "0fd2a0b7",
   "metadata": {},
   "outputs": [],
   "source": []
  },
  {
   "cell_type": "code",
   "execution_count": 2,
   "id": "1a97a002",
   "metadata": {},
   "outputs": [
    {
     "data": {
      "text/plain": [
       "135"
      ]
     },
     "execution_count": 2,
     "metadata": {},
     "output_type": "execute_result"
    }
   ],
   "source": [
    "45+90"
   ]
  },
  {
   "cell_type": "code",
   "execution_count": 3,
   "id": "e411df2b",
   "metadata": {},
   "outputs": [],
   "source": [
    "x=\"Wellcome to KiiT\""
   ]
  },
  {
   "cell_type": "code",
   "execution_count": 4,
   "id": "69dc5d8b",
   "metadata": {},
   "outputs": [
    {
     "name": "stdout",
     "output_type": "stream",
     "text": [
      "Wellcome to KiiT\n"
     ]
    }
   ],
   "source": [
    "print(x)"
   ]
  },
  {
   "cell_type": "code",
   "execution_count": 5,
   "id": "e91630af",
   "metadata": {},
   "outputs": [
    {
     "data": {
      "text/plain": [
       "-45"
      ]
     },
     "execution_count": 5,
     "metadata": {},
     "output_type": "execute_result"
    }
   ],
   "source": [
    "45-90"
   ]
  },
  {
   "cell_type": "code",
   "execution_count": 6,
   "id": "21c8eb0a",
   "metadata": {},
   "outputs": [
    {
     "data": {
      "text/plain": [
       "'Wellcome to KiiT'"
      ]
     },
     "execution_count": 6,
     "metadata": {},
     "output_type": "execute_result"
    }
   ],
   "source": [
    "x"
   ]
  },
  {
   "cell_type": "code",
   "execution_count": 7,
   "id": "69b0f51f",
   "metadata": {},
   "outputs": [
    {
     "data": {
      "text/plain": [
       "str"
      ]
     },
     "execution_count": 7,
     "metadata": {},
     "output_type": "execute_result"
    }
   ],
   "source": [
    "type(x)"
   ]
  },
  {
   "cell_type": "code",
   "execution_count": 8,
   "id": "19634c4e",
   "metadata": {},
   "outputs": [
    {
     "name": "stdout",
     "output_type": "stream",
     "text": [
      "<class 'str'>\n"
     ]
    }
   ],
   "source": [
    "print(type(x))"
   ]
  },
  {
   "cell_type": "code",
   "execution_count": 9,
   "id": "0e4d245b",
   "metadata": {},
   "outputs": [
    {
     "data": {
      "text/plain": [
       "16"
      ]
     },
     "execution_count": 9,
     "metadata": {},
     "output_type": "execute_result"
    }
   ],
   "source": [
    "#findout the size of X\n",
    "len(x)"
   ]
  },
  {
   "cell_type": "code",
   "execution_count": 14,
   "id": "7d778556",
   "metadata": {},
   "outputs": [
    {
     "data": {
      "text/plain": [
       "'WELLCOME TO KIIT'"
      ]
     },
     "execution_count": 14,
     "metadata": {},
     "output_type": "execute_result"
    }
   ],
   "source": [
    "#display X in capital letter\n",
    "x.upper()"
   ]
  },
  {
   "cell_type": "code",
   "execution_count": 12,
   "id": "823233d5",
   "metadata": {},
   "outputs": [
    {
     "data": {
      "text/plain": [
       "['__add__',\n",
       " '__class__',\n",
       " '__contains__',\n",
       " '__delattr__',\n",
       " '__dir__',\n",
       " '__doc__',\n",
       " '__eq__',\n",
       " '__format__',\n",
       " '__ge__',\n",
       " '__getattribute__',\n",
       " '__getitem__',\n",
       " '__getnewargs__',\n",
       " '__getstate__',\n",
       " '__gt__',\n",
       " '__hash__',\n",
       " '__init__',\n",
       " '__init_subclass__',\n",
       " '__iter__',\n",
       " '__le__',\n",
       " '__len__',\n",
       " '__lt__',\n",
       " '__mod__',\n",
       " '__mul__',\n",
       " '__ne__',\n",
       " '__new__',\n",
       " '__reduce__',\n",
       " '__reduce_ex__',\n",
       " '__repr__',\n",
       " '__rmod__',\n",
       " '__rmul__',\n",
       " '__setattr__',\n",
       " '__sizeof__',\n",
       " '__str__',\n",
       " '__subclasshook__',\n",
       " 'capitalize',\n",
       " 'casefold',\n",
       " 'center',\n",
       " 'count',\n",
       " 'encode',\n",
       " 'endswith',\n",
       " 'expandtabs',\n",
       " 'find',\n",
       " 'format',\n",
       " 'format_map',\n",
       " 'index',\n",
       " 'isalnum',\n",
       " 'isalpha',\n",
       " 'isascii',\n",
       " 'isdecimal',\n",
       " 'isdigit',\n",
       " 'isidentifier',\n",
       " 'islower',\n",
       " 'isnumeric',\n",
       " 'isprintable',\n",
       " 'isspace',\n",
       " 'istitle',\n",
       " 'isupper',\n",
       " 'join',\n",
       " 'ljust',\n",
       " 'lower',\n",
       " 'lstrip',\n",
       " 'maketrans',\n",
       " 'partition',\n",
       " 'removeprefix',\n",
       " 'removesuffix',\n",
       " 'replace',\n",
       " 'rfind',\n",
       " 'rindex',\n",
       " 'rjust',\n",
       " 'rpartition',\n",
       " 'rsplit',\n",
       " 'rstrip',\n",
       " 'split',\n",
       " 'splitlines',\n",
       " 'startswith',\n",
       " 'strip',\n",
       " 'swapcase',\n",
       " 'title',\n",
       " 'translate',\n",
       " 'upper',\n",
       " 'zfill']"
      ]
     },
     "execution_count": 12,
     "metadata": {},
     "output_type": "execute_result"
    }
   ],
   "source": [
    "dir(str)"
   ]
  },
  {
   "cell_type": "code",
   "execution_count": 13,
   "id": "904c46c1",
   "metadata": {},
   "outputs": [
    {
     "name": "stdout",
     "output_type": "stream",
     "text": [
      "Help on method_descriptor:\n",
      "\n",
      "upper(self, /)\n",
      "    Return a copy of the string converted to uppercase.\n",
      "\n"
     ]
    }
   ],
   "source": [
    "#how to use upper using help command\n",
    "help(str.upper)"
   ]
  },
  {
   "cell_type": "code",
   "execution_count": 15,
   "id": "5930f271",
   "metadata": {},
   "outputs": [
    {
     "data": {
      "text/plain": [
       "'Wellcome to KiiT'"
      ]
     },
     "execution_count": 15,
     "metadata": {},
     "output_type": "execute_result"
    }
   ],
   "source": [
    "x\n"
   ]
  },
  {
   "cell_type": "code",
   "execution_count": 17,
   "id": "f61beb3b",
   "metadata": {},
   "outputs": [
    {
     "data": {
      "text/plain": [
       "'wellcome to kiit'"
      ]
     },
     "execution_count": 17,
     "metadata": {},
     "output_type": "execute_result"
    }
   ],
   "source": [
    "x.lower()"
   ]
  },
  {
   "cell_type": "code",
   "execution_count": 18,
   "id": "4a3c1a29",
   "metadata": {},
   "outputs": [
    {
     "name": "stdout",
     "output_type": "stream",
     "text": [
      "Help on method_descriptor:\n",
      "\n",
      "replace(self, old, new, count=-1, /)\n",
      "    Return a copy with all occurrences of substring old replaced by new.\n",
      "    \n",
      "      count\n",
      "        Maximum number of occurrences to replace.\n",
      "        -1 (the default value) means replace all occurrences.\n",
      "    \n",
      "    If the optional argument count is given, only the first count occurrences are\n",
      "    replaced.\n",
      "\n"
     ]
    }
   ],
   "source": [
    "help(str.replace)"
   ]
  },
  {
   "cell_type": "code",
   "execution_count": 19,
   "id": "1bf1176e",
   "metadata": {},
   "outputs": [
    {
     "ename": "TypeError",
     "evalue": "'str' object does not support item assignment",
     "output_type": "error",
     "traceback": [
      "\u001b[1;31m---------------------------------------------------------------------------\u001b[0m",
      "\u001b[1;31mTypeError\u001b[0m                                 Traceback (most recent call last)",
      "Cell \u001b[1;32mIn[19], line 2\u001b[0m\n\u001b[0;32m      1\u001b[0m \u001b[38;5;66;03m#replace c with x: indexing\u001b[39;00m\n\u001b[1;32m----> 2\u001b[0m x[\u001b[38;5;241m3\u001b[39m]\u001b[38;5;241m=\u001b[39m\u001b[38;5;124m'\u001b[39m\u001b[38;5;124mk\u001b[39m\u001b[38;5;124m'\u001b[39m\n",
      "\u001b[1;31mTypeError\u001b[0m: 'str' object does not support item assignment"
     ]
    }
   ],
   "source": [
    "#replace c with x: indexing\n"
   ]
  },
  {
   "cell_type": "code",
   "execution_count": 20,
   "id": "b9313908",
   "metadata": {},
   "outputs": [
    {
     "ename": "TypeError",
     "evalue": "'str' object does not support item assignment",
     "output_type": "error",
     "traceback": [
      "\u001b[1;31m---------------------------------------------------------------------------\u001b[0m",
      "\u001b[1;31mTypeError\u001b[0m                                 Traceback (most recent call last)",
      "Cell \u001b[1;32mIn[20], line 1\u001b[0m\n\u001b[1;32m----> 1\u001b[0m x[\u001b[38;5;241m3\u001b[39m]\u001b[38;5;241m=\u001b[39m\u001b[38;5;124m'\u001b[39m\u001b[38;5;124mk\u001b[39m\u001b[38;5;124m'\u001b[39m\n",
      "\u001b[1;31mTypeError\u001b[0m: 'str' object does not support item assignment"
     ]
    }
   ],
   "source": [
    "x[3]='k' #strings are immutable- readonly"
   ]
  },
  {
   "cell_type": "code",
   "execution_count": null,
   "id": "bac0b1d0",
   "metadata": {},
   "outputs": [],
   "source": [
    "##SLicing"
   ]
  },
  {
   "cell_type": "code",
   "execution_count": null,
   "id": "b9d85673",
   "metadata": {},
   "outputs": [],
   "source": [
    "#Slicing"
   ]
  },
  {
   "cell_type": "code",
   "execution_count": null,
   "id": "1ea68c82",
   "metadata": {},
   "outputs": [],
   "source": [
    "#print all the character from c till k of x"
   ]
  },
  {
   "cell_type": "code",
   "execution_count": 21,
   "id": "e5ee2da6",
   "metadata": {},
   "outputs": [
    {
     "data": {
      "text/plain": [
       "'Wellcome to KiiT'"
      ]
     },
     "execution_count": 21,
     "metadata": {},
     "output_type": "execute_result"
    }
   ],
   "source": [
    "x\n"
   ]
  },
  {
   "cell_type": "code",
   "execution_count": 22,
   "id": "e0c1a304",
   "metadata": {},
   "outputs": [
    {
     "data": {
      "text/plain": [
       "'llco'"
      ]
     },
     "execution_count": 22,
     "metadata": {},
     "output_type": "execute_result"
    }
   ],
   "source": [
    "x[2:6] #lastindex - starting index -1"
   ]
  },
  {
   "cell_type": "code",
   "execution_count": 23,
   "id": "07f5c375",
   "metadata": {},
   "outputs": [
    {
     "data": {
      "text/plain": [
       "'llcome to KiiT'"
      ]
     },
     "execution_count": 23,
     "metadata": {},
     "output_type": "execute_result"
    }
   ],
   "source": [
    "x[2:16]"
   ]
  },
  {
   "cell_type": "code",
   "execution_count": 24,
   "id": "6e4d860e",
   "metadata": {},
   "outputs": [
    {
     "data": {
      "text/plain": [
       "'Well'"
      ]
     },
     "execution_count": 24,
     "metadata": {},
     "output_type": "execute_result"
    }
   ],
   "source": [
    "x[:4] #lastindex -1 to starting i"
   ]
  },
  {
   "cell_type": "code",
   "execution_count": 25,
   "id": "6ae1a271",
   "metadata": {},
   "outputs": [
    {
     "data": {
      "text/plain": [
       "'llcome to KiiT'"
      ]
     },
     "execution_count": 25,
     "metadata": {},
     "output_type": "execute_result"
    }
   ],
   "source": [
    "x[2:] #after 2nd index to last"
   ]
  },
  {
   "cell_type": "code",
   "execution_count": 1,
   "id": "aac8e24f",
   "metadata": {},
   "outputs": [
    {
     "data": {
      "text/plain": [
       "type"
      ]
     },
     "execution_count": 1,
     "metadata": {},
     "output_type": "execute_result"
    }
   ],
   "source": [
    "n1=str\n",
    "type(n1)"
   ]
  },
  {
   "cell_type": "code",
   "execution_count": 2,
   "id": "72a53150",
   "metadata": {},
   "outputs": [
    {
     "data": {
      "text/plain": [
       "str"
      ]
     },
     "execution_count": 2,
     "metadata": {},
     "output_type": "execute_result"
    }
   ],
   "source": [
    "n1"
   ]
  },
  {
   "cell_type": "code",
   "execution_count": 12,
   "id": "0729c398",
   "metadata": {},
   "outputs": [
    {
     "data": {
      "text/plain": [
       "'lan K'"
      ]
     },
     "execution_count": 12,
     "metadata": {},
     "output_type": "execute_result"
    }
   ],
   "source": [
    "x=\"Milan Kumar Sahoo\"\n",
    "x[2:7]"
   ]
  },
  {
   "cell_type": "code",
   "execution_count": 15,
   "id": "12df2469",
   "metadata": {},
   "outputs": [
    {
     "name": "stdout",
     "output_type": "stream",
     "text": [
      "Enter ur Name: MilanKumarSahoo\n"
     ]
    },
    {
     "data": {
      "text/plain": [
       "'MilanKumarSahoo'"
      ]
     },
     "execution_count": 15,
     "metadata": {},
     "output_type": "execute_result"
    }
   ],
   "source": [
    "myname=input(\"Enter ur Name: \")\n",
    "myname"
   ]
  },
  {
   "cell_type": "code",
   "execution_count": 16,
   "id": "73d58506",
   "metadata": {},
   "outputs": [
    {
     "data": {
      "text/plain": [
       "'lanK'"
      ]
     },
     "execution_count": 16,
     "metadata": {},
     "output_type": "execute_result"
    }
   ],
   "source": [
    "myname[2:6]"
   ]
  },
  {
   "cell_type": "code",
   "execution_count": 17,
   "id": "6e0a3914",
   "metadata": {},
   "outputs": [
    {
     "data": {
      "text/plain": [
       "'tools and techniques'"
      ]
     },
     "execution_count": 17,
     "metadata": {},
     "output_type": "execute_result"
    }
   ],
   "source": [
    "sub ='tools and techniques'\n",
    "sub"
   ]
  },
  {
   "cell_type": "code",
   "execution_count": null,
   "id": "0277377a",
   "metadata": {},
   "outputs": [],
   "source": [
    "##display only even index letter from subject"
   ]
  },
  {
   "cell_type": "code",
   "execution_count": 18,
   "id": "a35b39f8",
   "metadata": {},
   "outputs": [
    {
     "data": {
      "text/plain": [
       "'tools and techniques'"
      ]
     },
     "execution_count": 18,
     "metadata": {},
     "output_type": "execute_result"
    }
   ],
   "source": [
    "sub"
   ]
  },
  {
   "cell_type": "code",
   "execution_count": 19,
   "id": "6adc54be",
   "metadata": {},
   "outputs": [
    {
     "data": {
      "text/plain": [
       "'o'"
      ]
     },
     "execution_count": 19,
     "metadata": {},
     "output_type": "execute_result"
    }
   ],
   "source": [
    "sub[2:3]"
   ]
  },
  {
   "cell_type": "code",
   "execution_count": 20,
   "id": "86f74774",
   "metadata": {},
   "outputs": [
    {
     "data": {
      "text/plain": [
       "[1, 2, 3, 4, 5, 6, 78, 9]"
      ]
     },
     "execution_count": 20,
     "metadata": {},
     "output_type": "execute_result"
    }
   ],
   "source": [
    "num=[1,2,3,4,5,6,78,9]\n",
    "num"
   ]
  },
  {
   "cell_type": "code",
   "execution_count": 21,
   "id": "a4e0345d",
   "metadata": {},
   "outputs": [
    {
     "data": {
      "text/plain": [
       "[1, 3, 5, 78]"
      ]
     },
     "execution_count": 21,
     "metadata": {},
     "output_type": "execute_result"
    }
   ],
   "source": [
    "num[0:len(num):2] #even index"
   ]
  },
  {
   "cell_type": "code",
   "execution_count": 22,
   "id": "35acfdf9",
   "metadata": {},
   "outputs": [
    {
     "data": {
      "text/plain": [
       "[2, 4, 6, 9]"
      ]
     },
     "execution_count": 22,
     "metadata": {},
     "output_type": "execute_result"
    }
   ],
   "source": [
    "num[1:len(num):2] #odd index"
   ]
  },
  {
   "cell_type": "code",
   "execution_count": 26,
   "id": "9d87cd64",
   "metadata": {},
   "outputs": [
    {
     "name": "stdout",
     "output_type": "stream",
     "text": [
      "t\n",
      "o\n",
      "o\n",
      "l\n",
      "s\n",
      " \n",
      "a\n",
      "n\n",
      "d\n",
      " \n",
      "t\n",
      "e\n",
      "c\n",
      "h\n",
      "n\n",
      "i\n",
      "q\n",
      "u\n",
      "e\n",
      "s\n"
     ]
    }
   ],
   "source": [
    "for i in sub:\n",
    "    print(i)"
   ]
  },
  {
   "cell_type": "code",
   "execution_count": 55,
   "id": "a8eb338e",
   "metadata": {},
   "outputs": [
    {
     "name": "stdout",
     "output_type": "stream",
     "text": [
      "T O O L S   A N D   T E C H N I Q U E S "
     ]
    }
   ],
   "source": [
    "for i in sub:\n",
    "    print(i,end=\" \")"
   ]
  },
  {
   "cell_type": "code",
   "execution_count": 29,
   "id": "ed2edfce",
   "metadata": {},
   "outputs": [
    {
     "name": "stdout",
     "output_type": "stream",
     "text": [
      "M i l a n K u m a r S a h o o "
     ]
    }
   ],
   "source": [
    "for x in myname:\n",
    "    print(x,end=\" \")"
   ]
  },
  {
   "cell_type": "code",
   "execution_count": 53,
   "id": "8e333942",
   "metadata": {},
   "outputs": [
    {
     "name": "stdout",
     "output_type": "stream",
     "text": [
      "1 2 3 4 5 6 78 9 "
     ]
    }
   ],
   "source": [
    "for i in num:\n",
    "     print(i,end=\" \")"
   ]
  },
  {
   "cell_type": "code",
   "execution_count": 41,
   "id": "ae159344",
   "metadata": {},
   "outputs": [
    {
     "data": {
      "text/plain": [
       "'tools and techniques'"
      ]
     },
     "execution_count": 41,
     "metadata": {},
     "output_type": "execute_result"
    }
   ],
   "source": [
    "sub.lower()"
   ]
  },
  {
   "cell_type": "code",
   "execution_count": 42,
   "id": "b18fdd61",
   "metadata": {},
   "outputs": [
    {
     "data": {
      "text/plain": [
       "'TOOLS AND TECHNIQUES'"
      ]
     },
     "execution_count": 42,
     "metadata": {},
     "output_type": "execute_result"
    }
   ],
   "source": [
    "sub.upper()"
   ]
  },
  {
   "cell_type": "code",
   "execution_count": 43,
   "id": "c3107b46",
   "metadata": {},
   "outputs": [
    {
     "data": {
      "text/plain": [
       "'tools and techniques'"
      ]
     },
     "execution_count": 43,
     "metadata": {},
     "output_type": "execute_result"
    }
   ],
   "source": [
    "sub"
   ]
  },
  {
   "cell_type": "code",
   "execution_count": 47,
   "id": "5fa4ca60",
   "metadata": {},
   "outputs": [
    {
     "data": {
      "text/plain": [
       "'TOOLS AND TECHNIQUES'"
      ]
     },
     "execution_count": 47,
     "metadata": {},
     "output_type": "execute_result"
    }
   ],
   "source": [
    "sub=sub.upper()\n",
    "sub"
   ]
  },
  {
   "cell_type": "code",
   "execution_count": 48,
   "id": "2d90f8bf",
   "metadata": {},
   "outputs": [
    {
     "data": {
      "text/plain": [
       "'TOOLS AND TECHNIQUES'"
      ]
     },
     "execution_count": 48,
     "metadata": {},
     "output_type": "execute_result"
    }
   ],
   "source": [
    "sub"
   ]
  },
  {
   "cell_type": "code",
   "execution_count": 58,
   "id": "2986f52c",
   "metadata": {},
   "outputs": [
    {
     "name": "stdout",
     "output_type": "stream",
     "text": [
      "12 34 56 78 9"
     ]
    }
   ],
   "source": [
    "for i in num:\n",
    "    if(i%2==0):\n",
    "        print(i,end=' ')\n",
    "    else:\n",
    "        print(i,end='')"
   ]
  },
  {
   "cell_type": "code",
   "execution_count": 62,
   "id": "624996bb",
   "metadata": {},
   "outputs": [
    {
     "name": "stdout",
     "output_type": "stream",
     "text": [
      "0 12 34 56 78 910 1112 1314 1516 1718 19"
     ]
    }
   ],
   "source": [
    "for i in range(len(sub)):\n",
    "    if(i%2==0):\n",
    "        print(i,end=' ')\n",
    "    else:\n",
    "        print(i,end='')"
   ]
  },
  {
   "cell_type": "code",
   "execution_count": null,
   "id": "c26f0488",
   "metadata": {},
   "outputs": [],
   "source": [
    "##Display first 8 naturl number range"
   ]
  },
  {
   "cell_type": "code",
   "execution_count": 67,
   "id": "b8fbead2",
   "metadata": {},
   "outputs": [
    {
     "name": "stdout",
     "output_type": "stream",
     "text": [
      "1 3 5 7 "
     ]
    }
   ],
   "source": [
    "for num in range(1,9,2):#2 =step size bydefault 1\n",
    "    print(num,end=' ')"
   ]
  },
  {
   "cell_type": "code",
   "execution_count": null,
   "id": "a0ccf5a3",
   "metadata": {},
   "outputs": [],
   "source": [
    "#display sum 5 diff numbers from keyboard using while and for loop"
   ]
  },
  {
   "cell_type": "code",
   "execution_count": 68,
   "id": "935329e1",
   "metadata": {},
   "outputs": [],
   "source": [
    "#display 1st 6 natural numbers using while loop"
   ]
  },
  {
   "cell_type": "code",
   "execution_count": 73,
   "id": "a7be265a",
   "metadata": {},
   "outputs": [
    {
     "name": "stdout",
     "output_type": "stream",
     "text": [
      "ENter num: 1\n",
      "ENter num: 2\n",
      "ENter num: 3\n",
      "ENter num: 4\n",
      "ENter num: 5\n",
      "15\n"
     ]
    }
   ],
   "source": [
    "sum=0\n",
    "for i in range(1,6):\n",
    "    num=int(input('ENter num: '))\n",
    "    sum+=num\n",
    "print(sum)"
   ]
  },
  {
   "cell_type": "code",
   "execution_count": 74,
   "id": "5bc9fa0e",
   "metadata": {},
   "outputs": [
    {
     "name": "stdout",
     "output_type": "stream",
     "text": [
      "ENter num: 1\n",
      "ENter num: 2\n",
      "ENter num: 3\n",
      "ENter num: 4\n",
      "ENter num: 5\n",
      "15\n"
     ]
    }
   ],
   "source": [
    "i=1\n",
    "sum=0\n",
    "while(i<6):\n",
    "    num=int(input('ENter num: '))\n",
    "    sum+=num\n",
    "    i+=1\n",
    "print(sum)"
   ]
  },
  {
   "cell_type": "code",
   "execution_count": 1,
   "id": "4acc1ddb",
   "metadata": {},
   "outputs": [
    {
     "name": "stdout",
     "output_type": "stream",
     "text": [
      "even_index_chars:: aceg\n"
     ]
    }
   ],
   "source": [
    "input_string = \"abcdefgh\"\n",
    "even_index_chars = input_string[::2]\n",
    "print(\"even_index_chars::\", even_index_chars)"
   ]
  },
  {
   "cell_type": "code",
   "execution_count": 2,
   "id": "af2dccc2",
   "metadata": {},
   "outputs": [
    {
     "name": "stdout",
     "output_type": "stream",
     "text": [
      "current_datetime: 2024-02-04 12:49:23.883666\n"
     ]
    }
   ],
   "source": [
    "# Task 2: Write a Python program to display the current date and time.\n",
    "import datetime\n",
    "current_datetime = datetime.datetime.now()\n",
    "print(\"current_datetime:\", current_datetime)"
   ]
  },
  {
   "cell_type": "code",
   "execution_count": 3,
   "id": "8436481e",
   "metadata": {},
   "outputs": [
    {
     "name": "stdout",
     "output_type": "stream",
     "text": [
      "Enter your first name: Milan\n",
      "Enter your last name: sahoo\n",
      "REVERSENAME: sahoo Milan\n"
     ]
    }
   ],
   "source": [
    "# Task 3: Write a Python program that accepts the user's first and last name\n",
    "# and prints them in reverse order with a space between them.\n",
    "first_name = input(\"Enter your first name: \")\n",
    "last_name = input(\"Enter your last name: \")\n",
    "reversed_names = f\"{last_name} {first_name}\"\n",
    "print(\"REVERSENAME:\", reversed_names)"
   ]
  },
  {
   "cell_type": "code",
   "execution_count": 4,
   "id": "05e5a6bd",
   "metadata": {},
   "outputs": [
    {
     "name": "stdout",
     "output_type": "stream",
     "text": [
      "SPHERE_VOLUME 904.7779199999999\n"
     ]
    }
   ],
   "source": [
    "# Task 4: Write a Python program to get the volume of a sphere with radius six.\n",
    "radius = 6\n",
    "sphere_volume = (4/3) * 3.14159 * radius**3\n",
    "print(\"SPHERE_VOLUME\", sphere_volume)"
   ]
  },
  {
   "cell_type": "code",
   "execution_count": 5,
   "id": "34bad397",
   "metadata": {},
   "outputs": [
    {
     "name": "stdout",
     "output_type": "stream",
     "text": [
      "NUMBER: False\n"
     ]
    }
   ],
   "source": [
    "# Task 5: Write a Python program to test whether a number is within 100 of 1000 or 2000.\n",
    "number_to_test = 1200\n",
    "within_range = 900 < number_to_test < 1100 or 1900 < number_to_test < 2100\n",
    "print(\"NUMBER:\", within_range)"
   ]
  },
  {
   "cell_type": "code",
   "execution_count": 6,
   "id": "a62d7a60",
   "metadata": {},
   "outputs": [
    {
     "name": "stdout",
     "output_type": "stream",
     "text": [
      "STRING: 4\n"
     ]
    }
   ],
   "source": [
    "# Task 7: Return the count of a given substring from a string\n",
    "input_string_task7 = \"abcabcabcabc\"\n",
    "substring_task7 = \"abc\"\n",
    "substring_count_task7 = input_string_task7.count(substring_task7)\n",
    "print(\"STRING:\", substring_count_task7)"
   ]
  },
  {
   "cell_type": "code",
   "execution_count": 7,
   "id": "fa11ec18",
   "metadata": {},
   "outputs": [
    {
     "name": "stdout",
     "output_type": "stream",
     "text": [
      "Enter the first number: 12\n",
      "Enter the second number: 13\n",
      "Enter the third number: 14\n",
      "The result is: 39.0\n"
     ]
    }
   ],
   "source": [
    "# Task 6: Write a Python program to calculate the sum of three given numbers.\n",
    "# If the values are equal, return three times their sum.\n",
    "num1 = float(input(\"Enter the first number: \"))\n",
    "num2 = float(input(\"Enter the second number: \"))\n",
    "num3 = float(input(\"Enter the third number: \"))\n",
    "\n",
    "# Calculate the sum of the three numbers\n",
    "sum_of_numbers = num1 + num2 + num3\n",
    "\n",
    "# Check if the numbers are equal\n",
    "if num1 == num2 == num3:\n",
    "    # If equal, return three times their sum\n",
    "    result = 3 * sum_of_numbers\n",
    "else:\n",
    "    # If not equal, return the regular sum\n",
    "    result = sum_of_numbers\n",
    "\n",
    "# Display the result\n",
    "print(f\"The result is: {result}\")"
   ]
  },
  {
   "cell_type": "code",
   "execution_count": 1,
   "id": "c398c881",
   "metadata": {},
   "outputs": [
    {
     "name": "stdout",
     "output_type": "stream",
     "text": [
      "Sum all the items = 26\n"
     ]
    }
   ],
   "source": [
    "# Exercise 1\n",
    "numbers = [1, 7, -10, 34, 2, -8]\n",
    "sum_all_items = sum(numbers)\n",
    "print(\"Sum all the items =\", sum_all_items)"
   ]
  },
  {
   "cell_type": "code",
   "execution_count": 2,
   "id": "605b6335",
   "metadata": {},
   "outputs": [
    {
     "name": "stdout",
     "output_type": "stream",
     "text": [
      "Largest Number: 34\n"
     ]
    }
   ],
   "source": [
    "# 2.Write a Python program to get the largest number from a list\n",
    "numbers = [1, 7, 10, 34, 2, 8]\n",
    "largest_number = max(numbers)\n",
    "print(\"Largest Number:\", largest_number)"
   ]
  },
  {
   "cell_type": "code",
   "execution_count": 3,
   "id": "2fa1d7a4",
   "metadata": {},
   "outputs": [
    {
     "name": "stdout",
     "output_type": "stream",
     "text": [
      "First and Last Character are same: 3\n"
     ]
    }
   ],
   "source": [
    "#Q3.Write a Python program to count the number of \n",
    "#strings where the string length is 2 or more and the \n",
    "#first and last character are same from a given list of strings\n",
    "strings_list = ['pqp', 'xyzz', 'aba', '4224']\n",
    "count_strings = sum(1 for s in strings_list if len(s) >= 2 and s[0] == s[-1])\n",
    "print(\"First and Last Character are same:\", count_strings)"
   ]
  },
  {
   "cell_type": "code",
   "execution_count": 7,
   "id": "68e6a9cb",
   "metadata": {},
   "outputs": [
    {
     "name": "stdout",
     "output_type": "stream",
     "text": [
      "Randomly selected item: 2\n"
     ]
    }
   ],
   "source": [
    "#Q5.Write a Python program to select an item randomly from a list Using random.choice()\n",
    "import random\n",
    "numbers_list = [1, 2, 3, 7, 2, 1, 5, 6, 4, 8, 5, 4]\n",
    "random_item = random.choice(numbers_list)\n",
    "print(\"Randomly selected item:\", random_item)\n"
   ]
  },
  {
   "cell_type": "code",
   "execution_count": 8,
   "id": "9f3ecbc8",
   "metadata": {},
   "outputs": [
    {
     "name": "stdout",
     "output_type": "stream",
     "text": [
      "List of 5 random integers: [84, 49, 96, 3, 8]\n"
     ]
    }
   ],
   "source": [
    "#Q6.\n",
    "random_integers = random.sample(range(1, 100), 5)\n",
    "print(\"List of 5 random integers:\", random_integers)"
   ]
  },
  {
   "cell_type": "code",
   "execution_count": 9,
   "id": "c11297a0",
   "metadata": {},
   "outputs": [
    {
     "name": "stdout",
     "output_type": "stream",
     "text": [
      "{1, 2, 3, 4, 5, 6, 7, 8}\n"
     ]
    }
   ],
   "source": [
    "# Q4.Write a Python program to remove duplicates from a list\n",
    "numbers_list = [1, 2, 3, 7, 2, 1, 5, 6, 4, 8, 5, 4]\n",
    "unique_numbers = set(numbers_list)\n",
    "print(unique_numbers)"
   ]
  },
  {
   "cell_type": "code",
   "execution_count": 10,
   "id": "db9b89fb",
   "metadata": {},
   "outputs": [
    {
     "name": "stdout",
     "output_type": "stream",
     "text": [
      "Positive Numbers: [1, 5, 2, 6]\n",
      "Negative Numbers: [-3, -7, -4, -8]\n"
     ]
    }
   ],
   "source": [
    "#7.WAP to separate positive and negative number from a list.\n",
    "numbers_list = [1, -3, 5, -7, 2, -4, 6, -8]\n",
    "\n",
    "positive_numbers = []\n",
    "negative_numbers = []\n",
    "\n",
    "for num in numbers_list:\n",
    "    if num > 0:\n",
    "        positive_numbers.append(num)\n",
    "    elif num < 0:\n",
    "        negative_numbers.append(num)\n",
    "\n",
    "print(\"Positive Numbers:\", positive_numbers)\n",
    "print(\"Negative Numbers:\", negative_numbers)\n"
   ]
  },
  {
   "cell_type": "code",
   "execution_count": 11,
   "id": "64e93a40",
   "metadata": {},
   "outputs": [
    {
     "name": "stdout",
     "output_type": "stream",
     "text": [
      "Original List: [1, 2, 3, 4, 5, 6, 7, 8, 9, 10]\n",
      "Even Numbers: [2, 4, 6, 8, 10]\n",
      "Odd Numbers: [1, 3, 5, 7, 9]\n"
     ]
    }
   ],
   "source": [
    "# Q8.Create a list of numbers\n",
    "numbers = [1, 2, 3, 4, 5, 6, 7, 8, 9, 10]\n",
    "\n",
    "# Separate odd and even numbers into two lists\n",
    "even_numbers = []\n",
    "odd_numbers = []\n",
    "\n",
    "for num in numbers:\n",
    "    if num % 2 == 0:\n",
    "        even_numbers.append(num)\n",
    "    else:\n",
    "        odd_numbers.append(num)\n",
    "\n",
    "# Print the results\n",
    "print(\"Original List:\", numbers)\n",
    "print(\"Even Numbers:\", even_numbers)\n",
    "print(\"Odd Numbers:\", odd_numbers)"
   ]
  },
  {
   "cell_type": "code",
   "execution_count": 12,
   "id": "33128f21",
   "metadata": {},
   "outputs": [
    {
     "name": "stdout",
     "output_type": "stream",
     "text": [
      "Original list = ['Tutor', 'joes', 'Computer', 'Education']\n",
      "Reversed list = ['rotuT', 'seoj', 'retupmoC', 'noitacudE']\n"
     ]
    }
   ],
   "source": [
    "# Q9.9.Write a Python program to reverse All Strings in String List\n",
    "string_list = ['Tutor', 'joes', 'Computer', 'Education']\n",
    "reversed_list = [s[::-1] for s in string_list]\n",
    "print(\"Original list =\", string_list)\n",
    "print(\"Reversed list =\", reversed_list)"
   ]
  },
  {
   "cell_type": "code",
   "execution_count": 13,
   "id": "c81996b3",
   "metadata": {},
   "outputs": [
    {
     "name": "stdout",
     "output_type": "stream",
     "text": [
      "Enter a string: MILAN KUMAR SAHOO\n",
      "KUMAR\n",
      "MILAN\n",
      "SAHOO\n"
     ]
    }
   ],
   "source": [
    "#10.Python program to sort a list of strings on the number of alphabets in each word.\n",
    "my_str = input(\"Enter a string: \")  \n",
    "# breakdown the string into a list of words  \n",
    "words = my_str.split()  \n",
    "# sort the list  \n",
    "words.sort()  \n",
    "# display the sorted words  \n",
    "for word in words:  \n",
    "   print(word) "
   ]
  },
  {
   "cell_type": "code",
   "execution_count": 14,
   "id": "68e58aa9",
   "metadata": {},
   "outputs": [
    {
     "name": "stdout",
     "output_type": "stream",
     "text": [
      "{4, 5}\n"
     ]
    }
   ],
   "source": [
    "# Q13:Python program to find numbers common in two lists\n",
    "a = [1, 2, 3, 4, 5]\n",
    "b = [4, 5, 6, 7, 8]\n",
    "\n",
    "a_set = set(a)\n",
    "b_set = set(b)\n",
    "\n",
    "if a_set & b_set:\n",
    "    print(a_set & b_set)\n",
    "else:\n",
    "    print(\"No common elements\")\n"
   ]
  },
  {
   "cell_type": "code",
   "execution_count": 15,
   "id": "8cce2bd7",
   "metadata": {},
   "outputs": [
    {
     "name": "stdout",
     "output_type": "stream",
     "text": [
      "Original List: [1, 2, 3, 4, 5, 6, 7, 8]\n",
      "First Half: [1, 2, 3, 4]\n",
      "Second Half: [5, 6, 7, 8]\n"
     ]
    }
   ],
   "source": [
    "#Q14.Split a List in half and store the elements in two different lists.\n",
    "my_list = [1, 2, 3, 4, 5, 6, 7, 8]\n",
    "\n",
    "# Split the list in half\n",
    "mid_point = len(my_list) // 2\n",
    "first_half = my_list[:mid_point]\n",
    "second_half = my_list[mid_point:]\n",
    "\n",
    "# Display the results\n",
    "print(\"Original List:\", my_list)\n",
    "print(\"First Half:\", first_half)\n",
    "print(\"Second Half:\", second_half)\n"
   ]
  },
  {
   "cell_type": "code",
   "execution_count": 16,
   "id": "3a5970fa",
   "metadata": {},
   "outputs": [
    {
     "name": "stdout",
     "output_type": "stream",
     "text": [
      "are\n"
     ]
    }
   ],
   "source": [
    "import re\n",
    "sentence = 'we are humans'\n",
    "matched = re.match(r'(.*) (.*?) (.*)', sentence)\n",
    "print(matched.group(2))"
   ]
  },
  {
   "cell_type": "code",
   "execution_count": 17,
   "id": "9052a714",
   "metadata": {},
   "outputs": [
    {
     "name": "stdout",
     "output_type": "stream",
     "text": [
      "[24, 35, 9, 56, 12]\n"
     ]
    }
   ],
   "source": [
    "#15.Interchange first and last elements of a list\n",
    "newList = [12, 35, 9, 56, 24]\n",
    "\n",
    "# Swapping without using a function\n",
    "size = len(newList)\n",
    "\n",
    "# Swapping\n",
    "temp = newList[0]\n",
    "newList[0] = newList[size - 1]\n",
    "newList[size - 1] = temp\n",
    "\n",
    "# Display the result\n",
    "print(newList)\n"
   ]
  },
  {
   "cell_type": "code",
   "execution_count": 18,
   "id": "4daa3b9a",
   "metadata": {},
   "outputs": [
    {
     "name": "stdout",
     "output_type": "stream",
     "text": [
      "Enter k Value:2\n",
      "Element 4 has frequency greater than 2\n",
      "Element 5 has frequency greater than 2\n"
     ]
    }
   ],
   "source": [
    "#16.Display elements wit Frequency greater than a given value k\n",
    "# Sample List\n",
    "my_list = [1, 2, 2, 3, 4, 4, 4, 5, 5, 5, 6]\n",
    "\n",
    "# Set the frequency threshold (k)\n",
    "k = int(input(\"Enter k Value:\"))\n",
    "\n",
    "# Display elements with frequency greater than k\n",
    "for num in set(my_list):\n",
    "    if my_list.count(num) > k:\n",
    "        print(f\"Element {num} has frequency greater than {k}\")\n"
   ]
  },
  {
   "cell_type": "code",
   "execution_count": 19,
   "id": "771cf8b5",
   "metadata": {},
   "outputs": [
    {
     "name": "stdout",
     "output_type": "stream",
     "text": [
      "Numeric Items: [1, 3.14, 42]\n",
      "Non-Numeric Items: ['apple', 'banana', 'orange']\n"
     ]
    }
   ],
   "source": [
    "#Q11.Python program non-numeric items in a list in a separate list.\n",
    "original_list = [1, 'apple', 3.14, 'banana', 42, 'orange']\n",
    "\n",
    "# Separate lists for numeric and non-numeric items\n",
    "numeric_list = []\n",
    "non_numeric_list = []\n",
    "\n",
    "# Iterate through the original list\n",
    "for item in original_list:\n",
    "    if isinstance(item, (int, float)):\n",
    "        numeric_list.append(item)\n",
    "    else:\n",
    "        non_numeric_list.append(item)\n",
    "\n",
    "# Display the results\n",
    "print(\"Numeric Items:\", numeric_list)\n",
    "print(\"Non-Numeric Items:\", non_numeric_list)\n"
   ]
  },
  {
   "cell_type": "code",
   "execution_count": 21,
   "id": "d7df0bcc",
   "metadata": {},
   "outputs": [
    {
     "ename": "ValueError",
     "evalue": "invalid literal for int() with base 10: 'H'",
     "output_type": "error",
     "traceback": [
      "\u001b[1;31m---------------------------------------------------------------------------\u001b[0m",
      "\u001b[1;31mValueError\u001b[0m                                Traceback (most recent call last)",
      "Cell \u001b[1;32mIn[21], line 5\u001b[0m\n\u001b[0;32m      2\u001b[0m my_string \u001b[38;5;241m=\u001b[39m \u001b[38;5;124m\"\u001b[39m\u001b[38;5;124mHello, World!\u001b[39m\u001b[38;5;124m\"\u001b[39m\n\u001b[0;32m      4\u001b[0m \u001b[38;5;66;03m# Create a list of integers representing each character in the string without using map or ord\u001b[39;00m\n\u001b[1;32m----> 5\u001b[0m char_int_list \u001b[38;5;241m=\u001b[39m [\u001b[38;5;28mint\u001b[39m(char) \u001b[38;5;28;01mfor\u001b[39;00m char \u001b[38;5;129;01min\u001b[39;00m my_string]\n\u001b[0;32m      7\u001b[0m \u001b[38;5;66;03m# Display the result\u001b[39;00m\n\u001b[0;32m      8\u001b[0m \u001b[38;5;28mprint\u001b[39m(char_int_list)\n",
      "Cell \u001b[1;32mIn[21], line 5\u001b[0m, in \u001b[0;36m<listcomp>\u001b[1;34m(.0)\u001b[0m\n\u001b[0;32m      2\u001b[0m my_string \u001b[38;5;241m=\u001b[39m \u001b[38;5;124m\"\u001b[39m\u001b[38;5;124mHello, World!\u001b[39m\u001b[38;5;124m\"\u001b[39m\n\u001b[0;32m      4\u001b[0m \u001b[38;5;66;03m# Create a list of integers representing each character in the string without using map or ord\u001b[39;00m\n\u001b[1;32m----> 5\u001b[0m char_int_list \u001b[38;5;241m=\u001b[39m [\u001b[38;5;28mint\u001b[39m(char) \u001b[38;5;28;01mfor\u001b[39;00m char \u001b[38;5;129;01min\u001b[39;00m my_string]\n\u001b[0;32m      7\u001b[0m \u001b[38;5;66;03m# Display the result\u001b[39;00m\n\u001b[0;32m      8\u001b[0m \u001b[38;5;28mprint\u001b[39m(char_int_list)\n",
      "\u001b[1;31mValueError\u001b[0m: invalid literal for int() with base 10: 'H'"
     ]
    }
   ],
   "source": [
    "# Sample string\n",
    "my_string = \"Hello, World!\"\n",
    "\n",
    "# Create a list of integers representing each character in the string without using map or ord\n",
    "char_int_list = [int(char) for char in my_string]\n",
    "\n",
    "# Display the result\n",
    "print(char_int_list)\n"
   ]
  },
  {
   "cell_type": "code",
   "execution_count": 1,
   "id": "903abc0d",
   "metadata": {},
   "outputs": [
    {
     "name": "stdout",
     "output_type": "stream",
     "text": [
      "('horses', 'are', 'fast')\n"
     ]
    }
   ],
   "source": [
    "import re\n",
    "sentence = 'horses are fast'\n",
    "regex = re.compile('(?P<animal>\\w+) (?P<verb>\\w+) (?P<adjective>\\w+)')\n",
    "matched = re.search(regex, sentence)\n",
    "print(matched.groups())"
   ]
  },
  {
   "cell_type": "code",
   "execution_count": 2,
   "id": "216c81b8",
   "metadata": {},
   "outputs": [
    {
     "name": "stdout",
     "output_type": "stream",
     "text": [
      "are\n"
     ]
    }
   ],
   "source": [
    "sentence = 'we are humans'\n",
    "matched = re.match(r'(.*) (.*?) (.*)', sentence)\n",
    "print(matched.group(2))"
   ]
  },
  {
   "cell_type": "code",
   "execution_count": 1,
   "id": "e687a5b7",
   "metadata": {},
   "outputs": [
    {
     "ename": "TypeError",
     "evalue": "'tuple' object does not support item assignment",
     "output_type": "error",
     "traceback": [
      "\u001b[1;31m---------------------------------------------------------------------------\u001b[0m",
      "\u001b[1;31mTypeError\u001b[0m                                 Traceback (most recent call last)",
      "Cell \u001b[1;32mIn[1], line 3\u001b[0m\n\u001b[0;32m      1\u001b[0m a \u001b[38;5;241m=\u001b[39m [\u001b[38;5;241m1\u001b[39m, \u001b[38;5;241m2\u001b[39m, \u001b[38;5;241m3\u001b[39m]\n\u001b[0;32m      2\u001b[0m a \u001b[38;5;241m=\u001b[39m \u001b[38;5;28mtuple\u001b[39m(a)\n\u001b[1;32m----> 3\u001b[0m a[\u001b[38;5;241m0\u001b[39m] \u001b[38;5;241m=\u001b[39m \u001b[38;5;241m2\u001b[39m\n\u001b[0;32m      4\u001b[0m \u001b[38;5;28mprint\u001b[39m(a)\n",
      "\u001b[1;31mTypeError\u001b[0m: 'tuple' object does not support item assignment"
     ]
    }
   ],
   "source": [
    "\n",
    "a = [1, 2, 3]\n",
    "a = tuple(a)\n",
    "a[0] = 2\n",
    "print(a)"
   ]
  }
 ],
 "metadata": {
  "kernelspec": {
   "display_name": "Python 3 (ipykernel)",
   "language": "python",
   "name": "python3"
  },
  "language_info": {
   "codemirror_mode": {
    "name": "ipython",
    "version": 3
   },
   "file_extension": ".py",
   "mimetype": "text/x-python",
   "name": "python",
   "nbconvert_exporter": "python",
   "pygments_lexer": "ipython3",
   "version": "3.11.5"
  }
 },
 "nbformat": 4,
 "nbformat_minor": 5
}
