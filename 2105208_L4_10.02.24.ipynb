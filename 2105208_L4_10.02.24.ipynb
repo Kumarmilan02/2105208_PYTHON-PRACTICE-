{
 "cells": [
  {
   "cell_type": "code",
   "execution_count": null,
   "id": "85704be9",
   "metadata": {},
   "outputs": [],
   "source": [
    "#cretae list"
   ]
  },
  {
   "cell_type": "code",
   "execution_count": 1,
   "id": "c47469c6",
   "metadata": {},
   "outputs": [],
   "source": [
    "mylist=[]"
   ]
  },
  {
   "cell_type": "code",
   "execution_count": 2,
   "id": "478b121f",
   "metadata": {},
   "outputs": [
    {
     "data": {
      "text/plain": [
       "list"
      ]
     },
     "execution_count": 2,
     "metadata": {},
     "output_type": "execute_result"
    }
   ],
   "source": [
    "type(mylist)"
   ]
  },
  {
   "cell_type": "code",
   "execution_count": 3,
   "id": "81c49839",
   "metadata": {},
   "outputs": [
    {
     "data": {
      "text/plain": [
       "list"
      ]
     },
     "execution_count": 3,
     "metadata": {},
     "output_type": "execute_result"
    }
   ],
   "source": [
    "#uisng list constructure\n",
    "list1=list()\n",
    "type(list1)"
   ]
  },
  {
   "cell_type": "code",
   "execution_count": 4,
   "id": "c2fe438c",
   "metadata": {},
   "outputs": [
    {
     "data": {
      "text/plain": [
       "['__add__',\n",
       " '__class__',\n",
       " '__class_getitem__',\n",
       " '__contains__',\n",
       " '__delattr__',\n",
       " '__delitem__',\n",
       " '__dir__',\n",
       " '__doc__',\n",
       " '__eq__',\n",
       " '__format__',\n",
       " '__ge__',\n",
       " '__getattribute__',\n",
       " '__getitem__',\n",
       " '__getstate__',\n",
       " '__gt__',\n",
       " '__hash__',\n",
       " '__iadd__',\n",
       " '__imul__',\n",
       " '__init__',\n",
       " '__init_subclass__',\n",
       " '__iter__',\n",
       " '__le__',\n",
       " '__len__',\n",
       " '__lt__',\n",
       " '__mul__',\n",
       " '__ne__',\n",
       " '__new__',\n",
       " '__reduce__',\n",
       " '__reduce_ex__',\n",
       " '__repr__',\n",
       " '__reversed__',\n",
       " '__rmul__',\n",
       " '__setattr__',\n",
       " '__setitem__',\n",
       " '__sizeof__',\n",
       " '__str__',\n",
       " '__subclasshook__',\n",
       " 'append',\n",
       " 'clear',\n",
       " 'copy',\n",
       " 'count',\n",
       " 'extend',\n",
       " 'index',\n",
       " 'insert',\n",
       " 'pop',\n",
       " 'remove',\n",
       " 'reverse',\n",
       " 'sort']"
      ]
     },
     "execution_count": 4,
     "metadata": {},
     "output_type": "execute_result"
    }
   ],
   "source": [
    "dir(list1)"
   ]
  },
  {
   "cell_type": "code",
   "execution_count": 8,
   "id": "ee02e6d3",
   "metadata": {},
   "outputs": [],
   "source": [
    "#add an item in mylist\n",
    "#mylist.append(True)\n",
    "mylist.append(\"true\")"
   ]
  },
  {
   "cell_type": "code",
   "execution_count": 9,
   "id": "c26b6ca0",
   "metadata": {},
   "outputs": [],
   "source": [
    "mylist.append(\"True\")"
   ]
  },
  {
   "cell_type": "code",
   "execution_count": 13,
   "id": "f1d998d7",
   "metadata": {},
   "outputs": [
    {
     "data": {
      "text/plain": [
       "[True, 'true', 'True']"
      ]
     },
     "execution_count": 13,
     "metadata": {},
     "output_type": "execute_result"
    }
   ],
   "source": [
    "mylist"
   ]
  },
  {
   "cell_type": "code",
   "execution_count": 15,
   "id": "92c76bea",
   "metadata": {},
   "outputs": [],
   "source": [
    "mylist=(\"5-3j\")"
   ]
  },
  {
   "cell_type": "code",
   "execution_count": 16,
   "id": "65215c65",
   "metadata": {},
   "outputs": [
    {
     "data": {
      "text/plain": [
       "'5-3j'"
      ]
     },
     "execution_count": 16,
     "metadata": {},
     "output_type": "execute_result"
    }
   ],
   "source": [
    "mylist"
   ]
  },
  {
   "cell_type": "code",
   "execution_count": 18,
   "id": "2bb3a1d4",
   "metadata": {},
   "outputs": [
    {
     "ename": "TypeError",
     "evalue": "'str' object does not support item assignment",
     "output_type": "error",
     "traceback": [
      "\u001b[1;31m---------------------------------------------------------------------------\u001b[0m",
      "\u001b[1;31mTypeError\u001b[0m                                 Traceback (most recent call last)",
      "Cell \u001b[1;32mIn[18], line 1\u001b[0m\n\u001b[1;32m----> 1\u001b[0m mylist[\u001b[38;5;241m2\u001b[39m]\u001b[38;5;241m=\u001b[39m\u001b[38;5;241m67.89\u001b[39m\n",
      "\u001b[1;31mTypeError\u001b[0m: 'str' object does not support item assignment"
     ]
    }
   ],
   "source": [
    "mylist[2]=67.89"
   ]
  },
  {
   "cell_type": "code",
   "execution_count": 23,
   "id": "345edba4",
   "metadata": {},
   "outputs": [
    {
     "ename": "TypeError",
     "evalue": "'str' object does not support item assignment",
     "output_type": "error",
     "traceback": [
      "\u001b[1;31m---------------------------------------------------------------------------\u001b[0m",
      "\u001b[1;31mTypeError\u001b[0m                                 Traceback (most recent call last)",
      "Cell \u001b[1;32mIn[23], line 1\u001b[0m\n\u001b[1;32m----> 1\u001b[0m mylist[\u001b[38;5;241m-\u001b[39m\u001b[38;5;241m1\u001b[39m]\u001b[38;5;241m=\u001b[39m \u001b[38;5;124m\"\u001b[39m\u001b[38;5;124mkiit\u001b[39m\u001b[38;5;124m\"\u001b[39m\n\u001b[0;32m      2\u001b[0m mylist\n",
      "\u001b[1;31mTypeError\u001b[0m: 'str' object does not support item assignment"
     ]
    }
   ],
   "source": [
    "mylist[-1]= \"kiit\"\n",
    "mylist"
   ]
  },
  {
   "cell_type": "code",
   "execution_count": 27,
   "id": "fc930fa6",
   "metadata": {},
   "outputs": [
    {
     "data": {
      "text/plain": [
       "[10, 20, 30, 40]"
      ]
     },
     "execution_count": 27,
     "metadata": {},
     "output_type": "execute_result"
    }
   ],
   "source": [
    "list2=[10,20,30]\n",
    "list2.append(40)\n",
    "list2"
   ]
  },
  {
   "cell_type": "code",
   "execution_count": 28,
   "id": "1d37fade",
   "metadata": {},
   "outputs": [
    {
     "data": {
      "text/plain": [
       "[10, 20, 30, 40, 50, -50]"
      ]
     },
     "execution_count": 28,
     "metadata": {},
     "output_type": "execute_result"
    }
   ],
   "source": [
    "list2.extend([50,-50])\n",
    "list2"
   ]
  },
  {
   "cell_type": "code",
   "execution_count": 38,
   "id": "e3caccc4",
   "metadata": {},
   "outputs": [
    {
     "data": {
      "text/plain": [
       "[10,\n",
       " 20,\n",
       " 30,\n",
       " 40,\n",
       " 50,\n",
       " '100',\n",
       " '100',\n",
       " [5, 8, 9],\n",
       " 100,\n",
       " 100,\n",
       " '100',\n",
       " 100,\n",
       " 100,\n",
       " 100,\n",
       " 100,\n",
       " -50]"
      ]
     },
     "execution_count": 38,
     "metadata": {},
     "output_type": "execute_result"
    }
   ],
   "source": [
    "list2.insert(5,\"100\")\n",
    "list2"
   ]
  },
  {
   "cell_type": "code",
   "execution_count": 37,
   "id": "a24e8cb4",
   "metadata": {},
   "outputs": [
    {
     "data": {
      "text/plain": [
       "[10,\n",
       " 20,\n",
       " 30,\n",
       " 40,\n",
       " 50,\n",
       " '100',\n",
       " [5, 8, 9],\n",
       " 100,\n",
       " 100,\n",
       " '100',\n",
       " 100,\n",
       " 100,\n",
       " 100,\n",
       " 100,\n",
       " -50]"
      ]
     },
     "execution_count": 37,
     "metadata": {},
     "output_type": "execute_result"
    }
   ],
   "source": [
    "list2.insert(6,[5,8,9])\n",
    "list2"
   ]
  },
  {
   "cell_type": "code",
   "execution_count": 39,
   "id": "d3e8bd96",
   "metadata": {},
   "outputs": [
    {
     "name": "stdout",
     "output_type": "stream",
     "text": [
      "Original List: [1, 2, 3, 4, 5, 6, 7, 8, 9, 10]\n",
      "Even Numbers: [2, 4, 6, 8, 10]\n",
      "Odd Numbers: [1, 3, 5, 7, 9]\n"
     ]
    }
   ],
   "source": [
    "#cretae a list that first list contain even number and 2nd list contain odd number from a list\n",
    "numbers = [1, 2, 3, 4, 5, 6, 7, 8, 9, 10]\n",
    "#create an empty list \n",
    "even_numbers = []\n",
    "odd_numbers = []\n",
    "\n",
    "for num in numbers:\n",
    "    if num % 2 == 0:\n",
    "        even_numbers.append(num)\n",
    "    else:\n",
    "        odd_numbers.append(num)\n",
    "\n",
    "# Print the results\n",
    "print(\"Original List:\", numbers)\n",
    "print(\"Even Numbers:\", even_numbers)\n",
    "print(\"Odd Numbers:\", odd_numbers)"
   ]
  },
  {
   "cell_type": "code",
   "execution_count": null,
   "id": "3705f142",
   "metadata": {},
   "outputs": [],
   "source": [
    "#Display first 10 natural number using for loop and while loop\n",
    "i=1\n",
    "while"
   ]
  },
  {
   "cell_type": "code",
   "execution_count": 44,
   "id": "d6443a83",
   "metadata": {},
   "outputs": [
    {
     "name": "stdout",
     "output_type": "stream",
     "text": [
      "1 2 3 4 5 6 7 8 9 10 "
     ]
    }
   ],
   "source": [
    "for i in range(1,11):\n",
    "    print(i,end=\" \")"
   ]
  },
  {
   "cell_type": "code",
   "execution_count": 50,
   "id": "e2b468fa",
   "metadata": {},
   "outputs": [
    {
     "name": "stdout",
     "output_type": "stream",
     "text": [
      "evennumbers\n",
      "0 2 4 6 8 10 \n",
      "oddnumbers\n",
      "1 3 5 7 9 "
     ]
    }
   ],
   "source": [
    "#print even number\n",
    "print(\"evennumbers\")\n",
    "for i in range(0,11,2):\n",
    "    print(i,end=\" \")\n",
    "print()\n",
    "print(\"oddnumbers\")\n",
    "for i in range(1,11,2):\n",
    "    print(i,end=\" \")"
   ]
  },
  {
   "cell_type": "code",
   "execution_count": 61,
   "id": "0dd5e1ba",
   "metadata": {},
   "outputs": [
    {
     "name": "stdout",
     "output_type": "stream",
     "text": [
      "1 2 3 4 5 6 7 8 9 10 \n",
      "squre: [1, 4, 9, 16, 25, 36, 49, 64]\n",
      "cube: [1, 8, 27, 64, 125, 216, 343, 512]\n"
     ]
    }
   ],
   "source": [
    "#create a list contain first 8 natural number and display the square and cube of separe list\n",
    "import math\n",
    "list2=[]\n",
    "list3=[]\n",
    "for i in range(1,11):\n",
    "    print(i,end=\" \")\n",
    "print()\n",
    "for i in range(1,9):\n",
    "    list2.append(i ** 2)\n",
    "for i in range(1,9):\n",
    "    list3.append(i ** 3)\n",
    "print(\"squre:\",list2)\n",
    "print(\"cube:\",list3)\n",
    "    \n"
   ]
  },
  {
   "cell_type": "code",
   "execution_count": 62,
   "id": "c456cac9",
   "metadata": {},
   "outputs": [
    {
     "data": {
      "text/plain": [
       "[1, 2, 3, 4, 5, 6, 7, 8, 1, 4, 9, 16, 25, 36, 49, 64]"
      ]
     },
     "execution_count": 62,
     "metadata": {},
     "output_type": "execute_result"
    }
   ],
   "source": [
    "list1"
   ]
  },
  {
   "cell_type": "code",
   "execution_count": 63,
   "id": "722703aa",
   "metadata": {},
   "outputs": [
    {
     "data": {
      "text/plain": [
       "64"
      ]
     },
     "execution_count": 63,
     "metadata": {},
     "output_type": "execute_result"
    }
   ],
   "source": [
    "#remove the last item\n",
    "list1.pop()"
   ]
  },
  {
   "cell_type": "code",
   "execution_count": 67,
   "id": "2e186777",
   "metadata": {},
   "outputs": [
    {
     "data": {
      "text/plain": [
       "[1, 2, 4, 5, 6, 7, 8, 1, 4, 9, 16, 25, 36, 49]"
      ]
     },
     "execution_count": 67,
     "metadata": {},
     "output_type": "execute_result"
    }
   ],
   "source": [
    "list1"
   ]
  },
  {
   "cell_type": "code",
   "execution_count": 68,
   "id": "0c1daab8",
   "metadata": {},
   "outputs": [],
   "source": [
    "list1.remove(1)"
   ]
  },
  {
   "cell_type": "code",
   "execution_count": 69,
   "id": "3190bf67",
   "metadata": {},
   "outputs": [
    {
     "data": {
      "text/plain": [
       "[2, 4, 5, 6, 7, 8, 1, 4, 9, 16, 25, 36, 49]"
      ]
     },
     "execution_count": 69,
     "metadata": {},
     "output_type": "execute_result"
    }
   ],
   "source": [
    "list1"
   ]
  },
  {
   "cell_type": "code",
   "execution_count": 70,
   "id": "9ec2e51b",
   "metadata": {},
   "outputs": [
    {
     "data": {
      "text/plain": [
       "[2, 4, 5, 6, 7, 8, 1, 4, 9, 16, 25, 36, 49]"
      ]
     },
     "execution_count": 70,
     "metadata": {},
     "output_type": "execute_result"
    }
   ],
   "source": [
    "list4=list1.copy()\n",
    "list4"
   ]
  },
  {
   "cell_type": "code",
   "execution_count": 71,
   "id": "40395dbf",
   "metadata": {},
   "outputs": [],
   "source": [
    "del list1"
   ]
  },
  {
   "cell_type": "code",
   "execution_count": 72,
   "id": "6c6ba5f3",
   "metadata": {},
   "outputs": [
    {
     "data": {
      "text/plain": [
       "[2, 4, 5, 6, 7, 8, 1, 4, 9, 16, 25, 36, 49]"
      ]
     },
     "execution_count": 72,
     "metadata": {},
     "output_type": "execute_result"
    }
   ],
   "source": [
    "list4\n"
   ]
  },
  {
   "cell_type": "code",
   "execution_count": 74,
   "id": "f07759be",
   "metadata": {},
   "outputs": [
    {
     "data": {
      "text/plain": [
       "49"
      ]
     },
     "execution_count": 74,
     "metadata": {},
     "output_type": "execute_result"
    }
   ],
   "source": [
    "list4.pop()"
   ]
  },
  {
   "cell_type": "code",
   "execution_count": 81,
   "id": "ba8f157a",
   "metadata": {},
   "outputs": [],
   "source": [
    "list4.extend([12+30j,False,\"TTLLAB\",10.23])"
   ]
  },
  {
   "cell_type": "code",
   "execution_count": 83,
   "id": "e66a9348",
   "metadata": {},
   "outputs": [
    {
     "name": "stdout",
     "output_type": "stream",
     "text": [
      "[2, 4, 5, 6, 7, 8, 1, 4, 9, 16, 25, 36, (12+30j), False, 'TTLLAB', 10.23, (12+30j), False, 'TTLLAB', 10.23, (12+30j), False, 'TTLLAB', 10.23, (12+30j), False, 'TTLLAB', 10.23] "
     ]
    }
   ],
   "source": [
    "print(list4,end=\" \")"
   ]
  },
  {
   "cell_type": "code",
   "execution_count": 87,
   "id": "26dafada",
   "metadata": {},
   "outputs": [
    {
     "data": {
      "text/plain": [
       "[2, 4, 6, 8, 10]"
      ]
     },
     "execution_count": 87,
     "metadata": {},
     "output_type": "execute_result"
    }
   ],
   "source": [
    "even = [i for i in range(1,11) if(i%2==0)]\n",
    "even"
   ]
  },
  {
   "cell_type": "code",
   "execution_count": 89,
   "id": "bcd791e3",
   "metadata": {},
   "outputs": [
    {
     "data": {
      "text/plain": [
       "[1, 2, 3, 3, 2, 4, 4, 5]"
      ]
     },
     "execution_count": 89,
     "metadata": {},
     "output_type": "execute_result"
    }
   ],
   "source": [
    "#remove duplicate from the list\n",
    "nlist=[1,2,3,3,2,4,4,5]\n",
    "nlist.count(2)\n",
    "nlist"
   ]
  },
  {
   "cell_type": "code",
   "execution_count": 93,
   "id": "82914672",
   "metadata": {},
   "outputs": [
    {
     "data": {
      "text/plain": [
       "[1, 2, 3, 4, 5]"
      ]
     },
     "execution_count": 93,
     "metadata": {},
     "output_type": "execute_result"
    }
   ],
   "source": [
    "no_dup=[]\n",
    "for i in nlist:\n",
    "    if i not in no_dup:\n",
    "        no_dup.append(i)\n",
    "no_dup"
   ]
  },
  {
   "cell_type": "code",
   "execution_count": 95,
   "id": "a1c9b16d",
   "metadata": {},
   "outputs": [
    {
     "data": {
      "text/plain": [
       "[1, 2, 3, 4, 5]"
      ]
     },
     "execution_count": 95,
     "metadata": {},
     "output_type": "execute_result"
    }
   ],
   "source": [
    "list7=[]\n",
    "[list7.append(i) for i in nlist if i not in list7]\n",
    "list7"
   ]
  },
  {
   "cell_type": "code",
   "execution_count": 97,
   "id": "1c4147e9",
   "metadata": {},
   "outputs": [
    {
     "data": {
      "text/plain": [
       "[2, 4]"
      ]
     },
     "execution_count": 97,
     "metadata": {},
     "output_type": "execute_result"
    }
   ],
   "source": [
    "list8=[]\n",
    "[list8.append(i) for i in nlist if i not in list8 and (i%2==0)]\n",
    "list8"
   ]
  },
  {
   "cell_type": "code",
   "execution_count": 98,
   "id": "a23f2504",
   "metadata": {},
   "outputs": [
    {
     "name": "stdout",
     "output_type": "stream",
     "text": [
      "Sum all the items = 26\n"
     ]
    }
   ],
   "source": [
    "#1. Write a Python program to sum all the items\n",
    "numbers = [1, 7, -10, 34, 2, -8]\n",
    "sum_all_items = sum(numbers)\n",
    "print(\"Sum all the items =\", sum_all_items)"
   ]
  },
  {
   "cell_type": "code",
   "execution_count": 99,
   "id": "7cb4dfa9",
   "metadata": {},
   "outputs": [
    {
     "name": "stdout",
     "output_type": "stream",
     "text": [
      "Largest Number: 34\n"
     ]
    }
   ],
   "source": [
    "#2. Write a Python program to get the largest number from a list\n",
    "numbers = [1, 7, 10, 34, 2, 8]\n",
    "largest_number = max(numbers)\n",
    "print(\"Largest Number:\", largest_number)"
   ]
  },
  {
   "cell_type": "code",
   "execution_count": 100,
   "id": "0d14c198",
   "metadata": {},
   "outputs": [
    {
     "name": "stdout",
     "output_type": "stream",
     "text": [
      "First and Last Character are same: 3\n"
     ]
    }
   ],
   "source": [
    "#Q3.Write a Python program to count the number of \n",
    "#strings where the string length is 2 or more and the \n",
    "#first and last character are same from a given list of strings\n",
    "strings_list = ['pqp', 'xyzz', 'aba', '4224']\n",
    "count_strings = sum(1 for s in strings_list if len(s) >= 2 and s[0] == s[-1])\n",
    "print(\"First and Last Character are same:\", count_strings)"
   ]
  },
  {
   "cell_type": "code",
   "execution_count": 102,
   "id": "0dfc5406",
   "metadata": {},
   "outputs": [
    {
     "name": "stdout",
     "output_type": "stream",
     "text": [
      "The resultant list after removing duplicates is  [1, 2, 3, 7, 5, 6, 4, 8]\n",
      "{1, 2, 3, 4, 5, 6, 7, 8}\n"
     ]
    }
   ],
   "source": [
    "# Q4.Write a Python program to remove duplicates from a list\n",
    "numbers_list = [1, 2, 3, 7, 2, 1, 5, 6, 4, 8, 5, 4]\n",
    "#unique_numbers = set(numbers_list)\n",
    "#print(unique_numbers)\n",
    "res_list=[]  \n",
    "#using list comprehension  \n",
    "[res_list.append(i) for i in numbers_list if i not in res_list]  \n",
    "#printing the list after removing duplicate elements  \n",
    "print(\"The resultant list after removing duplicates is \",res_list)  \n"
   ]
  },
  {
   "cell_type": "code",
   "execution_count": 103,
   "id": "361289d9",
   "metadata": {
    "scrolled": true
   },
   "outputs": [
    {
     "name": "stdout",
     "output_type": "stream",
     "text": [
      "Randomly selected item: 6\n"
     ]
    }
   ],
   "source": [
    "#Q5.Write a Python program to select an item randomly from a list Using random.choice()\n",
    "import random\n",
    "numbers_list = [1, 2, 3, 7, 2, 1, 5, 6, 4, 8, 5, 4]\n",
    "random_item = random.choice(numbers_list)\n",
    "print(\"Randomly selected item:\", random_item)"
   ]
  },
  {
   "cell_type": "code",
   "execution_count": 104,
   "id": "26f57bac",
   "metadata": {},
   "outputs": [
    {
     "name": "stdout",
     "output_type": "stream",
     "text": [
      "List of 5 random integers: [37, 87, 10, 97, 73]\n"
     ]
    }
   ],
   "source": [
    "#Q6.Python program to create a list of 5 random integers.\n",
    "random_integers = random.sample(range(1, 100), 5)\n",
    "print(\"List of 5 random integers:\", random_integers)"
   ]
  },
  {
   "cell_type": "code",
   "execution_count": 105,
   "id": "2e6171c1",
   "metadata": {},
   "outputs": [
    {
     "name": "stdout",
     "output_type": "stream",
     "text": [
      "Positive Numbers: [1, 5, 2, 6]\n",
      "Negative Numbers: [-3, -7, -4, -8]\n"
     ]
    }
   ],
   "source": [
    "#7.WAP to separate positive and negative number from a list.\n",
    "numbers_list = [1, -3, 5, -7, 2, -4, 6, -8]\n",
    "\n",
    "positive_numbers = []\n",
    "negative_numbers = []\n",
    "\n",
    "for num in numbers_list:\n",
    "    if num > 0:\n",
    "        positive_numbers.append(num)\n",
    "     elif num < 0:\n",
    "        negative_numbers.append(num)\n",
    "\n",
    "print(\"Positive Numbers:\", positive_numbers)\n",
    "print(\"Negative Numbers:\", negative_numbers)"
   ]
  },
  {
   "cell_type": "code",
   "execution_count": 106,
   "id": "3e086762",
   "metadata": {},
   "outputs": [
    {
     "name": "stdout",
     "output_type": "stream",
     "text": [
      "Original List: [1, 2, 3, 4, 5, 6, 7, 8, 9, 10]\n",
      "Even Numbers: [2, 4, 6, 8, 10]\n",
      "Odd Numbers: [1, 3, 5, 7, 9]\n"
     ]
    }
   ],
   "source": [
    "# Q8.WAP to filter even and odd number from a list.\n",
    "numbers = [1, 2, 3, 4, 5, 6, 7, 8, 9, 10]\n",
    "\n",
    "even_numbers = []\n",
    "odd_numbers = []\n",
    "\n",
    "for num in numbers:\n",
    "    if num % 2 == 0:\n",
    "        even_numbers.append(num)\n",
    "    else:\n",
    "        odd_numbers.append(num)\n",
    "\n",
    "# Print the results\n",
    "print(\"Original List:\", numbers)\n",
    "print(\"Even Numbers:\", even_numbers)\n",
    "print(\"Odd Numbers:\", odd_numbers)"
   ]
  },
  {
   "cell_type": "code",
   "execution_count": 107,
   "id": "2f91b048",
   "metadata": {},
   "outputs": [
    {
     "name": "stdout",
     "output_type": "stream",
     "text": [
      "Original list = ['Tutor', 'joes', 'Computer', 'Education']\n",
      "Reversed list = ['rotuT', 'seoj', 'retupmoC', 'noitacudE']\n"
     ]
    }
   ],
   "source": [
    "# Q9.9.Write a Python program to reverse All Strings in String List\n",
    "string_list = ['Tutor', 'joes', 'Computer', 'Education']\n",
    "reversed_list = [s[::-1] for s in string_list]\n",
    "print(\"Original list =\", string_list)\n",
    "print(\"Reversed list =\", reversed_list)"
   ]
  },
  {
   "cell_type": "code",
   "execution_count": 108,
   "id": "cdf6888e",
   "metadata": {},
   "outputs": [
    {
     "name": "stdout",
     "output_type": "stream",
     "text": [
      "Enter a string: milan kumar sahoo\n",
      "kumar\n",
      "milan\n",
      "sahoo\n"
     ]
    }
   ],
   "source": [
    "#10.Python program to sort a list of strings on the number of alphabets in each word.\n",
    "my_str = input(\"Enter a string: \")  \n",
    "# breakdown the string into a list of words  \n",
    "words = my_str.split()  \n",
    "# sort the list  \n",
    "words.sort()  \n",
    "# display the sorted words  \n",
    "for word in words:  \n",
    "   print(word) "
   ]
  },
  {
   "cell_type": "code",
   "execution_count": 110,
   "id": "8641f7fc",
   "metadata": {},
   "outputs": [
    {
     "name": "stdout",
     "output_type": "stream",
     "text": [
      "Numeric Items: [1, 3.14, 42]\n",
      "Non-Numeric Items: ['apple', 'banana', 'orange']\n"
     ]
    }
   ],
   "source": [
    "#Q11.Python program non-numeric items in a list in a separate list.\n",
    "original_list = [1, 'apple', 3.14, 'banana', 42, 'orange']\n",
    "\n",
    "numeric_list = []\n",
    "non_numeric_list = []\n",
    "numeric_types = [int, float, complex]\n",
    "# Iterate through the original list\n",
    "for item in original_list:\n",
    "    if type(item) in numeric_types:\n",
    "        numeric_list.append(item)\n",
    "    else:\n",
    "        non_numeric_list.append(item)\n",
    "\n",
    "# Display the results\n",
    "print(\"Numeric Items:\", numeric_list)\n",
    "print(\"Non-Numeric Items:\", non_numeric_list)\n"
   ]
  },
  {
   "cell_type": "code",
   "execution_count": 117,
   "id": "a234f37c",
   "metadata": {},
   "outputs": [
    {
     "name": "stdout",
     "output_type": "stream",
     "text": [
      "[72, 101, 108, 108, 111, 44, 32, 87, 111, 114, 108, 100, 33]\n"
     ]
    }
   ],
   "source": [
    "#12.Python program to create a list of integers representing each character in a string\n",
    "my_string = \"Hello, World!\"\n",
    "char_int_list = [ord(x) for x in my_string]\n",
    "#ord used to convert a single Unicode character into its integer representation\n",
    "# Display the result\n",
    "print(char_int_list)"
   ]
  },
  {
   "cell_type": "code",
   "execution_count": 112,
   "id": "9f5c70ff",
   "metadata": {},
   "outputs": [
    {
     "name": "stdout",
     "output_type": "stream",
     "text": [
      "The common elements in the two lists are:  [4, 5]\n"
     ]
    }
   ],
   "source": [
    "# Q13:Python program to find numbers common in two lists\n",
    "a = [1, 2, 3, 4, 5]\n",
    "b = [4, 5, 6, 7, 8]\n",
    "\n",
    "result = [i for i in a if i in b]\n",
    "print(\"The common elements in the two lists are: \",result)"
   ]
  },
  {
   "cell_type": "code",
   "execution_count": 113,
   "id": "e0af8b11",
   "metadata": {},
   "outputs": [
    {
     "name": "stdout",
     "output_type": "stream",
     "text": [
      "Original List: [1, 2, 3, 4, 5, 6, 7, 8]\n",
      "First Half: [1, 2, 3, 4]\n",
      "Second Half: [5, 6, 7, 8]\n"
     ]
    }
   ],
   "source": [
    "#Q14.Split a List in half and store the elements in two different lists.\n",
    "my_list = [1, 2, 3, 4, 5, 6, 7, 8]\n",
    "\n",
    "mid_point = len(my_list) // 2\n",
    "first_half = my_list[:mid_point]\n",
    "second_half = my_list[mid_point:]\n",
    "\n",
    "# Display the results\n",
    "print(\"Original List:\", my_list)\n",
    "print(\"First Half:\", first_half)\n",
    "print(\"Second Half:\", second_half)"
   ]
  },
  {
   "cell_type": "code",
   "execution_count": 114,
   "id": "9109f605",
   "metadata": {},
   "outputs": [
    {
     "name": "stdout",
     "output_type": "stream",
     "text": [
      "[24, 35, 9, 56, 12]\n"
     ]
    }
   ],
   "source": [
    "#15.Interchange first and last elements of a list\n",
    "newList = [12, 35, 9, 56, 24]\n",
    "\n",
    "size = len(newList)\n",
    "\n",
    "# Swapping\n",
    "temp = newList[0]\n",
    "newList[0] = newList[size - 1]\n",
    "newList[size - 1] = temp\n",
    "\n",
    "# Display the result\n",
    "print(newList)"
   ]
  },
  {
   "cell_type": "code",
   "execution_count": 10,
   "id": "19a8df63",
   "metadata": {},
   "outputs": [
    {
     "name": "stdout",
     "output_type": "stream",
     "text": [
      "Enter k Value:2\n",
      "Element 4 has frequency greater than 2\n",
      "Element 5 has frequency greater than 2\n"
     ]
    }
   ],
   "source": [
    "#16.Display elements with Frequency greater than a given value k\n",
    "my_list = [1, 2, 2, 3, 4, 4, 4, 5, 5, 5, 6]\n",
    "\n",
    "# Set the frequency threshold (k)\n",
    "k = int(input(\"Enter k Value:\"))\n",
    "\n",
    "# Display elements with frequency greater than k\n",
    "for num in set(my_list):\n",
    "    if my_list.count(num) > k:\n",
    "        print(f\"Element {num} has frequency greater than {k}\")"
   ]
  }
 ],
 "metadata": {
  "kernelspec": {
   "display_name": "Python 3 (ipykernel)",
   "language": "python",
   "name": "python3"
  },
  "language_info": {
   "codemirror_mode": {
    "name": "ipython",
    "version": 3
   },
   "file_extension": ".py",
   "mimetype": "text/x-python",
   "name": "python",
   "nbconvert_exporter": "python",
   "pygments_lexer": "ipython3",
   "version": "3.11.5"
  }
 },
 "nbformat": 4,
 "nbformat_minor": 5
}
