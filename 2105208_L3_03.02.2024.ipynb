{
 "cells": [
  {
   "cell_type": "code",
   "execution_count": 4,
   "id": "94b1c383",
   "metadata": {},
   "outputs": [],
   "source": [
    "import re"
   ]
  },
  {
   "cell_type": "code",
   "execution_count": 5,
   "id": "e4d25f47",
   "metadata": {},
   "outputs": [
    {
     "data": {
      "text/plain": [
       "['A',\n",
       " 'ASCII',\n",
       " 'DEBUG',\n",
       " 'DOTALL',\n",
       " 'I',\n",
       " 'IGNORECASE',\n",
       " 'L',\n",
       " 'LOCALE',\n",
       " 'M',\n",
       " 'MULTILINE',\n",
       " 'Match',\n",
       " 'NOFLAG',\n",
       " 'Pattern',\n",
       " 'RegexFlag',\n",
       " 'S',\n",
       " 'Scanner',\n",
       " 'T',\n",
       " 'TEMPLATE',\n",
       " 'U',\n",
       " 'UNICODE',\n",
       " 'VERBOSE',\n",
       " 'X',\n",
       " '_MAXCACHE',\n",
       " '__all__',\n",
       " '__builtins__',\n",
       " '__cached__',\n",
       " '__doc__',\n",
       " '__file__',\n",
       " '__loader__',\n",
       " '__name__',\n",
       " '__package__',\n",
       " '__path__',\n",
       " '__spec__',\n",
       " '__version__',\n",
       " '_cache',\n",
       " '_casefix',\n",
       " '_compile',\n",
       " '_compile_repl',\n",
       " '_compiler',\n",
       " '_constants',\n",
       " '_expand',\n",
       " '_parser',\n",
       " '_pickle',\n",
       " '_special_chars_map',\n",
       " '_subx',\n",
       " 'compile',\n",
       " 'copyreg',\n",
       " 'enum',\n",
       " 'error',\n",
       " 'escape',\n",
       " 'findall',\n",
       " 'finditer',\n",
       " 'fullmatch',\n",
       " 'functools',\n",
       " 'match',\n",
       " 'purge',\n",
       " 'search',\n",
       " 'split',\n",
       " 'sub',\n",
       " 'subn',\n",
       " 'template']"
      ]
     },
     "execution_count": 5,
     "metadata": {},
     "output_type": "execute_result"
    }
   ],
   "source": [
    "dir(re)"
   ]
  },
  {
   "cell_type": "code",
   "execution_count": 7,
   "id": "0e269531",
   "metadata": {},
   "outputs": [
    {
     "data": {
      "text/plain": [
       "['T', 'T']"
      ]
     },
     "execution_count": 7,
     "metadata": {},
     "output_type": "execute_result"
    }
   ],
   "source": [
    "#return capital letter\n",
    "re.findall('[A-Z]',\"Tools and Technique lab\")"
   ]
  },
  {
   "cell_type": "code",
   "execution_count": 8,
   "id": "e707c57b",
   "metadata": {},
   "outputs": [
    {
     "data": {
      "text/plain": [
       "['T']"
      ]
     },
     "execution_count": 8,
     "metadata": {},
     "output_type": "execute_result"
    }
   ],
   "source": [
    "re.findall('^[A-Z]',\"Tools and Technique lab\")"
   ]
  },
  {
   "cell_type": "code",
   "execution_count": 10,
   "id": "50fab380",
   "metadata": {},
   "outputs": [],
   "source": [
    "sub=\"Tools# and $$$ Techniques%1490 Lab-38\"\n",
    "pattern=\"\\w\\w*\""
   ]
  },
  {
   "cell_type": "code",
   "execution_count": 13,
   "id": "cc11ce45",
   "metadata": {},
   "outputs": [
    {
     "data": {
      "text/plain": [
       "['Tools', 'and', 'Techniques', '1490', 'Lab', '38']"
      ]
     },
     "execution_count": 13,
     "metadata": {},
     "output_type": "execute_result"
    }
   ],
   "source": [
    "re.findall(pattern,sub)"
   ]
  },
  {
   "cell_type": "code",
   "execution_count": 15,
   "id": "09c2da85",
   "metadata": {},
   "outputs": [
    {
     "data": {
      "text/plain": [
       "['# ', ' $$$ ', '%', ' ', '-']"
      ]
     },
     "execution_count": 15,
     "metadata": {},
     "output_type": "execute_result"
    }
   ],
   "source": [
    "re.findall(\"\\W\\W*\",sub)# return special symbol"
   ]
  },
  {
   "cell_type": "code",
   "execution_count": 38,
   "id": "35a963c2",
   "metadata": {},
   "outputs": [
    {
     "data": {
      "text/plain": [
       "['148.56', '789']"
      ]
     },
     "execution_count": 38,
     "metadata": {},
     "output_type": "execute_result"
    }
   ],
   "source": [
    "price=\"$148.56 billon and $789 million\"\n",
    "re.findall('\\d+\\.?\\d*',price)"
   ]
  },
  {
   "cell_type": "code",
   "execution_count": 43,
   "id": "a7b76da3",
   "metadata": {},
   "outputs": [
    {
     "data": {
      "text/plain": [
       "[]"
      ]
     },
     "execution_count": 43,
     "metadata": {},
     "output_type": "execute_result"
    }
   ],
   "source": [
    "re.findall('/m.+n$',price)"
   ]
  },
  {
   "cell_type": "code",
   "execution_count": 44,
   "id": "c9f3eedf",
   "metadata": {},
   "outputs": [],
   "source": [
    "email='Milan@gmail.com'"
   ]
  },
  {
   "cell_type": "code",
   "execution_count": 45,
   "id": "43932c16",
   "metadata": {},
   "outputs": [],
   "source": [
    "#replace the email id with kiit .ac.in"
   ]
  },
  {
   "cell_type": "code",
   "execution_count": 46,
   "id": "3c486801",
   "metadata": {},
   "outputs": [
    {
     "data": {
      "text/plain": [
       "'Milan@kiit.ac.in'"
      ]
     },
     "execution_count": 46,
     "metadata": {},
     "output_type": "execute_result"
    }
   ],
   "source": [
    "re.sub('@gmail.com','@kiit.ac.in',email)"
   ]
  },
  {
   "cell_type": "code",
   "execution_count": 49,
   "id": "7963875f",
   "metadata": {},
   "outputs": [
    {
     "data": {
      "text/plain": [
       "'Milan@gmail.com'"
      ]
     },
     "execution_count": 49,
     "metadata": {},
     "output_type": "execute_result"
    }
   ],
   "source": [
    "re.sub('milan','2105208',email)"
   ]
  },
  {
   "cell_type": "raw",
   "id": "b9dbdb3c",
   "metadata": {},
   "source": []
  },
  {
   "cell_type": "code",
   "execution_count": 55,
   "id": "f6094a81",
   "metadata": {},
   "outputs": [
    {
     "name": "stdout",
     "output_type": "stream",
     "text": [
      "Enter a string: MilankumarSahoo2105208\n"
     ]
    },
    {
     "data": {
      "text/plain": [
       "['MilankumarSahoo2105208']"
      ]
     },
     "execution_count": 55,
     "metadata": {},
     "output_type": "execute_result"
    }
   ],
   "source": [
    "#Q1.Write a Python program to check that a string contains only a \n",
    "#certain set of characters (in this case a-z, A-Z and 0-9).\n",
    "string = input(\"Enter a string: \")\n",
    "re.findall(\"^[a-zA-Z0-9]+$\", string)"
   ]
  },
  {
   "cell_type": "code",
   "execution_count": 57,
   "id": "cdda278b",
   "metadata": {},
   "outputs": [
    {
     "name": "stdout",
     "output_type": "stream",
     "text": [
      "Enter a string: abbbbbcabbbbbbbcabbbbcg\n"
     ]
    },
    {
     "data": {
      "text/plain": [
       "['abbbbb', 'abbbbb']"
      ]
     },
     "execution_count": 57,
     "metadata": {},
     "output_type": "execute_result"
    }
   ],
   "source": [
    "#Q2.Write a Python program that matches a string \n",
    "#that has an a followed by five ‘b’.\n",
    "string = input(\"Enter a string: \")\n",
    "re.findall(\"ab{5}\", string)"
   ]
  },
  {
   "cell_type": "code",
   "execution_count": 60,
   "id": "72a0c64c",
   "metadata": {},
   "outputs": [
    {
     "name": "stdout",
     "output_type": "stream",
     "text": [
      "Enter a string: MilanKumar Sahoo abcd\n"
     ]
    },
    {
     "data": {
      "text/plain": [
       "['Milan', 'Kumar', 'Sahoo']"
      ]
     },
     "execution_count": 60,
     "metadata": {},
     "output_type": "execute_result"
    }
   ],
   "source": [
    "\"\"\"Q3.Write a Python program to find the sequences of \n",
    "one upper case letter followed by lower case letters.\"\"\"\n",
    "string = input(\"Enter a string: \")\n",
    "re.findall(\"[A-Z][a-z]+\", string)"
   ]
  },
  {
   "cell_type": "code",
   "execution_count": 61,
   "id": "b60d5516",
   "metadata": {},
   "outputs": [
    {
     "name": "stdout",
     "output_type": "stream",
     "text": [
      "Enter a string: Higher the sky the level of oxygen in higher decreases.\n"
     ]
    },
    {
     "data": {
      "text/plain": [
       "['Higher', 'the', 'the', 'higher']"
      ]
     },
     "execution_count": 61,
     "metadata": {},
     "output_type": "execute_result"
    }
   ],
   "source": [
    "\"\"\"Q4.Write a Python program that matches a word containing 'h’.\"\"\"\n",
    "string = input(\"Enter a string: \")\n",
    "re.findall(r\"\\b\\w*h\\w*\\b\", string)"
   ]
  },
  {
   "cell_type": "code",
   "execution_count": 62,
   "id": "73b54fff",
   "metadata": {},
   "outputs": [
    {
     "name": "stdout",
     "output_type": "stream",
     "text": [
      "Enter a string: Milan_Kumar_Sahoo_2105208\n"
     ]
    },
    {
     "data": {
      "text/plain": [
       "['Milan_Kumar_Sahoo_2105208']"
      ]
     },
     "execution_count": 62,
     "metadata": {},
     "output_type": "execute_result"
    }
   ],
   "source": [
    "\"\"\"Q5.Write a Python program to match a string that contains only upper and\n",
    "lowercase letters, numbers, and underscores.\"\"\"\n",
    "string = input(\"Enter a string: \")\n",
    "re.findall(\"^[A-Za-z0-9_]+$\", string)"
   ]
  },
  {
   "cell_type": "code",
   "execution_count": 87,
   "id": "20dff596",
   "metadata": {},
   "outputs": [
    {
     "name": "stdout",
     "output_type": "stream",
     "text": [
      "Enter a string: Milan123 456\n"
     ]
    },
    {
     "data": {
      "text/plain": [
       "['123', '456']"
      ]
     },
     "execution_count": 87,
     "metadata": {},
     "output_type": "execute_result"
    }
   ],
   "source": [
    "\"\"\"Q6.Write a Python program to search the numbers (0-9) of length between 1 to 3\n",
    "in a given string.\n",
    "r means  = raw data\"\"\"\n",
    "string = input(\"Enter a string: \")\n",
    "re.findall(r\"\\d{1,3}\", string)"
   ]
  },
  {
   "cell_type": "code",
   "execution_count": 99,
   "id": "47ba62b9",
   "metadata": {},
   "outputs": [
    {
     "ename": "TypeError",
     "evalue": "can only concatenate str (not \"builtin_function_or_method\") to str",
     "output_type": "error",
     "traceback": [
      "\u001b[1;31m---------------------------------------------------------------------------\u001b[0m",
      "\u001b[1;31mTypeError\u001b[0m                                 Traceback (most recent call last)",
      "Cell \u001b[1;32mIn[99], line 9\u001b[0m\n\u001b[0;32m      1\u001b[0m \u001b[38;5;124;03m\"\"\"Q7.Write a Python program to search the following words in a given string and also\u001b[39;00m\n\u001b[0;32m      2\u001b[0m \u001b[38;5;124;03mfind the location within the original string where the pattern occurs.\u001b[39;00m\n\u001b[0;32m      3\u001b[0m \u001b[38;5;124;03mSample text :\u001b[39;00m\n\u001b[0;32m      4\u001b[0m \u001b[38;5;124;03m“Success is not the key to happiness. Happiness is the key to success.\u001b[39;00m\n\u001b[0;32m      5\u001b[0m \u001b[38;5;124;03mIf you love what you are doing, you will be successful.”\u001b[39;00m\n\u001b[0;32m      6\u001b[0m \u001b[38;5;124;03mSearched words : 'Success', 'key', 'happiness’, ‘love’ \"\"\"\u001b[39;00m\n\u001b[0;32m      8\u001b[0m string \u001b[38;5;241m=\u001b[39m \u001b[38;5;124m\"\u001b[39m\u001b[38;5;124mSuccess is not the key to happiness. Happiness is the key to success. If you love what you are doing, you will be successful.\u001b[39m\u001b[38;5;124m\"\u001b[39m\n\u001b[1;32m----> 9\u001b[0m pattern \u001b[38;5;241m=\u001b[39m \u001b[38;5;124mr\u001b[39m\u001b[38;5;124m'\u001b[39m\u001b[38;5;124m\\\u001b[39m\u001b[38;5;124mb(\u001b[39m\u001b[38;5;124m'\u001b[39m \u001b[38;5;241m+\u001b[39m \u001b[38;5;124m'\u001b[39m\u001b[38;5;124m|\u001b[39m\u001b[38;5;124m'\u001b[39m\u001b[38;5;241m.\u001b[39mjoin \u001b[38;5;241m+\u001b[39m \u001b[38;5;124mr\u001b[39m\u001b[38;5;124m'\u001b[39m\u001b[38;5;124m)\u001b[39m\u001b[38;5;124m\\\u001b[39m\u001b[38;5;124mb\u001b[39m\u001b[38;5;124m'\u001b[39m\n\u001b[0;32m     10\u001b[0m re\u001b[38;5;241m.\u001b[39mfindall(pattern, string)\n",
      "\u001b[1;31mTypeError\u001b[0m: can only concatenate str (not \"builtin_function_or_method\") to str"
     ]
    }
   ],
   "source": [
    "\"\"\"Q7.Write a Python program to search the following words in a given string and also\n",
    "find the location within the original string where the pattern occurs.\n",
    "Sample text :\n",
    "“Success is not the key to happiness. Happiness is the key to success.\n",
    "If you love what you are doing, you will be successful.”\n",
    "Searched words : 'Success', 'key', 'happiness’, ‘love’ \"\"\"\n",
    "\n",
    "string = \"Success is not the key to happiness. Happiness is the key to success. If you love what you are doing, you will be successful.\"\n",
    "pattern = r'\\b(' + '|'.join + r')\\b'\n",
    "re.findall(pattern, string)\n",
    "    "
   ]
  },
  {
   "cell_type": "code",
   "execution_count": 88,
   "id": "7263c6cf",
   "metadata": {},
   "outputs": [
    {
     "name": "stdout",
     "output_type": "stream",
     "text": [
      "Enter a string: Milan kumar Sahoo\n",
      "String with whitespaces replaced by underscores: Milan_kumar_Sahoo\n",
      "String with underscores replaced by whitespaces: Milan kumar Sahoo\n"
     ]
    }
   ],
   "source": [
    "#Q8.Write a Python program to replace whitespaces with an underscore and vice versa.\n",
    "string = input(\"Enter a string: \")\n",
    "re.sub(\" \", \"_\",string)\n",
    "# Replace whitespaces with underscores\n",
    "replaced_string_1 = re.sub(r\"\\s\", \"_\", string)\n",
    "print(\"String with whitespaces replaced by underscores:\", replaced_string_1)\n",
    "# Replace underscores with whitespaces\n",
    "replaced_string_2 = re.sub(r\"_\", \" \", string)\n",
    "print(\"String with underscores replaced by whitespaces:\", replaced_string_2)"
   ]
  },
  {
   "cell_type": "code",
   "execution_count": 86,
   "id": "627a065c",
   "metadata": {},
   "outputs": [
    {
     "name": "stdout",
     "output_type": "stream",
     "text": [
      "Enter a string: SplitThisStringAtUppercaseLetters\n"
     ]
    },
    {
     "data": {
      "text/plain": [
       "['Split', 'This', 'String', 'At', 'Uppercase', 'Letters']"
      ]
     },
     "execution_count": 86,
     "metadata": {},
     "output_type": "execute_result"
    }
   ],
   "source": [
    "#Q10.Write a Python program to split a string at uppercase letters.\n",
    "string = input(\"Enter a string: \")\n",
    "re.findall(r\"[A-Z][a-z]*\", string)\n"
   ]
  },
  {
   "cell_type": "code",
   "execution_count": 89,
   "id": "c622d50f",
   "metadata": {},
   "outputs": [
    {
     "data": {
      "text/plain": [
       "['2105208@kiit.ac.in',\n",
       " 'milan@gmail.com',\n",
       " 'amogh123@gmail.com',\n",
       " '2195229@gmail.com']"
      ]
     },
     "execution_count": 89,
     "metadata": {},
     "output_type": "execute_result"
    }
   ],
   "source": [
    "#Q11.write the regex for Email-\\S+@\\S+\n",
    "Email=\"2105208@kiit.ac.in milan@gmail.com amogh123@gmail.com 2195229@gmail.com\"\n",
    "pattern_email = r\"\\S+@\\S+\"\n",
    "re.findall(pattern_email,Email)"
   ]
  },
  {
   "cell_type": "code",
   "execution_count": 92,
   "id": "d3b67cbb",
   "metadata": {},
   "outputs": [
    {
     "name": "stdout",
     "output_type": "stream",
     "text": [
      "Enter a string: 123\n"
     ]
    },
    {
     "data": {
      "text/plain": [
       "['123']"
      ]
     },
     "execution_count": 92,
     "metadata": {},
     "output_type": "execute_result"
    }
   ],
   "source": [
    "#Q12.Write the regex for unsigned number-\n",
    "string = input(\"Enter a string: \")\n",
    "pattern = r\"^[0-9]+$\"\n",
    "re.findall(pattern,string)"
   ]
  },
  {
   "cell_type": "code",
   "execution_count": 94,
   "id": "586be540",
   "metadata": {},
   "outputs": [
    {
     "name": "stdout",
     "output_type": "stream",
     "text": [
      "Enter a filename: image.jpg\n"
     ]
    },
    {
     "data": {
      "text/plain": [
       "['jpg']"
      ]
     },
     "execution_count": 94,
     "metadata": {},
     "output_type": "execute_result"
    }
   ],
   "source": [
    "#Q13.Write the regex for Image files \n",
    "string = input(\"Enter a filename: \")\n",
    "pattern = r\"^.+\\.(jpg|jpeg|png|gif|bmp)$\"\n",
    "re.findall(pattern,string)"
   ]
  },
  {
   "cell_type": "code",
   "execution_count": 97,
   "id": "07707286",
   "metadata": {},
   "outputs": [
    {
     "name": "stdout",
     "output_type": "stream",
     "text": [
      "Enter a website: http:abc.c\n"
     ]
    },
    {
     "data": {
      "text/plain": [
       "['http']"
      ]
     },
     "execution_count": 97,
     "metadata": {},
     "output_type": "execute_result"
    }
   ],
   "source": [
    "#Q14.Write the regex for websites starting with 'http'\n",
    "string = input(\"Enter a website: \")\n",
    "pattern_website = r\"^http\"\n",
    "re.findall(pattern_website,string)"
   ]
  }
 ],
 "metadata": {
  "kernelspec": {
   "display_name": "Python 3 (ipykernel)",
   "language": "python",
   "name": "python3"
  },
  "language_info": {
   "codemirror_mode": {
    "name": "ipython",
    "version": 3
   },
   "file_extension": ".py",
   "mimetype": "text/x-python",
   "name": "python",
   "nbconvert_exporter": "python",
   "pygments_lexer": "ipython3",
   "version": "3.11.5"
  }
 },
 "nbformat": 4,
 "nbformat_minor": 5
}
