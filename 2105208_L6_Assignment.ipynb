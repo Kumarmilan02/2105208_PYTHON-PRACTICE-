{
 "cells": [
  {
   "cell_type": "code",
   "execution_count": 1,
   "id": "85a13d5c",
   "metadata": {
    "scrolled": true
   },
   "outputs": [
    {
     "name": "stdout",
     "output_type": "stream",
     "text": [
      "1.24.3\n"
     ]
    }
   ],
   "source": [
    "#Exercise 1. Import numpy as np and see the version\n",
    "import numpy as np\n",
    "print(np.__version__)"
   ]
  },
  {
   "cell_type": "code",
   "execution_count": 6,
   "id": "accfc575",
   "metadata": {},
   "outputs": [
    {
     "name": "stdout",
     "output_type": "stream",
     "text": [
      "[0 1 2 3 4 5 6 7 8 9]\n"
     ]
    }
   ],
   "source": [
    "#Exercise 2. How to create a 1D array?\n",
    "X = np.arange(10)\n",
    "print(X)"
   ]
  },
  {
   "cell_type": "code",
   "execution_count": 3,
   "id": "b9f2052f",
   "metadata": {},
   "outputs": [
    {
     "data": {
      "text/plain": [
       "array([[ True,  True,  True],\n",
       "       [ True,  True,  True],\n",
       "       [ True,  True,  True]])"
      ]
     },
     "execution_count": 3,
     "metadata": {},
     "output_type": "execute_result"
    }
   ],
   "source": [
    "#Exercise 3. How to create a boolean array?\n",
    "np.full((3,3), True, dtype=bool)"
   ]
  },
  {
   "cell_type": "code",
   "execution_count": 4,
   "id": "c52fb3f9",
   "metadata": {},
   "outputs": [
    {
     "data": {
      "text/plain": [
       "array([1, 3, 5, 7, 9])"
      ]
     },
     "execution_count": 4,
     "metadata": {},
     "output_type": "execute_result"
    }
   ],
   "source": [
    "#Exercise 4. How to extract items that satisfy a given condition from 1D array?\n",
    "arr = np.arange(10)\n",
    "\n",
    "arr[arr%2 == 1]"
   ]
  },
  {
   "cell_type": "code",
   "execution_count": 5,
   "id": "0327e8f1",
   "metadata": {},
   "outputs": [
    {
     "data": {
      "text/plain": [
       "array([ 0, -1,  2, -1,  4, -1,  6, -1,  8, -1])"
      ]
     },
     "execution_count": 5,
     "metadata": {},
     "output_type": "execute_result"
    }
   ],
   "source": [
    "#Exercise 5. How to replace items that satisfy a condition with another value in numpy array?\n",
    "arr = np.arange(10)\n",
    "arr[arr%2 == 1] = -1\n",
    "arr"
   ]
  },
  {
   "cell_type": "code",
   "execution_count": 7,
   "id": "c0b008b8",
   "metadata": {},
   "outputs": [
    {
     "name": "stdout",
     "output_type": "stream",
     "text": [
      "Modified Array\n",
      "[ 0 -1  2 -1  4 -1  6 -1  8 -1]\n",
      "\n",
      "Original Array\n",
      "[0 1 2 3 4 5 6 7 8 9]\n"
     ]
    }
   ],
   "source": [
    "#Exercise 6. How to replace items that satisfy a condition without affecting the original array?\n",
    "arr = np.arange(10)\n",
    "out = arr.copy()\n",
    "out[out%2 == 1] = -1\n",
    "print('Modified Array')\n",
    "print(out)\n",
    "print('\\nOriginal Array')\n",
    "print(arr)\n"
   ]
  },
  {
   "cell_type": "code",
   "execution_count": 8,
   "id": "6ed1a06a",
   "metadata": {},
   "outputs": [
    {
     "data": {
      "text/plain": [
       "array([[0, 1, 2, 3, 4],\n",
       "       [5, 6, 7, 8, 9]])"
      ]
     },
     "execution_count": 8,
     "metadata": {},
     "output_type": "execute_result"
    }
   ],
   "source": [
    "\n",
    "#Exercise 7. How to reshape an array?\n",
    "arr = np.arange(10)\n",
    "arr.reshape(2,5)"
   ]
  },
  {
   "cell_type": "code",
   "execution_count": 9,
   "id": "698b94ae",
   "metadata": {},
   "outputs": [
    {
     "data": {
      "text/plain": [
       "array([[0, 1, 2, 3, 4],\n",
       "       [5, 6, 7, 8, 9],\n",
       "       [1, 1, 1, 1, 1],\n",
       "       [1, 1, 1, 1, 1]])"
      ]
     },
     "execution_count": 9,
     "metadata": {},
     "output_type": "execute_result"
    }
   ],
   "source": [
    "#Exercise 8. How to stack two arrays vertically?\n",
    "a = np.arange(10).reshape(2,-1)\n",
    "b = np.repeat(1, 10).reshape(2,-1)\n",
    "np.vstack([a,b])"
   ]
  },
  {
   "cell_type": "code",
   "execution_count": 10,
   "id": "ab76d40c",
   "metadata": {},
   "outputs": [
    {
     "data": {
      "text/plain": [
       "array([[0, 1, 2, 3, 4, 1, 1, 1, 1, 1],\n",
       "       [5, 6, 7, 8, 9, 1, 1, 1, 1, 1]])"
      ]
     },
     "execution_count": 10,
     "metadata": {},
     "output_type": "execute_result"
    }
   ],
   "source": [
    "#Exercise 9. How to stack two arrays horizontally?\n",
    "a = np.arange(10).reshape(2,-1)\n",
    "b = np.repeat(1, 10).reshape(2,-1)\n",
    "np.hstack([a,b])"
   ]
  },
  {
   "cell_type": "code",
   "execution_count": 11,
   "id": "905368d5",
   "metadata": {},
   "outputs": [
    {
     "name": "stdout",
     "output_type": "stream",
     "text": [
      "[1 1 1 2 2 2 3 3 3]\n",
      "[1 2 3 1 2 3 1 2 3]\n"
     ]
    },
    {
     "data": {
      "text/plain": [
       "array([1, 1, 1, 2, 2, 2, 3, 3, 3, 1, 2, 3, 1, 2, 3, 1, 2, 3])"
      ]
     },
     "execution_count": 11,
     "metadata": {},
     "output_type": "execute_result"
    }
   ],
   "source": [
    "#Exercise 10. How to generate custom sequences in numpy without hardcoding?\n",
    "a = np.array([1,2,3])\n",
    "print(np.repeat(a,3))\n",
    "print(np.tile(a,3))\n",
    "np.hstack((np.repeat(a, 3), np.tile(a, 3)))"
   ]
  },
  {
   "cell_type": "code",
   "execution_count": 12,
   "id": "b36c8b32",
   "metadata": {},
   "outputs": [
    {
     "data": {
      "text/plain": [
       "array([2, 4])"
      ]
     },
     "execution_count": 12,
     "metadata": {},
     "output_type": "execute_result"
    }
   ],
   "source": [
    "#Exercise 11. How to get the common items between two python numpy arrays?\n",
    "a = np.array([1,2,3,2,3,4,3,4,5,6])\n",
    "b = np.array([7,2,10,2,7,4,9,4,9,8])\n",
    "np.intersect1d(a,b)"
   ]
  },
  {
   "cell_type": "code",
   "execution_count": 13,
   "id": "4825c6d8",
   "metadata": {},
   "outputs": [
    {
     "data": {
      "text/plain": [
       "array([1, 2, 3, 4])"
      ]
     },
     "execution_count": 13,
     "metadata": {},
     "output_type": "execute_result"
    }
   ],
   "source": [
    "#Exercise 12. How to remove from one array those items that exist in another?\n",
    "a = np.array([1,2,3,4,5])\n",
    "b = np.array([5,6,7,8,9])\n",
    "np.setdiff1d(a,b)"
   ]
  },
  {
   "cell_type": "code",
   "execution_count": 14,
   "id": "0fb53e0f",
   "metadata": {},
   "outputs": [
    {
     "data": {
      "text/plain": [
       "(array([1, 3, 5, 7], dtype=int64),)"
      ]
     },
     "execution_count": 14,
     "metadata": {},
     "output_type": "execute_result"
    }
   ],
   "source": [
    "#Exercise 13. How to get the positions where elements of two arrays match?\n",
    "a = np.array([1,2,3,2,3,4,3,4,5,6])\n",
    "b = np.array([7,2,10,2,7,4,9,4,9,8])\n",
    "np.where(a == b)"
   ]
  },
  {
   "cell_type": "code",
   "execution_count": 15,
   "id": "d2267ca8",
   "metadata": {},
   "outputs": [
    {
     "data": {
      "text/plain": [
       "array([ 6,  9, 10])"
      ]
     },
     "execution_count": 15,
     "metadata": {},
     "output_type": "execute_result"
    }
   ],
   "source": [
    "#Exercise 14. How to extract all numbers between a given range from a numpy array?\n",
    "a = np.array([2, 6, 1, 9, 10, 3, 27])\n",
    "a[(a >= 5) & (a <= 10)]"
   ]
  },
  {
   "cell_type": "code",
   "execution_count": 16,
   "id": "0e0250b4",
   "metadata": {},
   "outputs": [
    {
     "name": "stdout",
     "output_type": "stream",
     "text": [
      "[ 1  4  9 16 25]\n"
     ]
    }
   ],
   "source": [
    "#Exercise 15. How to make a python function that handles scalars to work on numpy arrays?\n",
    "def square_scalar(x):\n",
    "    \"\"\"Function to square a scalar.\"\"\"\n",
    "    return x ** 2\n",
    "\n",
    "square_vectorized = np.vectorize(square_scalar)\n",
    "array = np.array([1, 2, 3, 4, 5])\n",
    "result = square_vectorized(array)\n",
    "print(result)"
   ]
  },
  {
   "cell_type": "code",
   "execution_count": 17,
   "id": "cc69fd41",
   "metadata": {},
   "outputs": [
    {
     "name": "stdout",
     "output_type": "stream",
     "text": [
      "Original array\n",
      "[[0 1 2]\n",
      " [3 4 5]\n",
      " [6 7 8]]\n",
      "\n",
      "Modified array\n",
      "[[1 0 2]\n",
      " [4 3 5]\n",
      " [7 6 8]]\n"
     ]
    }
   ],
   "source": [
    "#Exercise 16. How to swap two columns in a 2d numpy array?\n",
    "arr = np.arange(9).reshape(3,3)\n",
    "\n",
    "print('Original array')\n",
    "print(arr)\n",
    "print(\"\\nModified array\")\n",
    "print(arr[:, [1,0,2]])"
   ]
  },
  {
   "cell_type": "code",
   "execution_count": 18,
   "id": "04bd75b2",
   "metadata": {},
   "outputs": [
    {
     "name": "stdout",
     "output_type": "stream",
     "text": [
      "Original array\n",
      "[[0 1 2]\n",
      " [3 4 5]\n",
      " [6 7 8]]\n",
      "\n",
      "Modified array\n",
      "[[3 4 5]\n",
      " [0 1 2]\n",
      " [6 7 8]]\n"
     ]
    }
   ],
   "source": [
    "#Exercise 17. How to swap two rows in a 2d numpy array?\n",
    "arr = np.arange(9).reshape(3,3)\n",
    "print('Original array')\n",
    "print(arr)\n",
    "print(\"\\nModified array\")\n",
    "print(arr[[1,0,2], :])"
   ]
  },
  {
   "cell_type": "code",
   "execution_count": 19,
   "id": "5abb6ec2",
   "metadata": {},
   "outputs": [
    {
     "name": "stdout",
     "output_type": "stream",
     "text": [
      "Original array\n",
      "[[0 1 2]\n",
      " [3 4 5]\n",
      " [6 7 8]]\n",
      "\n",
      "Modified array\n",
      "[[6 7 8]\n",
      " [3 4 5]\n",
      " [0 1 2]]\n"
     ]
    }
   ],
   "source": [
    "#Exercise 18. How to reverse the rows of a 2D array?\n",
    "arr = np.arange(9).reshape(3,3)\n",
    "print('Original array')\n",
    "print(arr)\n",
    "print(\"\\nModified array\")\n",
    "print(arr[::-1, :])"
   ]
  },
  {
   "cell_type": "code",
   "execution_count": 20,
   "id": "5a667d8f",
   "metadata": {},
   "outputs": [
    {
     "name": "stdout",
     "output_type": "stream",
     "text": [
      "Original array\n",
      "[[0 1 2]\n",
      " [3 4 5]\n",
      " [6 7 8]]\n",
      "\n",
      "Modified array\n",
      "[[2 1 0]\n",
      " [5 4 3]\n",
      " [8 7 6]]\n"
     ]
    }
   ],
   "source": [
    "#Exercise 19. How to reverse the columns of a 2D array?\n",
    "arr = np.arange(9).reshape(3,3)\n",
    "print('Original array')\n",
    "print(arr)\n",
    "print(\"\\nModified array\")\n",
    "print(arr[:,::-1])"
   ]
  },
  {
   "cell_type": "code",
   "execution_count": 21,
   "id": "797f930c",
   "metadata": {},
   "outputs": [
    {
     "data": {
      "text/plain": [
       "array([[6.27566136, 6.31365433, 6.92747049],\n",
       "       [6.7312473 , 5.42269676, 8.65906905]])"
      ]
     },
     "execution_count": 21,
     "metadata": {},
     "output_type": "execute_result"
    }
   ],
   "source": [
    "#Exercise 20. How to create a 2D array containing random floats between 5 and 10?\n",
    "rand_arr = np.random.uniform(5,10, size=(2,3))\n",
    "rand_arr"
   ]
  },
  {
   "cell_type": "code",
   "execution_count": 22,
   "id": "64bac84d",
   "metadata": {},
   "outputs": [
    {
     "data": {
      "text/plain": [
       "array([[0.653, 0.747, 0.54 ],\n",
       "       [0.149, 0.385, 0.251]])"
      ]
     },
     "execution_count": 22,
     "metadata": {},
     "output_type": "execute_result"
    }
   ],
   "source": [
    "#Exercise 21. How to print only 3 decimal places in python numpy array?\n",
    "rand_arr = np.random.random((2,3))\n",
    "np.set_printoptions(precision=3)\n",
    "rand_arr"
   ]
  },
  {
   "cell_type": "code",
   "execution_count": 23,
   "id": "fc679239",
   "metadata": {},
   "outputs": [
    {
     "name": "stdout",
     "output_type": "stream",
     "text": [
      "[1.000e+10 2.346e+09 3.142e+00]\n"
     ]
    }
   ],
   "source": [
    "#Exercise 22. How to pretty print a numpy array by suppressing the scientific notation (like 1e10)?\n",
    "arr = np.array([1e10, 2.3456e9, 3.1415926535])\n",
    "np.set_printoptions(suppress=True)\n",
    "print(arr)\n"
   ]
  },
  {
   "cell_type": "code",
   "execution_count": 24,
   "id": "68dfbd9c",
   "metadata": {},
   "outputs": [
    {
     "name": "stdout",
     "output_type": "stream",
     "text": [
      "[ 0  1  2 ... 12 13 14]\n"
     ]
    }
   ],
   "source": [
    "#Exercise 23. How to limit the number of items printed in output of numpy array?\n",
    "a = np.arange(15)\n",
    "np.set_printoptions(threshold=6)\n",
    "print(a)"
   ]
  },
  {
   "cell_type": "code",
   "execution_count": 25,
   "id": "38e32f24",
   "metadata": {},
   "outputs": [
    {
     "data": {
      "text/plain": [
       "array([ 0,  1,  2,  3,  4,  5,  6,  7,  8,  9, 10, 11, 12, 13, 14])"
      ]
     },
     "execution_count": 25,
     "metadata": {},
     "output_type": "execute_result"
    }
   ],
   "source": [
    "#Exercise 24. How to print the full numpy array without truncating\n",
    "a = np.arange(15)\n",
    "np.set_printoptions(threshold=15)\n",
    "a"
   ]
  },
  {
   "cell_type": "code",
   "execution_count": 27,
   "id": "dd5e5895",
   "metadata": {},
   "outputs": [
    {
     "name": "stdout",
     "output_type": "stream",
     "text": [
      "[[b'rank' b'discipline' b'phd' b'service' b'sex' b'salary']\n",
      " [b'Prof' b'B' b'56' b'49' b'Male' b'186960']\n",
      " [b'Prof' b'A' b'12' b'6' b'Male' b'93000']\n",
      " ...\n",
      " [b'Prof' b'B' b'17' b'17' b'Female' b'124312']\n",
      " [b'Prof' b'A' b'28' b'14' b'Female' b'109954']\n",
      " [b'Prof' b'A' b'23' b'15' b'Female' b'109646']]\n"
     ]
    }
   ],
   "source": [
    "#Exercise 25. How to import a dataset with numbers and texts keeping the text intact in python numpy?\n",
    "sal_data = np.genfromtxt('Salaries.csv', delimiter=',', skip_header=0,usecols = [0,1,2,3,4,5], dtype = object)\n",
    "print(sal_data)"
   ]
  },
  {
   "cell_type": "code",
   "execution_count": 28,
   "id": "485ef35f",
   "metadata": {},
   "outputs": [
    {
     "name": "stdout",
     "output_type": "stream",
     "text": [
      "[b'186960' b'93000' b'110515' ... b'124312' b'109954' b'109646']\n",
      "[2 5 8]\n"
     ]
    }
   ],
   "source": [
    "#Exercise 26. How to extract a particular column from 1D array of tuples?\n",
    "sal_data = np.genfromtxt('Salaries.csv', delimiter=',', skip_header=1, \n",
    "                          usecols = [5], dtype = object)\n",
    "print(sal_data)\n",
    "array_of_tuples = np.array([(1, 2, 3), (4, 5, 6), (7, 8, 9)])\n",
    "\n",
    "# Extracting the second column (index 1)\n",
    "column_index = 1\n",
    "print(array_of_tuples[:, column_index])"
   ]
  },
  {
   "cell_type": "code",
   "execution_count": 29,
   "id": "5f89b3fa",
   "metadata": {},
   "outputs": [
    {
     "name": "stdout",
     "output_type": "stream",
     "text": [
      "2D NumPy array:\n",
      "[[1 2]\n",
      " [3 4]\n",
      " [5 6]]\n"
     ]
    }
   ],
   "source": [
    "#Exercise-27:How to convert a 1d array of tuples to a 2d numpy array?\n",
    "array_of_tuples = np.array([(1, 2), (3, 4), (5, 6)])\n",
    "two_d_array = np.array(array_of_tuples.tolist())\n",
    "\n",
    "print(\"2D NumPy array:\")\n",
    "print(two_d_array)"
   ]
  },
  {
   "cell_type": "code",
   "execution_count": 30,
   "id": "6813b893",
   "metadata": {},
   "outputs": [
    {
     "name": "stdout",
     "output_type": "stream",
     "text": [
      "Mean: 3.0\n",
      "Median: 3.0\n",
      "Standard Deviation: 1.4142135623730951\n"
     ]
    }
   ],
   "source": [
    "#Exercise-28:How to compute the mean, median, standard deviation of a numpy array?\n",
    "arr = np.array([1, 2, 3, 4, 5])\n",
    "mean, median, std_deviation = np.mean(arr), np.median(arr), np.std(arr)\n",
    "print(\"Mean:\", mean)\n",
    "print(\"Median:\", median)\n",
    "print(\"Standard Deviation:\", std_deviation)"
   ]
  },
  {
   "cell_type": "code",
   "execution_count": 31,
   "id": "dc07426a",
   "metadata": {},
   "outputs": [
    {
     "name": "stdout",
     "output_type": "stream",
     "text": [
      "Normalized array: [0.   0.25 0.5  0.75 1.  ]\n"
     ]
    }
   ],
   "source": [
    "#Exercise-29:How to normalize an array so the values range exactly between 0 and 1?\n",
    "arr = np.array([1, 2, 3, 4, 5])\n",
    "normalized_arr = (arr - arr.min()) / (arr.max() - arr.min())\n",
    "print(\"Normalized array:\", normalized_arr)"
   ]
  },
  {
   "cell_type": "code",
   "execution_count": 32,
   "id": "28661d8a",
   "metadata": {},
   "outputs": [
    {
     "name": "stdout",
     "output_type": "stream",
     "text": [
      "Softmax scores: [0.659 0.242 0.099]\n"
     ]
    }
   ],
   "source": [
    "#Exercise 30. How to compute the softmax score?\n",
    "def softmax(scores):\n",
    "    exp_scores = np.exp(scores)\n",
    "    softmax_scores = exp_scores / np.sum(exp_scores)\n",
    "    return softmax_scores\n",
    "\n",
    "scores = np.array([2.0, 1.0, 0.1])\n",
    "softmax_scores = softmax(scores)\n",
    "print(\"Softmax scores:\", softmax_scores)"
   ]
  },
  {
   "cell_type": "code",
   "execution_count": 33,
   "id": "cc18cd34",
   "metadata": {},
   "outputs": [
    {
     "name": "stdout",
     "output_type": "stream",
     "text": [
      "Percentile scores: [3.25 5.5  7.75]\n"
     ]
    }
   ],
   "source": [
    "#Exercise 31. How to find the percentile scores of a numpy array?\n",
    "arr = np.array([1, 2, 3, 4, 5, 6, 7, 8, 9, 10])\n",
    "percentiles = [25, 50, 75]\n",
    "percentile_scores = np.percentile(arr, percentiles)\n",
    "print(\"Percentile scores:\", percentile_scores)"
   ]
  },
  {
   "cell_type": "code",
   "execution_count": 34,
   "id": "309d76bf",
   "metadata": {},
   "outputs": [
    {
     "name": "stdout",
     "output_type": "stream",
     "text": [
      "Result array after insertions: [ 1 30 10  4 20]\n"
     ]
    }
   ],
   "source": [
    "#Exercise 32. How to insert values at random positions in an array?\n",
    "def insert_values(arr, values, num_insertions):\n",
    "    indices = np.random.randint(0, len(arr), size=num_insertions)\n",
    "    arr[indices] = values\n",
    "    return arr\n",
    "\n",
    "arr = np.array([1, 2, 3, 4, 5])\n",
    "values = np.array([10, 20, 30])\n",
    "num_insertions = 3\n",
    "result = insert_values(arr, values, num_insertions)\n",
    "print(\"Result array after insertions:\", result)"
   ]
  },
  {
   "cell_type": "code",
   "execution_count": 35,
   "id": "dc20232c",
   "metadata": {},
   "outputs": [
    {
     "name": "stdout",
     "output_type": "stream",
     "text": [
      "Positions of missing values: [1 3]\n"
     ]
    }
   ],
   "source": [
    "#Exercise 33. How to find the position of missing values in numpy array?\n",
    "arr = np.array([1, np.nan, 3, np.nan, 5])\n",
    "missing_indices = np.where(np.isnan(arr))[0]\n",
    "print(\"Positions of missing values:\", missing_indices)"
   ]
  },
  {
   "cell_type": "code",
   "execution_count": 36,
   "id": "9872a0e6",
   "metadata": {},
   "outputs": [
    {
     "name": "stdout",
     "output_type": "stream",
     "text": [
      "Filtered array based on conditions: [ 4  6  8 10]\n"
     ]
    }
   ],
   "source": [
    "#Exercise 34. How to filter a numpy array based on two or more conditions?\n",
    "arr = np.arange(11)\n",
    "\n",
    "filtered_array = arr[(arr > 3) & (arr % 2 == 0)]\n",
    "\n",
    "print(\"Filtered array based on conditions:\", filtered_array)"
   ]
  },
  {
   "cell_type": "code",
   "execution_count": 37,
   "id": "40963c91",
   "metadata": {},
   "outputs": [
    {
     "name": "stdout",
     "output_type": "stream",
     "text": [
      "Array after dropping rows with missing values:\n",
      "[[1. 2. 3.]\n",
      " [7. 8. 9.]]\n"
     ]
    }
   ],
   "source": [
    "#Exercise 35. How to drop rows that contain a missing value from a numpy array?\n",
    "\n",
    "arr = np.array([[1, 2, 3],\n",
    "                [4, np.nan, 6],\n",
    "                [7, 8, 9]])\n",
    "arr_cleaned = arr[~np.isnan(arr).any(axis=1)]\n",
    "print(\"Array after dropping rows with missing values:\")\n",
    "print(arr_cleaned)"
   ]
  },
  {
   "cell_type": "code",
   "execution_count": 38,
   "id": "3b1834cf",
   "metadata": {},
   "outputs": [
    {
     "name": "stdout",
     "output_type": "stream",
     "text": [
      "Correlation between the two columns: 0.8127081731060041\n"
     ]
    }
   ],
   "source": [
    "#Exercise 36. How to find the correlation between two columns of a numpy array?\n",
    "arr = np.array([[10, 22, 43],\n",
    "                [42, 53, 61],\n",
    "                [7, 8, 9]])\n",
    "column1 = arr[:, 0]\n",
    "column2 = arr[:, 2]\n",
    "correlation = np.corrcoef(column1, column2)[0, 1]\n",
    "print(\"Correlation between the two columns:\", correlation)"
   ]
  },
  {
   "cell_type": "code",
   "execution_count": 39,
   "id": "bbb1eac0",
   "metadata": {},
   "outputs": [
    {
     "name": "stdout",
     "output_type": "stream",
     "text": [
      "True\n"
     ]
    }
   ],
   "source": [
    "#Exercise 37. How to find if a given array has any null values?\n",
    "arr = np.array([1, 2, np.nan, 4, 5])\n",
    "has_null_values = np.isnan(arr).any()\n",
    "print(has_null_values)"
   ]
  },
  {
   "cell_type": "code",
   "execution_count": 40,
   "id": "09a6a1e3",
   "metadata": {},
   "outputs": [
    {
     "name": "stdout",
     "output_type": "stream",
     "text": [
      "Array after replacing missing values with 0:\n",
      "[1. 2. 0. 4. 5.]\n"
     ]
    }
   ],
   "source": [
    "#Exercise 38. How to replace all missing values with 0 in a numpy array?\n",
    "arr = np.array([1, 2, np.nan, 4, 5])\n",
    "arr_without_null = np.nan_to_num(arr, nan=0)\n",
    "print(\"Array after replacing missing values with 0:\")\n",
    "print(arr_without_null)"
   ]
  },
  {
   "cell_type": "code",
   "execution_count": 41,
   "id": "2db12600",
   "metadata": {},
   "outputs": [
    {
     "name": "stdout",
     "output_type": "stream",
     "text": [
      "Value: 1, Count: 1\n",
      "Value: 2, Count: 2\n",
      "Value: 3, Count: 3\n",
      "Value: 4, Count: 4\n"
     ]
    }
   ],
   "source": [
    "#Exercise 39. How to find the count of unique values in a numpy array?\n",
    "arr = np.array([1, 2, 2, 3, 3, 3, 4, 4, 4, 4])\n",
    "unique_values, counts = np.unique(arr, return_counts=True)\n",
    "for value, count in zip(unique_values, counts):\n",
    "    print(f\"Value: {value}, Count: {count}\")"
   ]
  },
  {
   "cell_type": "code",
   "execution_count": 42,
   "id": "906e9d25",
   "metadata": {},
   "outputs": [
    {
     "name": "stdout",
     "output_type": "stream",
     "text": [
      "Numeric array: [1 2 3 2 1 3 2 3 1]\n",
      "Categorical array: ['Low' 'Medium' 'High' 'Medium' 'Low' 'High' 'Medium' 'High' 'Low']\n"
     ]
    }
   ],
   "source": [
    "#Exercise 40. How to convert a numeric to a categorical (text) array?\n",
    "numeric_array = np.array([1, 2, 3, 2, 1, 3, 2, 3, 1])\n",
    "mapping = {1: 'Low', 2: 'Medium', 3: 'High'}\n",
    "categorical_array = np.array([mapping[value] for value in numeric_array])\n",
    "#np.set_printoptions(threshold=numeric_array.size)\n",
    "print(\"Numeric array:\", numeric_array)\n",
    "print(\"Categorical array:\", categorical_array)"
   ]
  },
  {
   "cell_type": "code",
   "execution_count": 43,
   "id": "c4555799",
   "metadata": {},
   "outputs": [
    {
     "name": "stdout",
     "output_type": "stream",
     "text": [
      "New array with new columns created from existing columns:\n",
      "[[ 1  2  3  2  4]\n",
      " [ 4  5  6  8 25]\n",
      " [ 7  8  9 14 64]]\n"
     ]
    }
   ],
   "source": [
    "#Exercise 41. How to create a new column from existing columns of a numpy array?\n",
    "existing_array = np.array([[1, 2, 3],\n",
    "                           [4, 5, 6],\n",
    "                           [7, 8, 9]])\n",
    "\n",
    "new_column1 = existing_array[:, 0] * 2  \n",
    "new_column2 = existing_array[:, 1] ** 2 \n",
    "\n",
    "new_array = np.column_stack((existing_array, new_column1, new_column2))\n",
    "\n",
    "print(\"New array with new columns created from existing columns:\")\n",
    "print(new_array)"
   ]
  },
  {
   "cell_type": "code",
   "execution_count": 44,
   "id": "be785160",
   "metadata": {},
   "outputs": [
    {
     "name": "stdout",
     "output_type": "stream",
     "text": [
      "Sampled values: [2 2 4 2 5]\n"
     ]
    }
   ],
   "source": [
    "#Exercise 42. How to do probabilistic sampling in numpy?\n",
    "array = np.array([1, 2, 3, 4, 5])\n",
    "probabilities = np.array([0.1, 0.2, 0.3, 0.2, 0.2])\n",
    "sampled_values = np.random.choice(array, size=5, p=probabilities)\n",
    "print(\"Sampled values:\", sampled_values)"
   ]
  },
  {
   "cell_type": "code",
   "execution_count": 45,
   "id": "731c4f02",
   "metadata": {},
   "outputs": [
    {
     "name": "stdout",
     "output_type": "stream",
     "text": [
      "Second largest values for each group: [5 3 6 2 1]\n"
     ]
    }
   ],
   "source": [
    "#Exercise 43. How to get the second largest value of an array when grouped by another array?\n",
    "values = np.array([5, 8, 3, 9, 6, 7, 2, 4, 1, 10])\n",
    "group = np.array([1, 1, 2, 2, 3, 3, 4, 4, 5, 5])\n",
    "unique_groups = np.unique(group)\n",
    "second_largest_values = np.zeros_like(unique_groups, dtype=values.dtype)\n",
    "for i, g in enumerate(unique_groups):\n",
    "    group_values = values[group == g]  # Extract values for current group\n",
    "    group_values_sorted = np.sort(group_values)  # Sort values in ascending order\n",
    "    second_largest_values[i] = group_values_sorted[-2]  # Get second largest value\n",
    "\n",
    "print(\"Second largest values for each group:\", second_largest_values)"
   ]
  },
  {
   "cell_type": "code",
   "execution_count": 46,
   "id": "7a48a5f2",
   "metadata": {},
   "outputs": [
    {
     "name": "stdout",
     "output_type": "stream",
     "text": [
      "Sorted array by column 0 :\n",
      " [[1 6 4]\n",
      " [5 2 3]\n",
      " [7 0 8]]\n"
     ]
    }
   ],
   "source": [
    "#Exercise 44. How to sort a 2D array by a column\n",
    "array_2d = np.array([[5, 2, 3],\n",
    "                     [1, 6, 4],\n",
    "                     [7, 0, 8]])\n",
    "\n",
    "sort_column_index = 0\n",
    "\n",
    "sorted_indices = np.argsort(array_2d[:, sort_column_index])\n",
    "sorted_array_2d = array_2d[sorted_indices]\n",
    "\n",
    "print(\"Sorted array by column\", sort_column_index, \":\\n\", sorted_array_2d)"
   ]
  },
  {
   "cell_type": "code",
   "execution_count": 47,
   "id": "53cb98df",
   "metadata": {},
   "outputs": [
    {
     "name": "stdout",
     "output_type": "stream",
     "text": [
      "Most frequent value: 4\n"
     ]
    }
   ],
   "source": [
    "#Exercise 45. How to find the most frequent value in a numpy array?\n",
    "arr = np.array([1, 2, 3, 2, 2, 3, 4, 4, 4, 4])\n",
    "most_frequent_value = np.argmax(np.bincount(arr))\n",
    "print(\"Most frequent value:\", most_frequent_value)"
   ]
  },
  {
   "cell_type": "code",
   "execution_count": 48,
   "id": "bb784afb",
   "metadata": {},
   "outputs": [
    {
     "name": "stdout",
     "output_type": "stream",
     "text": [
      "Position of the first occurrence of a value greater than 5 : 3\n"
     ]
    }
   ],
   "source": [
    "#Exercise 46. How to find the position of the first occurrence of a value greater than a given value?\n",
    "arr = np.array([1, 3, 5, 7, 9, 2, 4, 6, 8, 10])\n",
    "given_value = 5\n",
    "first_occurrence_index = np.argmax(arr > given_value)\n",
    "print(\"Position of the first occurrence of a value greater than\", given_value, \":\", first_occurrence_index)"
   ]
  },
  {
   "cell_type": "code",
   "execution_count": 49,
   "id": "1e67fabd",
   "metadata": {},
   "outputs": [
    {
     "name": "stdout",
     "output_type": "stream",
     "text": [
      "Array after replacing values greater than 5 with 100 : [  1   3   5 100 100   2   4 100 100 100]\n"
     ]
    }
   ],
   "source": [
    "#Exercise 47. How to replace all values greater than a given value to a given cutoff?\n",
    "arr = np.array([1, 3, 5, 7, 9, 2, 4, 6, 8, 10])\n",
    "given_value = 5\n",
    "cutoff = 100\n",
    "arr[arr > given_value] = cutoff\n",
    "np.set_printoptions(threshold=arr.size)\n",
    "print(\"Array after replacing values greater than\", given_value, \"with\", cutoff, \":\", arr)"
   ]
  },
  {
   "cell_type": "code",
   "execution_count": 50,
   "id": "ab72d6cf",
   "metadata": {},
   "outputs": [
    {
     "name": "stdout",
     "output_type": "stream",
     "text": [
      "Positions of top 3 values: [6 2 4]\n"
     ]
    }
   ],
   "source": [
    "#Exercise 48. How to get the positions of top n values from a numpy array?\n",
    "arr = np.array([5, 2, 8, 1, 9, 3, 7, 4, 6])\n",
    "n = 3\n",
    "top_n_indices = np.argsort(arr)[-n:]\n",
    "print(\"Positions of top\", n, \"values:\", top_n_indices)"
   ]
  },
  {
   "cell_type": "code",
   "execution_count": 51,
   "id": "8061d4ad",
   "metadata": {},
   "outputs": [
    {
     "name": "stdout",
     "output_type": "stream",
     "text": [
      "[[ 9  9  4 ...  3  6  3]\n",
      " [ 3  3  2 ... 10  7  3]\n",
      " [ 5  2  6 ...  8  2  2]\n",
      " [ 8  8  1 ...  3  6  9]\n",
      " [ 2  1  8 ...  3  6  2]\n",
      " [ 9  2  6 ...  6  1 10]]\n",
      "[ 1  2  3  4  5  6  7  8  9 10]\n"
     ]
    },
    {
     "data": {
      "text/plain": [
       "[[1, 0, 2, 1, 1, 1, 0, 2, 2, 0],\n",
       " [2, 1, 3, 0, 1, 0, 1, 0, 1, 1],\n",
       " [0, 3, 0, 2, 3, 1, 0, 1, 0, 0],\n",
       " [1, 0, 2, 1, 0, 1, 0, 2, 1, 2],\n",
       " [2, 2, 2, 0, 0, 1, 1, 1, 1, 0],\n",
       " [1, 1, 1, 1, 1, 2, 0, 0, 2, 1]]"
      ]
     },
     "execution_count": 51,
     "metadata": {},
     "output_type": "execute_result"
    }
   ],
   "source": [
    "#Exercise 49. How to compute the row wise counts of all possible values in an array?\n",
    "def counts_of_all_values_rowwise(arr2d):\n",
    "    # Unique values and its counts row wise\n",
    "    num_counts_array = [np.unique(row, return_counts=True) for row in arr2d]\n",
    "\n",
    "    # Counts of all values row wise\n",
    "    return([[int(b[a==i]) if i in a else 0 for i in np.unique(arr2d)] for a, b in num_counts_array])\n",
    "\n",
    "np.random.seed(100)\n",
    "np.set_printoptions(threshold=10)\n",
    "arr = np.random.randint(1,11,size=(6, 10))\n",
    "print(arr)\n",
    "print(np.arange(1,11))\n",
    "counts_of_all_values_rowwise(arr)"
   ]
  },
  {
   "cell_type": "code",
   "execution_count": 52,
   "id": "0835c9ad",
   "metadata": {},
   "outputs": [
    {
     "name": "stdout",
     "output_type": "stream",
     "text": [
      "[0 1 2 3 4 5 6 7 8 9]\n"
     ]
    }
   ],
   "source": [
    "#Exercise 50. How to convert an array of arrays into a flat 1d array?\n",
    "arr1 = np.arange(3)\n",
    "arr2 = np.arange(3,7)\n",
    "arr3 = np.arange(7,10)\n",
    "\n",
    "arr_2d = np.concatenate([arr1, arr2, arr3])\n",
    "print(arr_2d)"
   ]
  },
  {
   "cell_type": "code",
   "execution_count": 53,
   "id": "eefb58cf",
   "metadata": {},
   "outputs": [
    {
     "name": "stdout",
     "output_type": "stream",
     "text": [
      "The 3 largest values: [9 8 7]\n"
     ]
    }
   ],
   "source": [
    "#EXERCISE 51: How to get the n largest values of an array ?\n",
    "arr = np.array([5, 2, 8, 1, 9, 3, 7, 4, 6])\n",
    "n = 3\n",
    "largest_values = np.sort(arr)[-n:][::-1]\n",
    "print(\"The\", n, \"largest values:\", largest_values)"
   ]
  },
  {
   "cell_type": "code",
   "execution_count": 59,
   "id": "7e785f5b",
   "metadata": {},
   "outputs": [
    {
     "name": "stdout",
     "output_type": "stream",
     "text": [
      "[array([1, 2]), array(['a', 'b', 'c'], dtype='<U1'), array([ True, False])]\n"
     ]
    }
   ],
   "source": [
    "#52.Given an arbitrary number of vectors, build the cartesian product (every combinations of every item).\n",
    "vector1 = np.array([1, 2])\n",
    "vector2 = np.array(['a', 'b', 'c'])\n",
    "vector3 = np.array([True, False])\n",
    "cartesian_product = list((vector1, vector2, vector3))\n",
    "print(cartesian_product)"
   ]
  },
  {
   "cell_type": "code",
   "execution_count": 60,
   "id": "fb784117",
   "metadata": {},
   "outputs": [
    {
     "name": "stdout",
     "output_type": "stream",
     "text": [
      "Cartesian product:\n",
      "[['1' 'a' 'True']\n",
      " ['1' 'b' 'True']\n",
      " ['1' 'c' 'True']\n",
      " ...\n",
      " ['2' 'a' 'False']\n",
      " ['2' 'b' 'False']\n",
      " ['2' 'c' 'False']]\n"
     ]
    }
   ],
   "source": [
    "# 53.Build the cartesian product\n",
    "mesh = np.array(np.meshgrid(vector1, vector2, vector3)).T.reshape(-1, 3)\n",
    "\n",
    "print(\"Cartesian product:\")\n",
    "print(mesh)"
   ]
  },
  {
   "cell_type": "code",
   "execution_count": 61,
   "id": "657064e2",
   "metadata": {},
   "outputs": [
    {
     "name": "stdout",
     "output_type": "stream",
     "text": [
      "Block sums:\n",
      "[[ 76.  93.  89. ...  91.  90.  80.]\n",
      " [ 73.  87.  84. ...  87.  88.  75.]\n",
      " [ 68.  77.  84. ...  83.  85.  79.]\n",
      " ...\n",
      " [101.  95.  88. ...  80.  84.  78.]\n",
      " [ 97.  91.  79. ...  76.  86.  84.]\n",
      " [ 86.  82.  72. ...  89.  94.  88.]]\n"
     ]
    }
   ],
   "source": [
    "#54.Consider a 16x16 array, how to get the blocksum (block size is 4x4)?\n",
    "arr = np.random.randint(1, 10, size=(16, 16))\n",
    "\n",
    "block_size = 4\n",
    "\n",
    "block_sums = np.zeros((16-block_size+1, 16-block_size+1))\n",
    "\n",
    "for i in range(16-block_size+1):\n",
    "    for j in range(16-block_size+1):\n",
    "        block = arr[i:i+block_size, j:j+block_size]\n",
    "        block_sums[i, j] = np.sum(block)\n",
    "\n",
    "print(\"Block sums:\")\n",
    "print(block_sums)"
   ]
  },
  {
   "cell_type": "code",
   "execution_count": 62,
   "id": "64a79a6d",
   "metadata": {},
   "outputs": [
    {
     "name": "stdout",
     "output_type": "stream",
     "text": [
      "Rank of the matrix: 2\n"
     ]
    }
   ],
   "source": [
    "#55.Compute a matrix rank.\n",
    "matrix = np.array([[1, 2, 3],\n",
    "                   [4, 5, 6],\n",
    "                   [7, 8, 9]])\n",
    "\n",
    "rank = np.linalg.matrix_rank(matrix)\n",
    "print(\"Rank of the matrix:\", rank)"
   ]
  },
  {
   "cell_type": "code",
   "execution_count": 63,
   "id": "68879716",
   "metadata": {},
   "outputs": [
    {
     "name": "stdout",
     "output_type": "stream",
     "text": [
      "Most frequent value: 4\n"
     ]
    }
   ],
   "source": [
    "#56.How to find the most frequent value in an array?\n",
    "arr = np.array([1, 2, 3, 2, 2, 3, 4, 4, 4, 4])\n",
    "\n",
    "most_frequent_value = np.argmax(np.bincount(arr))\n",
    "\n",
    "print(\"Most frequent value:\", most_frequent_value)"
   ]
  },
  {
   "cell_type": "code",
   "execution_count": 64,
   "id": "ab47ebc5",
   "metadata": {},
   "outputs": [
    {
     "name": "stdout",
     "output_type": "stream",
     "text": [
      "Contiguous 3x3 blocks:\n",
      "[[[0 9 1]\n",
      "  [6 6 3]\n",
      "  [7 1 2]]\n",
      "\n",
      " [[9 1 4]\n",
      "  [6 3 3]\n",
      "  [1 2 8]]\n",
      "\n",
      " [[1 4 3]\n",
      "  [3 3 3]\n",
      "  [2 8 3]]\n",
      "\n",
      " ...\n",
      "\n",
      " [[7 1 1]\n",
      "  [2 0 3]\n",
      "  [4 9 6]]\n",
      "\n",
      " [[1 1 7]\n",
      "  [0 3 7]\n",
      "  [9 6 5]]\n",
      "\n",
      " [[1 7 8]\n",
      "  [3 7 4]\n",
      "  [6 5 4]]]\n"
     ]
    }
   ],
   "source": [
    "#57.Extract all the contiguous 3x3 blocks from a random 10x10 matrix.\n",
    "matrix = np.random.randint(0, 10, size=(10, 10))\n",
    "blocks = []\n",
    "for i in range(8):\n",
    "    for j in range(8):\n",
    "        block = matrix[i:i+3, j:j+3]\n",
    "        blocks.append(block)\n",
    "blocks_array = np.array(blocks)\n",
    "\n",
    "print(\"Contiguous 3x3 blocks:\")\n",
    "print(blocks_array)"
   ]
  },
  {
   "cell_type": "code",
   "execution_count": null,
   "id": "cec6e0aa",
   "metadata": {},
   "outputs": [],
   "source": []
  }
 ],
 "metadata": {
  "kernelspec": {
   "display_name": "Python 3 (ipykernel)",
   "language": "python",
   "name": "python3"
  },
  "language_info": {
   "codemirror_mode": {
    "name": "ipython",
    "version": 3
   },
   "file_extension": ".py",
   "mimetype": "text/x-python",
   "name": "python",
   "nbconvert_exporter": "python",
   "pygments_lexer": "ipython3",
   "version": "3.11.5"
  }
 },
 "nbformat": 4,
 "nbformat_minor": 5
}
