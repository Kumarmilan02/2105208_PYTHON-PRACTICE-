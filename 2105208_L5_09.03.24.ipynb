{
 "cells": [
  {
   "cell_type": "code",
   "execution_count": 2,
   "id": "ac90e589",
   "metadata": {},
   "outputs": [
    {
     "name": "stdout",
     "output_type": "stream",
     "text": [
      "Defaulting to user installation because normal site-packages is not writeable\n",
      "Requirement already satisfied: pandas in c:\\programdata\\anaconda3\\lib\\site-packages (2.0.3)\n",
      "Requirement already satisfied: python-dateutil>=2.8.2 in c:\\programdata\\anaconda3\\lib\\site-packages (from pandas) (2.8.2)\n",
      "Requirement already satisfied: pytz>=2020.1 in c:\\programdata\\anaconda3\\lib\\site-packages (from pandas) (2023.3.post1)\n",
      "Requirement already satisfied: tzdata>=2022.1 in c:\\programdata\\anaconda3\\lib\\site-packages (from pandas) (2023.3)\n",
      "Requirement already satisfied: numpy>=1.21.0 in c:\\programdata\\anaconda3\\lib\\site-packages (from pandas) (1.24.3)\n",
      "Requirement already satisfied: six>=1.5 in c:\\programdata\\anaconda3\\lib\\site-packages (from python-dateutil>=2.8.2->pandas) (1.16.0)\n",
      "Defaulting to user installation because normal site-packages is not writeable\n",
      "Requirement already satisfied: pandas in c:\\programdata\\anaconda3\\lib\\site-packages (2.0.3)\n",
      "Requirement already satisfied: python-dateutil>=2.8.2 in c:\\programdata\\anaconda3\\lib\\site-packages (from pandas) (2.8.2)\n",
      "Requirement already satisfied: pytz>=2020.1 in c:\\programdata\\anaconda3\\lib\\site-packages (from pandas) (2023.3.post1)\n",
      "Requirement already satisfied: tzdata>=2022.1 in c:\\programdata\\anaconda3\\lib\\site-packages (from pandas) (2023.3)\n",
      "Requirement already satisfied: numpy>=1.21.0 in c:\\programdata\\anaconda3\\lib\\site-packages (from pandas) (1.24.3)\n",
      "Requirement already satisfied: six>=1.5 in c:\\programdata\\anaconda3\\lib\\site-packages (from python-dateutil>=2.8.2->pandas) (1.16.0)\n",
      "Note: you may need to restart the kernel to use updated packages.\n"
     ]
    }
   ],
   "source": [
    "pip install pandas\n"
   ]
  },
  {
   "cell_type": "code",
   "execution_count": 2,
   "id": "98c24ddb",
   "metadata": {},
   "outputs": [
    {
     "ename": "NameError",
     "evalue": "name 'df' is not defined",
     "output_type": "error",
     "traceback": [
      "\u001b[1;31m---------------------------------------------------------------------------\u001b[0m",
      "\u001b[1;31mNameError\u001b[0m                                 Traceback (most recent call last)",
      "Cell \u001b[1;32mIn[2], line 1\u001b[0m\n\u001b[1;32m----> 1\u001b[0m df\u001b[38;5;241m.\u001b[39minfo()\n",
      "\u001b[1;31mNameError\u001b[0m: name 'df' is not defined"
     ]
    }
   ],
   "source": []
  },
  {
   "cell_type": "code",
   "execution_count": 5,
   "id": "fab89fa7",
   "metadata": {},
   "outputs": [],
   "source": [
    "import pandas as pd"
   ]
  },
  {
   "cell_type": "code",
   "execution_count": 6,
   "id": "bdb9121a",
   "metadata": {},
   "outputs": [
    {
     "data": {
      "text/plain": [
       "['ArrowDtype',\n",
       " 'BooleanDtype',\n",
       " 'Categorical',\n",
       " 'CategoricalDtype',\n",
       " 'CategoricalIndex',\n",
       " 'DataFrame',\n",
       " 'DateOffset',\n",
       " 'DatetimeIndex',\n",
       " 'DatetimeTZDtype',\n",
       " 'ExcelFile',\n",
       " 'ExcelWriter',\n",
       " 'Flags',\n",
       " 'Float32Dtype',\n",
       " 'Float64Dtype',\n",
       " 'Grouper',\n",
       " 'HDFStore',\n",
       " 'Index',\n",
       " 'IndexSlice',\n",
       " 'Int16Dtype',\n",
       " 'Int32Dtype',\n",
       " 'Int64Dtype',\n",
       " 'Int8Dtype',\n",
       " 'Interval',\n",
       " 'IntervalDtype',\n",
       " 'IntervalIndex',\n",
       " 'MultiIndex',\n",
       " 'NA',\n",
       " 'NaT',\n",
       " 'NamedAgg',\n",
       " 'Period',\n",
       " 'PeriodDtype',\n",
       " 'PeriodIndex',\n",
       " 'RangeIndex',\n",
       " 'Series',\n",
       " 'SparseDtype',\n",
       " 'StringDtype',\n",
       " 'Timedelta',\n",
       " 'TimedeltaIndex',\n",
       " 'Timestamp',\n",
       " 'UInt16Dtype',\n",
       " 'UInt32Dtype',\n",
       " 'UInt64Dtype',\n",
       " 'UInt8Dtype',\n",
       " '__all__',\n",
       " '__builtins__',\n",
       " '__cached__',\n",
       " '__doc__',\n",
       " '__docformat__',\n",
       " '__file__',\n",
       " '__git_version__',\n",
       " '__loader__',\n",
       " '__name__',\n",
       " '__package__',\n",
       " '__path__',\n",
       " '__spec__',\n",
       " '__version__',\n",
       " '_config',\n",
       " '_is_numpy_dev',\n",
       " '_libs',\n",
       " '_testing',\n",
       " '_typing',\n",
       " '_version',\n",
       " 'annotations',\n",
       " 'api',\n",
       " 'array',\n",
       " 'arrays',\n",
       " 'bdate_range',\n",
       " 'compat',\n",
       " 'concat',\n",
       " 'core',\n",
       " 'crosstab',\n",
       " 'cut',\n",
       " 'date_range',\n",
       " 'describe_option',\n",
       " 'errors',\n",
       " 'eval',\n",
       " 'factorize',\n",
       " 'from_dummies',\n",
       " 'get_dummies',\n",
       " 'get_option',\n",
       " 'infer_freq',\n",
       " 'interval_range',\n",
       " 'io',\n",
       " 'isna',\n",
       " 'isnull',\n",
       " 'json_normalize',\n",
       " 'lreshape',\n",
       " 'melt',\n",
       " 'merge',\n",
       " 'merge_asof',\n",
       " 'merge_ordered',\n",
       " 'notna',\n",
       " 'notnull',\n",
       " 'offsets',\n",
       " 'option_context',\n",
       " 'options',\n",
       " 'pandas',\n",
       " 'period_range',\n",
       " 'pivot',\n",
       " 'pivot_table',\n",
       " 'plotting',\n",
       " 'qcut',\n",
       " 'read_clipboard',\n",
       " 'read_csv',\n",
       " 'read_excel',\n",
       " 'read_feather',\n",
       " 'read_fwf',\n",
       " 'read_gbq',\n",
       " 'read_hdf',\n",
       " 'read_html',\n",
       " 'read_json',\n",
       " 'read_orc',\n",
       " 'read_parquet',\n",
       " 'read_pickle',\n",
       " 'read_sas',\n",
       " 'read_spss',\n",
       " 'read_sql',\n",
       " 'read_sql_query',\n",
       " 'read_sql_table',\n",
       " 'read_stata',\n",
       " 'read_table',\n",
       " 'read_xml',\n",
       " 'reset_option',\n",
       " 'set_eng_float_format',\n",
       " 'set_option',\n",
       " 'show_versions',\n",
       " 'test',\n",
       " 'testing',\n",
       " 'timedelta_range',\n",
       " 'to_datetime',\n",
       " 'to_numeric',\n",
       " 'to_pickle',\n",
       " 'to_timedelta',\n",
       " 'tseries',\n",
       " 'unique',\n",
       " 'util',\n",
       " 'value_counts',\n",
       " 'wide_to_long']"
      ]
     },
     "execution_count": 6,
     "metadata": {},
     "output_type": "execute_result"
    }
   ],
   "source": [
    "dir(pd)"
   ]
  },
  {
   "cell_type": "code",
   "execution_count": 1,
   "id": "da54e19c",
   "metadata": {},
   "outputs": [
    {
     "ename": "NameError",
     "evalue": "name 'pd' is not defined",
     "output_type": "error",
     "traceback": [
      "\u001b[1;31m---------------------------------------------------------------------------\u001b[0m",
      "\u001b[1;31mNameError\u001b[0m                                 Traceback (most recent call last)",
      "Cell \u001b[1;32mIn[1], line 1\u001b[0m\n\u001b[1;32m----> 1\u001b[0m pd\u001b[38;5;241m.\u001b[39mread_csv(\u001b[38;5;124m'\u001b[39m\u001b[38;5;124mSalaries.csv\u001b[39m\u001b[38;5;124m'\u001b[39m)\n",
      "\u001b[1;31mNameError\u001b[0m: name 'pd' is not defined"
     ]
    }
   ],
   "source": [
    "pd.read_csv('Salaries.csv')"
   ]
  },
  {
   "cell_type": "code",
   "execution_count": 8,
   "id": "1ae22618",
   "metadata": {},
   "outputs": [],
   "source": [
    "df=pd.read_csv('Salaries.csv')"
   ]
  },
  {
   "cell_type": "code",
   "execution_count": 9,
   "id": "d00f625d",
   "metadata": {},
   "outputs": [
    {
     "data": {
      "text/plain": [
       "(78, 6)"
      ]
     },
     "execution_count": 9,
     "metadata": {},
     "output_type": "execute_result"
    }
   ],
   "source": [
    "df.shape"
   ]
  },
  {
   "cell_type": "code",
   "execution_count": 10,
   "id": "579c90e2",
   "metadata": {},
   "outputs": [
    {
     "data": {
      "text/plain": [
       "<bound method DataFrame.info of          rank discipline   phd  service     sex    salary\n",
       "0        Prof          B  56.0       49    Male  186960.0\n",
       "1        Prof          A  12.0        6    Male   93000.0\n",
       "2        Prof          A  23.0       20    Male  110515.0\n",
       "3        Prof          A  40.0       31    Male  131205.0\n",
       "4        Prof          B  20.0       18    Male  104800.0\n",
       "..        ...        ...   ...      ...     ...       ...\n",
       "73       Prof          B  18.0       10  Female  105450.0\n",
       "74  AssocProf          B  19.0        6  Female  104542.0\n",
       "75       Prof          B  17.0       17  Female  124312.0\n",
       "76       Prof          A  28.0       14  Female  109954.0\n",
       "77       Prof          A  23.0       15  Female  109646.0\n",
       "\n",
       "[78 rows x 6 columns]>"
      ]
     },
     "execution_count": 10,
     "metadata": {},
     "output_type": "execute_result"
    }
   ],
   "source": [
    "#TO DISPLAY DETAILS OF DATA SEt\n",
    "df.info"
   ]
  },
  {
   "cell_type": "code",
   "execution_count": 11,
   "id": "c9c5eafd",
   "metadata": {},
   "outputs": [
    {
     "data": {
      "text/html": [
       "<div>\n",
       "<style scoped>\n",
       "    .dataframe tbody tr th:only-of-type {\n",
       "        vertical-align: middle;\n",
       "    }\n",
       "\n",
       "    .dataframe tbody tr th {\n",
       "        vertical-align: top;\n",
       "    }\n",
       "\n",
       "    .dataframe thead th {\n",
       "        text-align: right;\n",
       "    }\n",
       "</style>\n",
       "<table border=\"1\" class=\"dataframe\">\n",
       "  <thead>\n",
       "    <tr style=\"text-align: right;\">\n",
       "      <th></th>\n",
       "      <th>phd</th>\n",
       "      <th>service</th>\n",
       "      <th>salary</th>\n",
       "    </tr>\n",
       "  </thead>\n",
       "  <tbody>\n",
       "    <tr>\n",
       "      <th>count</th>\n",
       "      <td>76.000000</td>\n",
       "      <td>78.000000</td>\n",
       "      <td>76.000000</td>\n",
       "    </tr>\n",
       "    <tr>\n",
       "      <th>mean</th>\n",
       "      <td>19.605263</td>\n",
       "      <td>15.051282</td>\n",
       "      <td>108003.355263</td>\n",
       "    </tr>\n",
       "    <tr>\n",
       "      <th>std</th>\n",
       "      <td>12.508215</td>\n",
       "      <td>12.139768</td>\n",
       "      <td>28525.350088</td>\n",
       "    </tr>\n",
       "    <tr>\n",
       "      <th>min</th>\n",
       "      <td>1.000000</td>\n",
       "      <td>0.000000</td>\n",
       "      <td>57800.000000</td>\n",
       "    </tr>\n",
       "    <tr>\n",
       "      <th>25%</th>\n",
       "      <td>10.000000</td>\n",
       "      <td>5.250000</td>\n",
       "      <td>87250.000000</td>\n",
       "    </tr>\n",
       "    <tr>\n",
       "      <th>50%</th>\n",
       "      <td>18.500000</td>\n",
       "      <td>14.500000</td>\n",
       "      <td>104671.000000</td>\n",
       "    </tr>\n",
       "    <tr>\n",
       "      <th>75%</th>\n",
       "      <td>27.250000</td>\n",
       "      <td>20.750000</td>\n",
       "      <td>127077.750000</td>\n",
       "    </tr>\n",
       "    <tr>\n",
       "      <th>max</th>\n",
       "      <td>56.000000</td>\n",
       "      <td>51.000000</td>\n",
       "      <td>186960.000000</td>\n",
       "    </tr>\n",
       "  </tbody>\n",
       "</table>\n",
       "</div>"
      ],
      "text/plain": [
       "             phd    service         salary\n",
       "count  76.000000  78.000000      76.000000\n",
       "mean   19.605263  15.051282  108003.355263\n",
       "std    12.508215  12.139768   28525.350088\n",
       "min     1.000000   0.000000   57800.000000\n",
       "25%    10.000000   5.250000   87250.000000\n",
       "50%    18.500000  14.500000  104671.000000\n",
       "75%    27.250000  20.750000  127077.750000\n",
       "max    56.000000  51.000000  186960.000000"
      ]
     },
     "execution_count": 11,
     "metadata": {},
     "output_type": "execute_result"
    }
   ],
   "source": [
    "df.describe()"
   ]
  },
  {
   "cell_type": "code",
   "execution_count": 12,
   "id": "9fdfb285",
   "metadata": {},
   "outputs": [
    {
     "data": {
      "text/plain": [
       "(78, 6)"
      ]
     },
     "execution_count": 12,
     "metadata": {},
     "output_type": "execute_result"
    }
   ],
   "source": [
    "df.shape"
   ]
  },
  {
   "cell_type": "code",
   "execution_count": 14,
   "id": "07aac2f5",
   "metadata": {},
   "outputs": [
    {
     "data": {
      "text/plain": [
       "2"
      ]
     },
     "execution_count": 14,
     "metadata": {},
     "output_type": "execute_result"
    }
   ],
   "source": [
    "df.ndim"
   ]
  },
  {
   "cell_type": "code",
   "execution_count": 15,
   "id": "5ae91dda",
   "metadata": {},
   "outputs": [
    {
     "data": {
      "text/plain": [
       "Index(['rank', 'discipline', 'phd', 'service', 'sex', 'salary'], dtype='object')"
      ]
     },
     "execution_count": 15,
     "metadata": {},
     "output_type": "execute_result"
    }
   ],
   "source": [
    "df.columns"
   ]
  },
  {
   "cell_type": "code",
   "execution_count": 17,
   "id": "3447b99d",
   "metadata": {},
   "outputs": [
    {
     "data": {
      "text/plain": [
       "['rank', 'discipline', 'phd', 'service', 'sex', 'salary']"
      ]
     },
     "execution_count": 17,
     "metadata": {},
     "output_type": "execute_result"
    }
   ],
   "source": [
    "df.columns.tolist()"
   ]
  },
  {
   "cell_type": "code",
   "execution_count": 18,
   "id": "8cca3b85",
   "metadata": {},
   "outputs": [
    {
     "data": {
      "text/html": [
       "<div>\n",
       "<style scoped>\n",
       "    .dataframe tbody tr th:only-of-type {\n",
       "        vertical-align: middle;\n",
       "    }\n",
       "\n",
       "    .dataframe tbody tr th {\n",
       "        vertical-align: top;\n",
       "    }\n",
       "\n",
       "    .dataframe thead th {\n",
       "        text-align: right;\n",
       "    }\n",
       "</style>\n",
       "<table border=\"1\" class=\"dataframe\">\n",
       "  <thead>\n",
       "    <tr style=\"text-align: right;\">\n",
       "      <th></th>\n",
       "      <th>rank</th>\n",
       "      <th>discipline</th>\n",
       "      <th>phd</th>\n",
       "      <th>service</th>\n",
       "      <th>sex</th>\n",
       "      <th>salary</th>\n",
       "    </tr>\n",
       "  </thead>\n",
       "  <tbody>\n",
       "    <tr>\n",
       "      <th>0</th>\n",
       "      <td>Prof</td>\n",
       "      <td>B</td>\n",
       "      <td>56.0</td>\n",
       "      <td>49</td>\n",
       "      <td>Male</td>\n",
       "      <td>186960.0</td>\n",
       "    </tr>\n",
       "    <tr>\n",
       "      <th>1</th>\n",
       "      <td>Prof</td>\n",
       "      <td>A</td>\n",
       "      <td>12.0</td>\n",
       "      <td>6</td>\n",
       "      <td>Male</td>\n",
       "      <td>93000.0</td>\n",
       "    </tr>\n",
       "    <tr>\n",
       "      <th>2</th>\n",
       "      <td>Prof</td>\n",
       "      <td>A</td>\n",
       "      <td>23.0</td>\n",
       "      <td>20</td>\n",
       "      <td>Male</td>\n",
       "      <td>110515.0</td>\n",
       "    </tr>\n",
       "    <tr>\n",
       "      <th>3</th>\n",
       "      <td>Prof</td>\n",
       "      <td>A</td>\n",
       "      <td>40.0</td>\n",
       "      <td>31</td>\n",
       "      <td>Male</td>\n",
       "      <td>131205.0</td>\n",
       "    </tr>\n",
       "    <tr>\n",
       "      <th>4</th>\n",
       "      <td>Prof</td>\n",
       "      <td>B</td>\n",
       "      <td>20.0</td>\n",
       "      <td>18</td>\n",
       "      <td>Male</td>\n",
       "      <td>104800.0</td>\n",
       "    </tr>\n",
       "    <tr>\n",
       "      <th>...</th>\n",
       "      <td>...</td>\n",
       "      <td>...</td>\n",
       "      <td>...</td>\n",
       "      <td>...</td>\n",
       "      <td>...</td>\n",
       "      <td>...</td>\n",
       "    </tr>\n",
       "    <tr>\n",
       "      <th>73</th>\n",
       "      <td>Prof</td>\n",
       "      <td>B</td>\n",
       "      <td>18.0</td>\n",
       "      <td>10</td>\n",
       "      <td>Female</td>\n",
       "      <td>105450.0</td>\n",
       "    </tr>\n",
       "    <tr>\n",
       "      <th>74</th>\n",
       "      <td>AssocProf</td>\n",
       "      <td>B</td>\n",
       "      <td>19.0</td>\n",
       "      <td>6</td>\n",
       "      <td>Female</td>\n",
       "      <td>104542.0</td>\n",
       "    </tr>\n",
       "    <tr>\n",
       "      <th>75</th>\n",
       "      <td>Prof</td>\n",
       "      <td>B</td>\n",
       "      <td>17.0</td>\n",
       "      <td>17</td>\n",
       "      <td>Female</td>\n",
       "      <td>124312.0</td>\n",
       "    </tr>\n",
       "    <tr>\n",
       "      <th>76</th>\n",
       "      <td>Prof</td>\n",
       "      <td>A</td>\n",
       "      <td>28.0</td>\n",
       "      <td>14</td>\n",
       "      <td>Female</td>\n",
       "      <td>109954.0</td>\n",
       "    </tr>\n",
       "    <tr>\n",
       "      <th>77</th>\n",
       "      <td>Prof</td>\n",
       "      <td>A</td>\n",
       "      <td>23.0</td>\n",
       "      <td>15</td>\n",
       "      <td>Female</td>\n",
       "      <td>109646.0</td>\n",
       "    </tr>\n",
       "  </tbody>\n",
       "</table>\n",
       "<p>78 rows × 6 columns</p>\n",
       "</div>"
      ],
      "text/plain": [
       "         rank discipline   phd  service     sex    salary\n",
       "0        Prof          B  56.0       49    Male  186960.0\n",
       "1        Prof          A  12.0        6    Male   93000.0\n",
       "2        Prof          A  23.0       20    Male  110515.0\n",
       "3        Prof          A  40.0       31    Male  131205.0\n",
       "4        Prof          B  20.0       18    Male  104800.0\n",
       "..        ...        ...   ...      ...     ...       ...\n",
       "73       Prof          B  18.0       10  Female  105450.0\n",
       "74  AssocProf          B  19.0        6  Female  104542.0\n",
       "75       Prof          B  17.0       17  Female  124312.0\n",
       "76       Prof          A  28.0       14  Female  109954.0\n",
       "77       Prof          A  23.0       15  Female  109646.0\n",
       "\n",
       "[78 rows x 6 columns]"
      ]
     },
     "execution_count": 18,
     "metadata": {},
     "output_type": "execute_result"
    }
   ],
   "source": [
    "df"
   ]
  },
  {
   "cell_type": "code",
   "execution_count": 19,
   "id": "aa034ab9",
   "metadata": {},
   "outputs": [
    {
     "data": {
      "text/html": [
       "<div>\n",
       "<style scoped>\n",
       "    .dataframe tbody tr th:only-of-type {\n",
       "        vertical-align: middle;\n",
       "    }\n",
       "\n",
       "    .dataframe tbody tr th {\n",
       "        vertical-align: top;\n",
       "    }\n",
       "\n",
       "    .dataframe thead th {\n",
       "        text-align: right;\n",
       "    }\n",
       "</style>\n",
       "<table border=\"1\" class=\"dataframe\">\n",
       "  <thead>\n",
       "    <tr style=\"text-align: right;\">\n",
       "      <th></th>\n",
       "      <th>rank</th>\n",
       "      <th>discipline</th>\n",
       "      <th>phd</th>\n",
       "      <th>service</th>\n",
       "      <th>sex</th>\n",
       "      <th>salary</th>\n",
       "    </tr>\n",
       "  </thead>\n",
       "  <tbody>\n",
       "    <tr>\n",
       "      <th>0</th>\n",
       "      <td>Prof</td>\n",
       "      <td>B</td>\n",
       "      <td>56.0</td>\n",
       "      <td>49</td>\n",
       "      <td>Male</td>\n",
       "      <td>186960.0</td>\n",
       "    </tr>\n",
       "    <tr>\n",
       "      <th>1</th>\n",
       "      <td>Prof</td>\n",
       "      <td>A</td>\n",
       "      <td>12.0</td>\n",
       "      <td>6</td>\n",
       "      <td>Male</td>\n",
       "      <td>93000.0</td>\n",
       "    </tr>\n",
       "    <tr>\n",
       "      <th>2</th>\n",
       "      <td>Prof</td>\n",
       "      <td>A</td>\n",
       "      <td>23.0</td>\n",
       "      <td>20</td>\n",
       "      <td>Male</td>\n",
       "      <td>110515.0</td>\n",
       "    </tr>\n",
       "    <tr>\n",
       "      <th>3</th>\n",
       "      <td>Prof</td>\n",
       "      <td>A</td>\n",
       "      <td>40.0</td>\n",
       "      <td>31</td>\n",
       "      <td>Male</td>\n",
       "      <td>131205.0</td>\n",
       "    </tr>\n",
       "    <tr>\n",
       "      <th>4</th>\n",
       "      <td>Prof</td>\n",
       "      <td>B</td>\n",
       "      <td>20.0</td>\n",
       "      <td>18</td>\n",
       "      <td>Male</td>\n",
       "      <td>104800.0</td>\n",
       "    </tr>\n",
       "  </tbody>\n",
       "</table>\n",
       "</div>"
      ],
      "text/plain": [
       "   rank discipline   phd  service   sex    salary\n",
       "0  Prof          B  56.0       49  Male  186960.0\n",
       "1  Prof          A  12.0        6  Male   93000.0\n",
       "2  Prof          A  23.0       20  Male  110515.0\n",
       "3  Prof          A  40.0       31  Male  131205.0\n",
       "4  Prof          B  20.0       18  Male  104800.0"
      ]
     },
     "execution_count": 19,
     "metadata": {},
     "output_type": "execute_result"
    }
   ],
   "source": [
    "#DISPLAY individually\n",
    "df.head()"
   ]
  },
  {
   "cell_type": "code",
   "execution_count": 20,
   "id": "cc21dee3",
   "metadata": {},
   "outputs": [
    {
     "data": {
      "text/html": [
       "<div>\n",
       "<style scoped>\n",
       "    .dataframe tbody tr th:only-of-type {\n",
       "        vertical-align: middle;\n",
       "    }\n",
       "\n",
       "    .dataframe tbody tr th {\n",
       "        vertical-align: top;\n",
       "    }\n",
       "\n",
       "    .dataframe thead th {\n",
       "        text-align: right;\n",
       "    }\n",
       "</style>\n",
       "<table border=\"1\" class=\"dataframe\">\n",
       "  <thead>\n",
       "    <tr style=\"text-align: right;\">\n",
       "      <th></th>\n",
       "      <th>rank</th>\n",
       "      <th>discipline</th>\n",
       "      <th>phd</th>\n",
       "      <th>service</th>\n",
       "      <th>sex</th>\n",
       "      <th>salary</th>\n",
       "    </tr>\n",
       "  </thead>\n",
       "  <tbody>\n",
       "    <tr>\n",
       "      <th>0</th>\n",
       "      <td>Prof</td>\n",
       "      <td>B</td>\n",
       "      <td>56.0</td>\n",
       "      <td>49</td>\n",
       "      <td>Male</td>\n",
       "      <td>186960.0</td>\n",
       "    </tr>\n",
       "    <tr>\n",
       "      <th>1</th>\n",
       "      <td>Prof</td>\n",
       "      <td>A</td>\n",
       "      <td>12.0</td>\n",
       "      <td>6</td>\n",
       "      <td>Male</td>\n",
       "      <td>93000.0</td>\n",
       "    </tr>\n",
       "    <tr>\n",
       "      <th>2</th>\n",
       "      <td>Prof</td>\n",
       "      <td>A</td>\n",
       "      <td>23.0</td>\n",
       "      <td>20</td>\n",
       "      <td>Male</td>\n",
       "      <td>110515.0</td>\n",
       "    </tr>\n",
       "    <tr>\n",
       "      <th>3</th>\n",
       "      <td>Prof</td>\n",
       "      <td>A</td>\n",
       "      <td>40.0</td>\n",
       "      <td>31</td>\n",
       "      <td>Male</td>\n",
       "      <td>131205.0</td>\n",
       "    </tr>\n",
       "    <tr>\n",
       "      <th>4</th>\n",
       "      <td>Prof</td>\n",
       "      <td>B</td>\n",
       "      <td>20.0</td>\n",
       "      <td>18</td>\n",
       "      <td>Male</td>\n",
       "      <td>104800.0</td>\n",
       "    </tr>\n",
       "    <tr>\n",
       "      <th>5</th>\n",
       "      <td>Prof</td>\n",
       "      <td>A</td>\n",
       "      <td>20.0</td>\n",
       "      <td>20</td>\n",
       "      <td>Male</td>\n",
       "      <td>122400.0</td>\n",
       "    </tr>\n",
       "    <tr>\n",
       "      <th>6</th>\n",
       "      <td>AssocProf</td>\n",
       "      <td>A</td>\n",
       "      <td>20.0</td>\n",
       "      <td>17</td>\n",
       "      <td>Male</td>\n",
       "      <td>81285.0</td>\n",
       "    </tr>\n",
       "    <tr>\n",
       "      <th>7</th>\n",
       "      <td>Prof</td>\n",
       "      <td>A</td>\n",
       "      <td>18.0</td>\n",
       "      <td>18</td>\n",
       "      <td>Male</td>\n",
       "      <td>NaN</td>\n",
       "    </tr>\n",
       "  </tbody>\n",
       "</table>\n",
       "</div>"
      ],
      "text/plain": [
       "        rank discipline   phd  service   sex    salary\n",
       "0       Prof          B  56.0       49  Male  186960.0\n",
       "1       Prof          A  12.0        6  Male   93000.0\n",
       "2       Prof          A  23.0       20  Male  110515.0\n",
       "3       Prof          A  40.0       31  Male  131205.0\n",
       "4       Prof          B  20.0       18  Male  104800.0\n",
       "5       Prof          A  20.0       20  Male  122400.0\n",
       "6  AssocProf          A  20.0       17  Male   81285.0\n",
       "7       Prof          A  18.0       18  Male       NaN"
      ]
     },
     "execution_count": 20,
     "metadata": {},
     "output_type": "execute_result"
    }
   ],
   "source": [
    "df.head(8)"
   ]
  },
  {
   "cell_type": "code",
   "execution_count": 21,
   "id": "46d77275",
   "metadata": {},
   "outputs": [
    {
     "data": {
      "text/html": [
       "<div>\n",
       "<style scoped>\n",
       "    .dataframe tbody tr th:only-of-type {\n",
       "        vertical-align: middle;\n",
       "    }\n",
       "\n",
       "    .dataframe tbody tr th {\n",
       "        vertical-align: top;\n",
       "    }\n",
       "\n",
       "    .dataframe thead th {\n",
       "        text-align: right;\n",
       "    }\n",
       "</style>\n",
       "<table border=\"1\" class=\"dataframe\">\n",
       "  <thead>\n",
       "    <tr style=\"text-align: right;\">\n",
       "      <th></th>\n",
       "      <th>rank</th>\n",
       "      <th>discipline</th>\n",
       "      <th>phd</th>\n",
       "      <th>service</th>\n",
       "      <th>sex</th>\n",
       "      <th>salary</th>\n",
       "    </tr>\n",
       "  </thead>\n",
       "  <tbody>\n",
       "    <tr>\n",
       "      <th>73</th>\n",
       "      <td>Prof</td>\n",
       "      <td>B</td>\n",
       "      <td>18.0</td>\n",
       "      <td>10</td>\n",
       "      <td>Female</td>\n",
       "      <td>105450.0</td>\n",
       "    </tr>\n",
       "    <tr>\n",
       "      <th>74</th>\n",
       "      <td>AssocProf</td>\n",
       "      <td>B</td>\n",
       "      <td>19.0</td>\n",
       "      <td>6</td>\n",
       "      <td>Female</td>\n",
       "      <td>104542.0</td>\n",
       "    </tr>\n",
       "    <tr>\n",
       "      <th>75</th>\n",
       "      <td>Prof</td>\n",
       "      <td>B</td>\n",
       "      <td>17.0</td>\n",
       "      <td>17</td>\n",
       "      <td>Female</td>\n",
       "      <td>124312.0</td>\n",
       "    </tr>\n",
       "    <tr>\n",
       "      <th>76</th>\n",
       "      <td>Prof</td>\n",
       "      <td>A</td>\n",
       "      <td>28.0</td>\n",
       "      <td>14</td>\n",
       "      <td>Female</td>\n",
       "      <td>109954.0</td>\n",
       "    </tr>\n",
       "    <tr>\n",
       "      <th>77</th>\n",
       "      <td>Prof</td>\n",
       "      <td>A</td>\n",
       "      <td>23.0</td>\n",
       "      <td>15</td>\n",
       "      <td>Female</td>\n",
       "      <td>109646.0</td>\n",
       "    </tr>\n",
       "  </tbody>\n",
       "</table>\n",
       "</div>"
      ],
      "text/plain": [
       "         rank discipline   phd  service     sex    salary\n",
       "73       Prof          B  18.0       10  Female  105450.0\n",
       "74  AssocProf          B  19.0        6  Female  104542.0\n",
       "75       Prof          B  17.0       17  Female  124312.0\n",
       "76       Prof          A  28.0       14  Female  109954.0\n",
       "77       Prof          A  23.0       15  Female  109646.0"
      ]
     },
     "execution_count": 21,
     "metadata": {},
     "output_type": "execute_result"
    }
   ],
   "source": [
    "df.tail(5)"
   ]
  },
  {
   "cell_type": "code",
   "execution_count": 22,
   "id": "35e82009",
   "metadata": {},
   "outputs": [
    {
     "data": {
      "text/html": [
       "<div>\n",
       "<style scoped>\n",
       "    .dataframe tbody tr th:only-of-type {\n",
       "        vertical-align: middle;\n",
       "    }\n",
       "\n",
       "    .dataframe tbody tr th {\n",
       "        vertical-align: top;\n",
       "    }\n",
       "\n",
       "    .dataframe thead th {\n",
       "        text-align: right;\n",
       "    }\n",
       "</style>\n",
       "<table border=\"1\" class=\"dataframe\">\n",
       "  <thead>\n",
       "    <tr style=\"text-align: right;\">\n",
       "      <th></th>\n",
       "      <th>rank</th>\n",
       "      <th>discipline</th>\n",
       "      <th>phd</th>\n",
       "      <th>service</th>\n",
       "      <th>sex</th>\n",
       "      <th>salary</th>\n",
       "    </tr>\n",
       "  </thead>\n",
       "  <tbody>\n",
       "    <tr>\n",
       "      <th>48</th>\n",
       "      <td>Prof</td>\n",
       "      <td>B</td>\n",
       "      <td>17.0</td>\n",
       "      <td>17</td>\n",
       "      <td>Female</td>\n",
       "      <td>111512.0</td>\n",
       "    </tr>\n",
       "  </tbody>\n",
       "</table>\n",
       "</div>"
      ],
      "text/plain": [
       "    rank discipline   phd  service     sex    salary\n",
       "48  Prof          B  17.0       17  Female  111512.0"
      ]
     },
     "execution_count": 22,
     "metadata": {},
     "output_type": "execute_result"
    }
   ],
   "source": [
    "df.sample()"
   ]
  },
  {
   "cell_type": "code",
   "execution_count": 24,
   "id": "c4c9cc37",
   "metadata": {},
   "outputs": [
    {
     "data": {
      "text/html": [
       "<div>\n",
       "<style scoped>\n",
       "    .dataframe tbody tr th:only-of-type {\n",
       "        vertical-align: middle;\n",
       "    }\n",
       "\n",
       "    .dataframe tbody tr th {\n",
       "        vertical-align: top;\n",
       "    }\n",
       "\n",
       "    .dataframe thead th {\n",
       "        text-align: right;\n",
       "    }\n",
       "</style>\n",
       "<table border=\"1\" class=\"dataframe\">\n",
       "  <thead>\n",
       "    <tr style=\"text-align: right;\">\n",
       "      <th></th>\n",
       "      <th>rank</th>\n",
       "      <th>discipline</th>\n",
       "      <th>phd</th>\n",
       "      <th>service</th>\n",
       "      <th>sex</th>\n",
       "      <th>salary</th>\n",
       "    </tr>\n",
       "  </thead>\n",
       "  <tbody>\n",
       "    <tr>\n",
       "      <th>71</th>\n",
       "      <td>AssocProf</td>\n",
       "      <td>B</td>\n",
       "      <td>12.0</td>\n",
       "      <td>9</td>\n",
       "      <td>Female</td>\n",
       "      <td>71065.0</td>\n",
       "    </tr>\n",
       "    <tr>\n",
       "      <th>1</th>\n",
       "      <td>Prof</td>\n",
       "      <td>A</td>\n",
       "      <td>12.0</td>\n",
       "      <td>6</td>\n",
       "      <td>Male</td>\n",
       "      <td>93000.0</td>\n",
       "    </tr>\n",
       "    <tr>\n",
       "      <th>13</th>\n",
       "      <td>Prof</td>\n",
       "      <td>B</td>\n",
       "      <td>NaN</td>\n",
       "      <td>33</td>\n",
       "      <td>Male</td>\n",
       "      <td>162200.0</td>\n",
       "    </tr>\n",
       "    <tr>\n",
       "      <th>4</th>\n",
       "      <td>Prof</td>\n",
       "      <td>B</td>\n",
       "      <td>20.0</td>\n",
       "      <td>18</td>\n",
       "      <td>Male</td>\n",
       "      <td>104800.0</td>\n",
       "    </tr>\n",
       "    <tr>\n",
       "      <th>24</th>\n",
       "      <td>Prof</td>\n",
       "      <td>A</td>\n",
       "      <td>30.0</td>\n",
       "      <td>23</td>\n",
       "      <td>Male</td>\n",
       "      <td>91100.0</td>\n",
       "    </tr>\n",
       "  </tbody>\n",
       "</table>\n",
       "</div>"
      ],
      "text/plain": [
       "         rank discipline   phd  service     sex    salary\n",
       "71  AssocProf          B  12.0        9  Female   71065.0\n",
       "1        Prof          A  12.0        6    Male   93000.0\n",
       "13       Prof          B   NaN       33    Male  162200.0\n",
       "4        Prof          B  20.0       18    Male  104800.0\n",
       "24       Prof          A  30.0       23    Male   91100.0"
      ]
     },
     "execution_count": 24,
     "metadata": {},
     "output_type": "execute_result"
    }
   ],
   "source": [
    "df.sample(5)"
   ]
  },
  {
   "cell_type": "code",
   "execution_count": 27,
   "id": "0d15ce4c",
   "metadata": {},
   "outputs": [
    {
     "data": {
      "text/plain": [
       "0          Prof\n",
       "1          Prof\n",
       "2          Prof\n",
       "3          Prof\n",
       "4          Prof\n",
       "        ...    \n",
       "73         Prof\n",
       "74    AssocProf\n",
       "75         Prof\n",
       "76         Prof\n",
       "77         Prof\n",
       "Name: rank, Length: 78, dtype: object"
      ]
     },
     "execution_count": 27,
     "metadata": {},
     "output_type": "execute_result"
    }
   ],
   "source": [
    "#EDA=Exploratory DATA analytics\n",
    "#display any column\n",
    "df['rank']"
   ]
  },
  {
   "cell_type": "code",
   "execution_count": 28,
   "id": "3466e3cb",
   "metadata": {},
   "outputs": [
    {
     "data": {
      "text/plain": [
       "<bound method NDFrame.rank of          rank discipline   phd  service     sex    salary\n",
       "0        Prof          B  56.0       49    Male  186960.0\n",
       "1        Prof          A  12.0        6    Male   93000.0\n",
       "2        Prof          A  23.0       20    Male  110515.0\n",
       "3        Prof          A  40.0       31    Male  131205.0\n",
       "4        Prof          B  20.0       18    Male  104800.0\n",
       "..        ...        ...   ...      ...     ...       ...\n",
       "73       Prof          B  18.0       10  Female  105450.0\n",
       "74  AssocProf          B  19.0        6  Female  104542.0\n",
       "75       Prof          B  17.0       17  Female  124312.0\n",
       "76       Prof          A  28.0       14  Female  109954.0\n",
       "77       Prof          A  23.0       15  Female  109646.0\n",
       "\n",
       "[78 rows x 6 columns]>"
      ]
     },
     "execution_count": 28,
     "metadata": {},
     "output_type": "execute_result"
    }
   ],
   "source": [
    "df.rank\n"
   ]
  },
  {
   "cell_type": "code",
   "execution_count": 29,
   "id": "b88feba4",
   "metadata": {},
   "outputs": [
    {
     "name": "stdout",
     "output_type": "stream",
     "text": [
      "         rank discipline   phd  service     sex    salary\n",
      "0        Prof          B  56.0       49    Male  186960.0\n",
      "1        Prof          A  12.0        6    Male   93000.0\n",
      "2        Prof          A  23.0       20    Male  110515.0\n",
      "3        Prof          A  40.0       31    Male  131205.0\n",
      "4        Prof          B  20.0       18    Male  104800.0\n",
      "5        Prof          A  20.0       20    Male  122400.0\n",
      "6   AssocProf          A  20.0       17    Male   81285.0\n",
      "7        Prof          A  18.0       18    Male       NaN\n",
      "8        Prof          A  29.0       19    Male   94350.0\n",
      "9        Prof          A  51.0       51    Male   57800.0\n",
      "10       Prof          B  39.0       33    Male  128250.0\n",
      "11       Prof          B  23.0       23    Male  134778.0\n",
      "12   AsstProf          B   1.0        0    Male   88000.0\n",
      "13       Prof          B   NaN       33    Male  162200.0\n",
      "14       Prof          B  25.0       19    Male  153750.0\n",
      "15       Prof          B  17.0        3    Male  150480.0\n",
      "16   AsstProf          B   8.0        3    Male   75044.0\n",
      "17   AsstProf          B   4.0        0    Male   92000.0\n",
      "18       Prof          A  19.0        7    Male  107300.0\n",
      "19       Prof          A  29.0       27    Male  150500.0\n",
      "20   AsstProf          B   4.0        4    Male   92000.0\n",
      "21       Prof          A  33.0       30    Male  103106.0\n",
      "22   AsstProf          A   4.0        2    Male   73000.0\n",
      "23   AsstProf          A   2.0        0    Male   85000.0\n",
      "24       Prof          A  30.0       23    Male   91100.0\n",
      "25       Prof          B  35.0       31    Male   99418.0\n",
      "26       Prof          A  38.0       19    Male  148750.0\n",
      "27       Prof          A  45.0       43    Male  155865.0\n",
      "28   AsstProf          B   7.0        2    Male       NaN\n",
      "29       Prof          B  21.0       20    Male  123683.0\n",
      "30  AssocProf          B   9.0        7    Male  107008.0\n",
      "31       Prof          B  22.0       21    Male  155750.0\n",
      "32       Prof          A  27.0       19    Male  103275.0\n",
      "33       Prof          B  18.0       18    Male  120000.0\n",
      "34  AssocProf          B   NaN        8    Male  119800.0\n",
      "35       Prof          B  28.0       23    Male  126933.0\n",
      "36       Prof          B  45.0       45    Male  146856.0\n",
      "37       Prof          A  20.0        8    Male  102000.0\n",
      "38   AsstProf          B   4.0        3    Male   91000.0\n",
      "39       Prof          B  18.0       18  Female  129000.0\n",
      "40       Prof          A  39.0       36  Female  137000.0\n",
      "41  AssocProf          A  13.0        8  Female   74830.0\n",
      "42   AsstProf          B   4.0        2  Female   80225.0\n",
      "43   AsstProf          B   5.0        0  Female   77000.0\n",
      "44       Prof          B  23.0       19  Female  151768.0\n",
      "45       Prof          B  25.0       25  Female  140096.0\n",
      "46   AsstProf          B  11.0        3  Female   74692.0\n",
      "47  AssocProf          B  11.0       11  Female  103613.0\n",
      "48       Prof          B  17.0       17  Female  111512.0\n",
      "49       Prof          B  17.0       18  Female  122960.0\n",
      "50   AsstProf          B  10.0        5  Female   97032.0\n",
      "51       Prof          B  20.0       14  Female  127512.0\n",
      "52       Prof          A  12.0        0  Female  105000.0\n",
      "53   AsstProf          A   5.0        3  Female   73500.0\n",
      "54  AssocProf          A  25.0       22  Female   62884.0\n",
      "55   AsstProf          A   2.0        0  Female   72500.0\n",
      "56  AssocProf          A  10.0        8  Female   77500.0\n",
      "57   AsstProf          A   3.0        1  Female   72500.0\n",
      "58       Prof          B  36.0       26  Female  144651.0\n",
      "59  AssocProf          B  12.0       10  Female  103994.0\n",
      "60   AsstProf          B   3.0        3  Female   92000.0\n",
      "61  AssocProf          B  13.0       10  Female  103750.0\n",
      "62  AssocProf          B  14.0        7  Female  109650.0\n",
      "63       Prof          A  29.0       27  Female   91000.0\n",
      "64  AssocProf          A  26.0       24  Female   73300.0\n",
      "65       Prof          A  36.0       19  Female  117555.0\n",
      "66   AsstProf          A   7.0        6  Female   63100.0\n",
      "67       Prof          A  17.0       11  Female   90450.0\n",
      "68   AsstProf          A   4.0        2  Female   77500.0\n",
      "69       Prof          A  28.0        7  Female  116450.0\n",
      "70   AsstProf          A   8.0        3  Female   78500.0\n",
      "71  AssocProf          B  12.0        9  Female   71065.0\n",
      "72       Prof          B  24.0       15  Female  161101.0\n",
      "73       Prof          B  18.0       10  Female  105450.0\n",
      "74  AssocProf          B  19.0        6  Female  104542.0\n",
      "75       Prof          B  17.0       17  Female  124312.0\n",
      "76       Prof          A  28.0       14  Female  109954.0\n",
      "77       Prof          A  23.0       15  Female  109646.0\n"
     ]
    }
   ],
   "source": [
    "#To display entire data set in one place\n",
    "print(df.to_string())"
   ]
  },
  {
   "cell_type": "code",
   "execution_count": 31,
   "id": "4dbdfdd4",
   "metadata": {},
   "outputs": [
    {
     "data": {
      "text/plain": [
       "array(['Prof', 'AssocProf', 'AsstProf'], dtype=object)"
      ]
     },
     "execution_count": 31,
     "metadata": {},
     "output_type": "execute_result"
    }
   ],
   "source": [
    "#display how many classes/catagory a column contains\n",
    "df['rank'].unique()"
   ]
  },
  {
   "cell_type": "code",
   "execution_count": 32,
   "id": "3d3e70eb",
   "metadata": {},
   "outputs": [
    {
     "data": {
      "text/plain": [
       "array(['B', 'A'], dtype=object)"
      ]
     },
     "execution_count": 32,
     "metadata": {},
     "output_type": "execute_result"
    }
   ],
   "source": [
    "df['discipline'].unique()"
   ]
  },
  {
   "cell_type": "code",
   "execution_count": 34,
   "id": "9f62d8e7",
   "metadata": {},
   "outputs": [
    {
     "data": {
      "text/plain": [
       "array(['Male', 'Female'], dtype=object)"
      ]
     },
     "execution_count": 34,
     "metadata": {},
     "output_type": "execute_result"
    }
   ],
   "source": [
    "df['sex'].unique()"
   ]
  },
  {
   "cell_type": "code",
   "execution_count": 36,
   "id": "1e8c3451",
   "metadata": {},
   "outputs": [
    {
     "data": {
      "text/plain": [
       "discipline\n",
       "B    42\n",
       "A    36\n",
       "Name: count, dtype: int64"
      ]
     },
     "execution_count": 36,
     "metadata": {},
     "output_type": "execute_result"
    }
   ],
   "source": [
    "#display how many candidates in each catagory\n",
    "df['discipline'].value_counts()"
   ]
  },
  {
   "cell_type": "code",
   "execution_count": 37,
   "id": "3084dc38",
   "metadata": {},
   "outputs": [
    {
     "data": {
      "text/plain": [
       "sex\n",
       "Male      39\n",
       "Female    39\n",
       "Name: count, dtype: int64"
      ]
     },
     "execution_count": 37,
     "metadata": {},
     "output_type": "execute_result"
    }
   ],
   "source": [
    "df['sex'].value_counts()"
   ]
  },
  {
   "cell_type": "code",
   "execution_count": 41,
   "id": "208a352c",
   "metadata": {},
   "outputs": [
    {
     "data": {
      "text/html": [
       "<div>\n",
       "<style scoped>\n",
       "    .dataframe tbody tr th:only-of-type {\n",
       "        vertical-align: middle;\n",
       "    }\n",
       "\n",
       "    .dataframe tbody tr th {\n",
       "        vertical-align: top;\n",
       "    }\n",
       "\n",
       "    .dataframe thead th {\n",
       "        text-align: right;\n",
       "    }\n",
       "</style>\n",
       "<table border=\"1\" class=\"dataframe\">\n",
       "  <thead>\n",
       "    <tr style=\"text-align: right;\">\n",
       "      <th></th>\n",
       "      <th>phd</th>\n",
       "      <th>sex</th>\n",
       "      <th>rank</th>\n",
       "    </tr>\n",
       "  </thead>\n",
       "  <tbody>\n",
       "    <tr>\n",
       "      <th>0</th>\n",
       "      <td>56.0</td>\n",
       "      <td>Male</td>\n",
       "      <td>Prof</td>\n",
       "    </tr>\n",
       "    <tr>\n",
       "      <th>1</th>\n",
       "      <td>12.0</td>\n",
       "      <td>Male</td>\n",
       "      <td>Prof</td>\n",
       "    </tr>\n",
       "    <tr>\n",
       "      <th>2</th>\n",
       "      <td>23.0</td>\n",
       "      <td>Male</td>\n",
       "      <td>Prof</td>\n",
       "    </tr>\n",
       "    <tr>\n",
       "      <th>3</th>\n",
       "      <td>40.0</td>\n",
       "      <td>Male</td>\n",
       "      <td>Prof</td>\n",
       "    </tr>\n",
       "    <tr>\n",
       "      <th>4</th>\n",
       "      <td>20.0</td>\n",
       "      <td>Male</td>\n",
       "      <td>Prof</td>\n",
       "    </tr>\n",
       "    <tr>\n",
       "      <th>...</th>\n",
       "      <td>...</td>\n",
       "      <td>...</td>\n",
       "      <td>...</td>\n",
       "    </tr>\n",
       "    <tr>\n",
       "      <th>73</th>\n",
       "      <td>18.0</td>\n",
       "      <td>Female</td>\n",
       "      <td>Prof</td>\n",
       "    </tr>\n",
       "    <tr>\n",
       "      <th>74</th>\n",
       "      <td>19.0</td>\n",
       "      <td>Female</td>\n",
       "      <td>AssocProf</td>\n",
       "    </tr>\n",
       "    <tr>\n",
       "      <th>75</th>\n",
       "      <td>17.0</td>\n",
       "      <td>Female</td>\n",
       "      <td>Prof</td>\n",
       "    </tr>\n",
       "    <tr>\n",
       "      <th>76</th>\n",
       "      <td>28.0</td>\n",
       "      <td>Female</td>\n",
       "      <td>Prof</td>\n",
       "    </tr>\n",
       "    <tr>\n",
       "      <th>77</th>\n",
       "      <td>23.0</td>\n",
       "      <td>Female</td>\n",
       "      <td>Prof</td>\n",
       "    </tr>\n",
       "  </tbody>\n",
       "</table>\n",
       "<p>78 rows × 3 columns</p>\n",
       "</div>"
      ],
      "text/plain": [
       "     phd     sex       rank\n",
       "0   56.0    Male       Prof\n",
       "1   12.0    Male       Prof\n",
       "2   23.0    Male       Prof\n",
       "3   40.0    Male       Prof\n",
       "4   20.0    Male       Prof\n",
       "..   ...     ...        ...\n",
       "73  18.0  Female       Prof\n",
       "74  19.0  Female  AssocProf\n",
       "75  17.0  Female       Prof\n",
       "76  28.0  Female       Prof\n",
       "77  23.0  Female       Prof\n",
       "\n",
       "[78 rows x 3 columns]"
      ]
     },
     "execution_count": 41,
     "metadata": {},
     "output_type": "execute_result"
    }
   ],
   "source": [
    "#display more column at a time\n",
    "df[[\"phd\",\"sex\",\"rank\"]]"
   ]
  },
  {
   "cell_type": "code",
   "execution_count": 42,
   "id": "f456c93f",
   "metadata": {},
   "outputs": [
    {
     "data": {
      "text/plain": [
       "186960.0"
      ]
     },
     "execution_count": 42,
     "metadata": {},
     "output_type": "execute_result"
    }
   ],
   "source": [
    "#display maximun Salary\n",
    "df['salary'].max()"
   ]
  },
  {
   "cell_type": "code",
   "execution_count": 43,
   "id": "c31265ea",
   "metadata": {},
   "outputs": [
    {
     "data": {
      "text/plain": [
       "186960.0"
      ]
     },
     "execution_count": 43,
     "metadata": {},
     "output_type": "execute_result"
    }
   ],
   "source": [
    "max(df['salary'])"
   ]
  },
  {
   "cell_type": "code",
   "execution_count": 44,
   "id": "4d6009f7",
   "metadata": {},
   "outputs": [
    {
     "data": {
      "text/plain": [
       "57800.0"
      ]
     },
     "execution_count": 44,
     "metadata": {},
     "output_type": "execute_result"
    }
   ],
   "source": [
    "min(df['salary'])"
   ]
  },
  {
   "cell_type": "code",
   "execution_count": 46,
   "id": "e4800d9e",
   "metadata": {},
   "outputs": [
    {
     "data": {
      "text/plain": [
       "108003.3552631579"
      ]
     },
     "execution_count": 46,
     "metadata": {},
     "output_type": "execute_result"
    }
   ],
   "source": [
    "df['salary'].mean()"
   ]
  },
  {
   "cell_type": "code",
   "execution_count": 56,
   "id": "ff3e18e8",
   "metadata": {},
   "outputs": [
    {
     "name": "stdout",
     "output_type": "stream",
     "text": [
      "         rank discipline   phd  service     sex    salary\n",
      "0        Prof          B  56.0       49    Male  186960.0\n",
      "2        Prof          A  23.0       20    Male  110515.0\n",
      "3        Prof          A  40.0       31    Male  131205.0\n",
      "5        Prof          A  20.0       20    Male  122400.0\n",
      "10       Prof          B  39.0       33    Male  128250.0\n",
      "11       Prof          B  23.0       23    Male  134778.0\n",
      "13       Prof          B   NaN       33    Male  162200.0\n",
      "14       Prof          B  25.0       19    Male  153750.0\n",
      "15       Prof          B  17.0        3    Male  150480.0\n",
      "19       Prof          A  29.0       27    Male  150500.0\n",
      "26       Prof          A  38.0       19    Male  148750.0\n",
      "27       Prof          A  45.0       43    Male  155865.0\n",
      "29       Prof          B  21.0       20    Male  123683.0\n",
      "31       Prof          B  22.0       21    Male  155750.0\n",
      "33       Prof          B  18.0       18    Male  120000.0\n",
      "34  AssocProf          B   NaN        8    Male  119800.0\n",
      "35       Prof          B  28.0       23    Male  126933.0\n",
      "36       Prof          B  45.0       45    Male  146856.0\n",
      "39       Prof          B  18.0       18  Female  129000.0\n",
      "40       Prof          A  39.0       36  Female  137000.0\n",
      "44       Prof          B  23.0       19  Female  151768.0\n",
      "45       Prof          B  25.0       25  Female  140096.0\n",
      "48       Prof          B  17.0       17  Female  111512.0\n",
      "49       Prof          B  17.0       18  Female  122960.0\n",
      "51       Prof          B  20.0       14  Female  127512.0\n",
      "58       Prof          B  36.0       26  Female  144651.0\n",
      "62  AssocProf          B  14.0        7  Female  109650.0\n",
      "65       Prof          A  36.0       19  Female  117555.0\n",
      "69       Prof          A  28.0        7  Female  116450.0\n",
      "72       Prof          B  24.0       15  Female  161101.0\n",
      "75       Prof          B  17.0       17  Female  124312.0\n",
      "76       Prof          A  28.0       14  Female  109954.0\n",
      "77       Prof          A  23.0       15  Female  109646.0\n"
     ]
    }
   ],
   "source": [
    "#display the salary who got above than mean salary\n",
    "print(df[df['salary'] > df['salary'].mean()])"
   ]
  },
  {
   "cell_type": "code",
   "execution_count": 74,
   "id": "75da44ba",
   "metadata": {},
   "outputs": [
    {
     "name": "stdout",
     "output_type": "stream",
     "text": [
      "         rank discipline   phd  service     sex    salary\n",
      "41  AssocProf          A  13.0        8  Female   74830.0\n",
      "42   AsstProf          B   4.0        2  Female   80225.0\n",
      "43   AsstProf          B   5.0        0  Female   77000.0\n",
      "46   AsstProf          B  11.0        3  Female   74692.0\n",
      "47  AssocProf          B  11.0       11  Female  103613.0\n",
      "50   AsstProf          B  10.0        5  Female   97032.0\n",
      "52       Prof          A  12.0        0  Female  105000.0\n",
      "53   AsstProf          A   5.0        3  Female   73500.0\n",
      "54  AssocProf          A  25.0       22  Female   62884.0\n",
      "55   AsstProf          A   2.0        0  Female   72500.0\n",
      "56  AssocProf          A  10.0        8  Female   77500.0\n",
      "57   AsstProf          A   3.0        1  Female   72500.0\n",
      "59  AssocProf          B  12.0       10  Female  103994.0\n",
      "60   AsstProf          B   3.0        3  Female   92000.0\n",
      "61  AssocProf          B  13.0       10  Female  103750.0\n",
      "63       Prof          A  29.0       27  Female   91000.0\n",
      "64  AssocProf          A  26.0       24  Female   73300.0\n",
      "66   AsstProf          A   7.0        6  Female   63100.0\n",
      "67       Prof          A  17.0       11  Female   90450.0\n",
      "68   AsstProf          A   4.0        2  Female   77500.0\n",
      "70   AsstProf          A   8.0        3  Female   78500.0\n",
      "71  AssocProf          B  12.0        9  Female   71065.0\n",
      "73       Prof          B  18.0       10  Female  105450.0\n",
      "74  AssocProf          B  19.0        6  Female  104542.0\n"
     ]
    }
   ],
   "source": [
    "#display the faculty whose salary less than mean salary and female\n",
    "print(df[(df['salary'] < df['salary'].mean()) & (df['sex']=='Female')])"
   ]
  },
  {
   "cell_type": "code",
   "execution_count": 75,
   "id": "2b33f410",
   "metadata": {},
   "outputs": [],
   "source": [
    "#create a dictionary for a student with 2 keys semester and subject ,6  sem and 6 sub\n",
    "#convert student into data frames\n",
    "stud = {\n",
    "    'semester':[1,2,3,4,5,6],\n",
    "    'subject':['c','oop','afl','dbms','cn','os']\n",
    "}"
   ]
  },
  {
   "cell_type": "code",
   "execution_count": 76,
   "id": "dd5274a0",
   "metadata": {},
   "outputs": [
    {
     "data": {
      "text/html": [
       "<div>\n",
       "<style scoped>\n",
       "    .dataframe tbody tr th:only-of-type {\n",
       "        vertical-align: middle;\n",
       "    }\n",
       "\n",
       "    .dataframe tbody tr th {\n",
       "        vertical-align: top;\n",
       "    }\n",
       "\n",
       "    .dataframe thead th {\n",
       "        text-align: right;\n",
       "    }\n",
       "</style>\n",
       "<table border=\"1\" class=\"dataframe\">\n",
       "  <thead>\n",
       "    <tr style=\"text-align: right;\">\n",
       "      <th></th>\n",
       "      <th>semester</th>\n",
       "      <th>subject</th>\n",
       "    </tr>\n",
       "  </thead>\n",
       "  <tbody>\n",
       "    <tr>\n",
       "      <th>0</th>\n",
       "      <td>1</td>\n",
       "      <td>c</td>\n",
       "    </tr>\n",
       "    <tr>\n",
       "      <th>1</th>\n",
       "      <td>2</td>\n",
       "      <td>oop</td>\n",
       "    </tr>\n",
       "    <tr>\n",
       "      <th>2</th>\n",
       "      <td>3</td>\n",
       "      <td>afl</td>\n",
       "    </tr>\n",
       "    <tr>\n",
       "      <th>3</th>\n",
       "      <td>4</td>\n",
       "      <td>dbms</td>\n",
       "    </tr>\n",
       "    <tr>\n",
       "      <th>4</th>\n",
       "      <td>5</td>\n",
       "      <td>cn</td>\n",
       "    </tr>\n",
       "    <tr>\n",
       "      <th>5</th>\n",
       "      <td>6</td>\n",
       "      <td>os</td>\n",
       "    </tr>\n",
       "  </tbody>\n",
       "</table>\n",
       "</div>"
      ],
      "text/plain": [
       "   semester subject\n",
       "0         1       c\n",
       "1         2     oop\n",
       "2         3     afl\n",
       "3         4    dbms\n",
       "4         5      cn\n",
       "5         6      os"
      ]
     },
     "execution_count": 76,
     "metadata": {},
     "output_type": "execute_result"
    }
   ],
   "source": [
    "dir(df)\n",
    "df.from_dict(stud)"
   ]
  },
  {
   "cell_type": "code",
   "execution_count": 77,
   "id": "63846937",
   "metadata": {},
   "outputs": [
    {
     "data": {
      "text/html": [
       "<div>\n",
       "<style scoped>\n",
       "    .dataframe tbody tr th:only-of-type {\n",
       "        vertical-align: middle;\n",
       "    }\n",
       "\n",
       "    .dataframe tbody tr th {\n",
       "        vertical-align: top;\n",
       "    }\n",
       "\n",
       "    .dataframe thead th {\n",
       "        text-align: right;\n",
       "    }\n",
       "</style>\n",
       "<table border=\"1\" class=\"dataframe\">\n",
       "  <thead>\n",
       "    <tr style=\"text-align: right;\">\n",
       "      <th></th>\n",
       "      <th>semester</th>\n",
       "      <th>subject</th>\n",
       "    </tr>\n",
       "  </thead>\n",
       "  <tbody>\n",
       "    <tr>\n",
       "      <th>0</th>\n",
       "      <td>1</td>\n",
       "      <td>c</td>\n",
       "    </tr>\n",
       "    <tr>\n",
       "      <th>1</th>\n",
       "      <td>2</td>\n",
       "      <td>oop</td>\n",
       "    </tr>\n",
       "    <tr>\n",
       "      <th>2</th>\n",
       "      <td>3</td>\n",
       "      <td>afl</td>\n",
       "    </tr>\n",
       "    <tr>\n",
       "      <th>3</th>\n",
       "      <td>4</td>\n",
       "      <td>dbms</td>\n",
       "    </tr>\n",
       "    <tr>\n",
       "      <th>4</th>\n",
       "      <td>5</td>\n",
       "      <td>cn</td>\n",
       "    </tr>\n",
       "    <tr>\n",
       "      <th>5</th>\n",
       "      <td>6</td>\n",
       "      <td>os</td>\n",
       "    </tr>\n",
       "  </tbody>\n",
       "</table>\n",
       "</div>"
      ],
      "text/plain": [
       "   semester subject\n",
       "0         1       c\n",
       "1         2     oop\n",
       "2         3     afl\n",
       "3         4    dbms\n",
       "4         5      cn\n",
       "5         6      os"
      ]
     },
     "execution_count": 77,
     "metadata": {},
     "output_type": "execute_result"
    }
   ],
   "source": [
    "pd.DataFrame(stud)"
   ]
  },
  {
   "cell_type": "code",
   "execution_count": 79,
   "id": "21b67efc",
   "metadata": {},
   "outputs": [
    {
     "data": {
      "text/plain": [
       "0     cse\n",
       "1      it\n",
       "2    csse\n",
       "3    csec\n",
       "4     etc\n",
       "dtype: object"
      ]
     },
     "execution_count": 79,
     "metadata": {},
     "output_type": "execute_result"
    }
   ],
   "source": [
    "#create a list of department containg five departments\n",
    "depts=['cse','it','csse','csec','etc']\n",
    "\n",
    "#convert dept list in pandas series\n",
    "#1d=series\n",
    "#2d=dataframe\n",
    "\n",
    "dept_series=pd.Series(depts)\n",
    "\n",
    "dept_series"
   ]
  },
  {
   "cell_type": "code",
   "execution_count": 84,
   "id": "7d5f68cb",
   "metadata": {},
   "outputs": [
    {
     "data": {
      "text/plain": [
       "a     cse\n",
       "b      it\n",
       "c    csse\n",
       "d    csec\n",
       "e     etc\n",
       "dtype: object"
      ]
     },
     "execution_count": 84,
     "metadata": {},
     "output_type": "execute_result"
    }
   ],
   "source": [
    "dept1=pd.Series(depts,index=['a','b','c','d','e'])\n",
    "dept1"
   ]
  },
  {
   "cell_type": "code",
   "execution_count": 89,
   "id": "26e0d181",
   "metadata": {},
   "outputs": [
    {
     "data": {
      "text/html": [
       "<div>\n",
       "<style scoped>\n",
       "    .dataframe tbody tr th:only-of-type {\n",
       "        vertical-align: middle;\n",
       "    }\n",
       "\n",
       "    .dataframe tbody tr th {\n",
       "        vertical-align: top;\n",
       "    }\n",
       "\n",
       "    .dataframe thead th {\n",
       "        text-align: right;\n",
       "    }\n",
       "</style>\n",
       "<table border=\"1\" class=\"dataframe\">\n",
       "  <thead>\n",
       "    <tr style=\"text-align: right;\">\n",
       "      <th></th>\n",
       "      <th>rank</th>\n",
       "      <th>discipline</th>\n",
       "      <th>phd</th>\n",
       "      <th>service</th>\n",
       "      <th>sex</th>\n",
       "      <th>salary</th>\n",
       "    </tr>\n",
       "  </thead>\n",
       "  <tbody>\n",
       "    <tr>\n",
       "      <th>0</th>\n",
       "      <td>Prof</td>\n",
       "      <td>B</td>\n",
       "      <td>56.0</td>\n",
       "      <td>49</td>\n",
       "      <td>Male</td>\n",
       "      <td>186960.0</td>\n",
       "    </tr>\n",
       "    <tr>\n",
       "      <th>1</th>\n",
       "      <td>Prof</td>\n",
       "      <td>A</td>\n",
       "      <td>12.0</td>\n",
       "      <td>6</td>\n",
       "      <td>Male</td>\n",
       "      <td>93000.0</td>\n",
       "    </tr>\n",
       "    <tr>\n",
       "      <th>2</th>\n",
       "      <td>Prof</td>\n",
       "      <td>A</td>\n",
       "      <td>23.0</td>\n",
       "      <td>20</td>\n",
       "      <td>Male</td>\n",
       "      <td>110515.0</td>\n",
       "    </tr>\n",
       "    <tr>\n",
       "      <th>3</th>\n",
       "      <td>Prof</td>\n",
       "      <td>A</td>\n",
       "      <td>40.0</td>\n",
       "      <td>31</td>\n",
       "      <td>Male</td>\n",
       "      <td>131205.0</td>\n",
       "    </tr>\n",
       "    <tr>\n",
       "      <th>4</th>\n",
       "      <td>Prof</td>\n",
       "      <td>B</td>\n",
       "      <td>20.0</td>\n",
       "      <td>18</td>\n",
       "      <td>Male</td>\n",
       "      <td>104800.0</td>\n",
       "    </tr>\n",
       "    <tr>\n",
       "      <th>...</th>\n",
       "      <td>...</td>\n",
       "      <td>...</td>\n",
       "      <td>...</td>\n",
       "      <td>...</td>\n",
       "      <td>...</td>\n",
       "      <td>...</td>\n",
       "    </tr>\n",
       "    <tr>\n",
       "      <th>73</th>\n",
       "      <td>Prof</td>\n",
       "      <td>B</td>\n",
       "      <td>18.0</td>\n",
       "      <td>10</td>\n",
       "      <td>Female</td>\n",
       "      <td>105450.0</td>\n",
       "    </tr>\n",
       "    <tr>\n",
       "      <th>74</th>\n",
       "      <td>AssocProf</td>\n",
       "      <td>B</td>\n",
       "      <td>19.0</td>\n",
       "      <td>6</td>\n",
       "      <td>Female</td>\n",
       "      <td>104542.0</td>\n",
       "    </tr>\n",
       "    <tr>\n",
       "      <th>75</th>\n",
       "      <td>Prof</td>\n",
       "      <td>B</td>\n",
       "      <td>17.0</td>\n",
       "      <td>17</td>\n",
       "      <td>Female</td>\n",
       "      <td>124312.0</td>\n",
       "    </tr>\n",
       "    <tr>\n",
       "      <th>76</th>\n",
       "      <td>Prof</td>\n",
       "      <td>A</td>\n",
       "      <td>28.0</td>\n",
       "      <td>14</td>\n",
       "      <td>Female</td>\n",
       "      <td>109954.0</td>\n",
       "    </tr>\n",
       "    <tr>\n",
       "      <th>77</th>\n",
       "      <td>Prof</td>\n",
       "      <td>A</td>\n",
       "      <td>23.0</td>\n",
       "      <td>15</td>\n",
       "      <td>Female</td>\n",
       "      <td>109646.0</td>\n",
       "    </tr>\n",
       "  </tbody>\n",
       "</table>\n",
       "<p>78 rows × 6 columns</p>\n",
       "</div>"
      ],
      "text/plain": [
       "         rank discipline   phd  service     sex    salary\n",
       "0        Prof          B  56.0       49    Male  186960.0\n",
       "1        Prof          A  12.0        6    Male   93000.0\n",
       "2        Prof          A  23.0       20    Male  110515.0\n",
       "3        Prof          A  40.0       31    Male  131205.0\n",
       "4        Prof          B  20.0       18    Male  104800.0\n",
       "..        ...        ...   ...      ...     ...       ...\n",
       "73       Prof          B  18.0       10  Female  105450.0\n",
       "74  AssocProf          B  19.0        6  Female  104542.0\n",
       "75       Prof          B  17.0       17  Female  124312.0\n",
       "76       Prof          A  28.0       14  Female  109954.0\n",
       "77       Prof          A  23.0       15  Female  109646.0\n",
       "\n",
       "[78 rows x 6 columns]"
      ]
     },
     "execution_count": 89,
     "metadata": {},
     "output_type": "execute_result"
    }
   ],
   "source": [
    "#Q1.Import the dataset Salaries.csv.\n",
    "import pandas as pd\n",
    "pd.read_csv(\"Salaries.csv\")"
   ]
  },
  {
   "cell_type": "code",
   "execution_count": 90,
   "id": "96bc1844",
   "metadata": {},
   "outputs": [
    {
     "name": "stdout",
     "output_type": "stream",
     "text": [
      "Number of rows: 78, Number of columns: 6\n",
      "First 10 rows:\n",
      "        rank discipline   phd  service   sex    salary\n",
      "0       Prof          B  56.0       49  Male  186960.0\n",
      "1       Prof          A  12.0        6  Male   93000.0\n",
      "2       Prof          A  23.0       20  Male  110515.0\n",
      "3       Prof          A  40.0       31  Male  131205.0\n",
      "4       Prof          B  20.0       18  Male  104800.0\n",
      "5       Prof          A  20.0       20  Male  122400.0\n",
      "6  AssocProf          A  20.0       17  Male   81285.0\n",
      "7       Prof          A  18.0       18  Male       NaN\n",
      "8       Prof          A  29.0       19  Male   94350.0\n",
      "9       Prof          A  51.0       51  Male   57800.0\n",
      "Last 15 rows:\n",
      "         rank discipline   phd  service     sex    salary\n",
      "63       Prof          A  29.0       27  Female   91000.0\n",
      "64  AssocProf          A  26.0       24  Female   73300.0\n",
      "65       Prof          A  36.0       19  Female  117555.0\n",
      "66   AsstProf          A   7.0        6  Female   63100.0\n",
      "67       Prof          A  17.0       11  Female   90450.0\n",
      "68   AsstProf          A   4.0        2  Female   77500.0\n",
      "69       Prof          A  28.0        7  Female  116450.0\n",
      "70   AsstProf          A   8.0        3  Female   78500.0\n",
      "71  AssocProf          B  12.0        9  Female   71065.0\n",
      "72       Prof          B  24.0       15  Female  161101.0\n",
      "73       Prof          B  18.0       10  Female  105450.0\n",
      "74  AssocProf          B  19.0        6  Female  104542.0\n",
      "75       Prof          B  17.0       17  Female  124312.0\n",
      "76       Prof          A  28.0       14  Female  109954.0\n",
      "77       Prof          A  23.0       15  Female  109646.0\n"
     ]
    }
   ],
   "source": [
    "#Q2.Display how many rows and how many columns and Display first 10 rows and\n",
    "#last 15 rows.\n",
    "rows, columns = dataset.shape\n",
    "print(f\"Number of rows: {rows}, Number of columns: {columns}\")\n",
    "print(\"First 10 rows:\")\n",
    "print(dataset.head(10))\n",
    "print(\"Last 15 rows:\")\n",
    "print(dataset.tail(15))"
   ]
  },
  {
   "cell_type": "code",
   "execution_count": 115,
   "id": "4843bf7c",
   "metadata": {},
   "outputs": [
    {
     "ename": "KeyError",
     "evalue": "'Prof'",
     "output_type": "error",
     "traceback": [
      "\u001b[1;31m---------------------------------------------------------------------------\u001b[0m",
      "\u001b[1;31mKeyError\u001b[0m                                  Traceback (most recent call last)",
      "File \u001b[1;32mC:\\ProgramData\\anaconda3\\Lib\\site-packages\\pandas\\core\\indexes\\base.py:3653\u001b[0m, in \u001b[0;36mIndex.get_loc\u001b[1;34m(self, key)\u001b[0m\n\u001b[0;32m   3652\u001b[0m \u001b[38;5;28;01mtry\u001b[39;00m:\n\u001b[1;32m-> 3653\u001b[0m     \u001b[38;5;28;01mreturn\u001b[39;00m \u001b[38;5;28mself\u001b[39m\u001b[38;5;241m.\u001b[39m_engine\u001b[38;5;241m.\u001b[39mget_loc(casted_key)\n\u001b[0;32m   3654\u001b[0m \u001b[38;5;28;01mexcept\u001b[39;00m \u001b[38;5;167;01mKeyError\u001b[39;00m \u001b[38;5;28;01mas\u001b[39;00m err:\n",
      "File \u001b[1;32mC:\\ProgramData\\anaconda3\\Lib\\site-packages\\pandas\\_libs\\index.pyx:147\u001b[0m, in \u001b[0;36mpandas._libs.index.IndexEngine.get_loc\u001b[1;34m()\u001b[0m\n",
      "File \u001b[1;32mC:\\ProgramData\\anaconda3\\Lib\\site-packages\\pandas\\_libs\\index.pyx:176\u001b[0m, in \u001b[0;36mpandas._libs.index.IndexEngine.get_loc\u001b[1;34m()\u001b[0m\n",
      "File \u001b[1;32mpandas\\_libs\\hashtable_class_helper.pxi:7080\u001b[0m, in \u001b[0;36mpandas._libs.hashtable.PyObjectHashTable.get_item\u001b[1;34m()\u001b[0m\n",
      "File \u001b[1;32mpandas\\_libs\\hashtable_class_helper.pxi:7088\u001b[0m, in \u001b[0;36mpandas._libs.hashtable.PyObjectHashTable.get_item\u001b[1;34m()\u001b[0m\n",
      "\u001b[1;31mKeyError\u001b[0m: 'Prof'",
      "\nThe above exception was the direct cause of the following exception:\n",
      "\u001b[1;31mKeyError\u001b[0m                                  Traceback (most recent call last)",
      "Cell \u001b[1;32mIn[115], line 5\u001b[0m\n\u001b[0;32m      1\u001b[0m \u001b[38;5;66;03m# Q.3) Which Male and Female Professor has the highest and the lowest salaries?\u001b[39;00m\n\u001b[0;32m      2\u001b[0m \u001b[38;5;66;03m# Assuming your DataFrame is named df\u001b[39;00m\n\u001b[0;32m      3\u001b[0m \n\u001b[0;32m      4\u001b[0m \u001b[38;5;66;03m# Find the Male Professors with the highest and lowest salaries\u001b[39;00m\n\u001b[1;32m----> 5\u001b[0m highest_male_prof \u001b[38;5;241m=\u001b[39m df[df[\u001b[38;5;124m'\u001b[39m\u001b[38;5;124msex\u001b[39m\u001b[38;5;124m'\u001b[39m] \u001b[38;5;241m==\u001b[39m \u001b[38;5;124m'\u001b[39m\u001b[38;5;124mMale\u001b[39m\u001b[38;5;124m'\u001b[39m]\u001b[38;5;241m.\u001b[39msort_values(\u001b[38;5;124m'\u001b[39m\u001b[38;5;124msalary\u001b[39m\u001b[38;5;124m'\u001b[39m, ascending\u001b[38;5;241m=\u001b[39m\u001b[38;5;28;01mFalse\u001b[39;00m)\u001b[38;5;241m.\u001b[39miloc[\u001b[38;5;241m0\u001b[39m][\u001b[38;5;124m'\u001b[39m\u001b[38;5;124mProf\u001b[39m\u001b[38;5;124m'\u001b[39m]\n\u001b[0;32m      6\u001b[0m lowest_male_prof \u001b[38;5;241m=\u001b[39m df[df[\u001b[38;5;124m'\u001b[39m\u001b[38;5;124msex\u001b[39m\u001b[38;5;124m'\u001b[39m] \u001b[38;5;241m==\u001b[39m \u001b[38;5;124m'\u001b[39m\u001b[38;5;124mMale\u001b[39m\u001b[38;5;124m'\u001b[39m]\u001b[38;5;241m.\u001b[39msort_values(\u001b[38;5;124m'\u001b[39m\u001b[38;5;124msalary\u001b[39m\u001b[38;5;124m'\u001b[39m)\u001b[38;5;241m.\u001b[39miloc[\u001b[38;5;241m0\u001b[39m][\u001b[38;5;124m'\u001b[39m\u001b[38;5;124mProf\u001b[39m\u001b[38;5;124m'\u001b[39m]\n\u001b[0;32m      8\u001b[0m \u001b[38;5;66;03m# Find the Female Professors with the highest and lowest salaries\u001b[39;00m\n",
      "File \u001b[1;32mC:\\ProgramData\\anaconda3\\Lib\\site-packages\\pandas\\core\\series.py:1007\u001b[0m, in \u001b[0;36mSeries.__getitem__\u001b[1;34m(self, key)\u001b[0m\n\u001b[0;32m   1004\u001b[0m     \u001b[38;5;28;01mreturn\u001b[39;00m \u001b[38;5;28mself\u001b[39m\u001b[38;5;241m.\u001b[39m_values[key]\n\u001b[0;32m   1006\u001b[0m \u001b[38;5;28;01melif\u001b[39;00m key_is_scalar:\n\u001b[1;32m-> 1007\u001b[0m     \u001b[38;5;28;01mreturn\u001b[39;00m \u001b[38;5;28mself\u001b[39m\u001b[38;5;241m.\u001b[39m_get_value(key)\n\u001b[0;32m   1009\u001b[0m \u001b[38;5;28;01mif\u001b[39;00m is_hashable(key):\n\u001b[0;32m   1010\u001b[0m     \u001b[38;5;66;03m# Otherwise index.get_value will raise InvalidIndexError\u001b[39;00m\n\u001b[0;32m   1011\u001b[0m     \u001b[38;5;28;01mtry\u001b[39;00m:\n\u001b[0;32m   1012\u001b[0m         \u001b[38;5;66;03m# For labels that don't resolve as scalars like tuples and frozensets\u001b[39;00m\n",
      "File \u001b[1;32mC:\\ProgramData\\anaconda3\\Lib\\site-packages\\pandas\\core\\series.py:1116\u001b[0m, in \u001b[0;36mSeries._get_value\u001b[1;34m(self, label, takeable)\u001b[0m\n\u001b[0;32m   1113\u001b[0m     \u001b[38;5;28;01mreturn\u001b[39;00m \u001b[38;5;28mself\u001b[39m\u001b[38;5;241m.\u001b[39m_values[label]\n\u001b[0;32m   1115\u001b[0m \u001b[38;5;66;03m# Similar to Index.get_value, but we do not fall back to positional\u001b[39;00m\n\u001b[1;32m-> 1116\u001b[0m loc \u001b[38;5;241m=\u001b[39m \u001b[38;5;28mself\u001b[39m\u001b[38;5;241m.\u001b[39mindex\u001b[38;5;241m.\u001b[39mget_loc(label)\n\u001b[0;32m   1118\u001b[0m \u001b[38;5;28;01mif\u001b[39;00m is_integer(loc):\n\u001b[0;32m   1119\u001b[0m     \u001b[38;5;28;01mreturn\u001b[39;00m \u001b[38;5;28mself\u001b[39m\u001b[38;5;241m.\u001b[39m_values[loc]\n",
      "File \u001b[1;32mC:\\ProgramData\\anaconda3\\Lib\\site-packages\\pandas\\core\\indexes\\base.py:3655\u001b[0m, in \u001b[0;36mIndex.get_loc\u001b[1;34m(self, key)\u001b[0m\n\u001b[0;32m   3653\u001b[0m     \u001b[38;5;28;01mreturn\u001b[39;00m \u001b[38;5;28mself\u001b[39m\u001b[38;5;241m.\u001b[39m_engine\u001b[38;5;241m.\u001b[39mget_loc(casted_key)\n\u001b[0;32m   3654\u001b[0m \u001b[38;5;28;01mexcept\u001b[39;00m \u001b[38;5;167;01mKeyError\u001b[39;00m \u001b[38;5;28;01mas\u001b[39;00m err:\n\u001b[1;32m-> 3655\u001b[0m     \u001b[38;5;28;01mraise\u001b[39;00m \u001b[38;5;167;01mKeyError\u001b[39;00m(key) \u001b[38;5;28;01mfrom\u001b[39;00m \u001b[38;5;21;01merr\u001b[39;00m\n\u001b[0;32m   3656\u001b[0m \u001b[38;5;28;01mexcept\u001b[39;00m \u001b[38;5;167;01mTypeError\u001b[39;00m:\n\u001b[0;32m   3657\u001b[0m     \u001b[38;5;66;03m# If we have a listlike key, _check_indexing_error will raise\u001b[39;00m\n\u001b[0;32m   3658\u001b[0m     \u001b[38;5;66;03m#  InvalidIndexError. Otherwise we fall through and re-raise\u001b[39;00m\n\u001b[0;32m   3659\u001b[0m     \u001b[38;5;66;03m#  the TypeError.\u001b[39;00m\n\u001b[0;32m   3660\u001b[0m     \u001b[38;5;28mself\u001b[39m\u001b[38;5;241m.\u001b[39m_check_indexing_error(key)\n",
      "\u001b[1;31mKeyError\u001b[0m: 'Prof'"
     ]
    }
   ],
   "source": [
    "# Q.3) Which Male and Female Professor has the highest and the lowest salaries?\n",
    "# Assuming your DataFrame is named df\n",
    "print(f\"Lowest salary Female Professor: {lowest_female_prof}\")\n",
    "\n"
   ]
  },
  {
   "cell_type": "code",
   "execution_count": 108,
   "id": "d398707a",
   "metadata": {},
   "outputs": [
    {
     "name": "stdout",
     "output_type": "stream",
     "text": [
      "MAX SALARY\n",
      "   rank discipline   phd  service   sex    salary\n",
      "0  Prof          B  56.0       49  Male  186960.0\n",
      "\n",
      " MIN SALARY\n",
      "   rank discipline   phd  service   sex   salary\n",
      "9  Prof          A  51.0       51  Male  57800.0\n"
     ]
    }
   ],
   "source": [
    "#Q4.Which Professor takes the highest and lowest salaries?\n",
    "print('MAX SALARY')\n",
    "print(df[(df['salary'] == df['salary'].max()) & (df['rank'] == 'Prof')])\n",
    "\n",
    "print('\\n MIN SALARY')\n",
    "print(df[(df['salary'] == df['salary'].min()) & (df['rank'] == 'Prof')])"
   ]
  },
  {
   "cell_type": "code",
   "execution_count": 111,
   "id": "a654d8ca",
   "metadata": {},
   "outputs": [
    {
     "name": "stdout",
     "output_type": "stream",
     "text": [
      "         rank discipline   phd  service     sex         salary\n",
      "0        Prof          B  56.0       49    Male  186960.000000\n",
      "1        Prof          A  12.0        6    Male   93000.000000\n",
      "2        Prof          A  23.0       20    Male  110515.000000\n",
      "3        Prof          A  40.0       31    Male  131205.000000\n",
      "4        Prof          B  20.0       18    Male  104800.000000\n",
      "5        Prof          A  20.0       20    Male  122400.000000\n",
      "6   AssocProf          A  20.0       17    Male   81285.000000\n",
      "7        Prof          A  18.0       18    Male  119190.000000\n",
      "8        Prof          A  29.0       19    Male   94350.000000\n",
      "9        Prof          A  51.0       51    Male   57800.000000\n",
      "10       Prof          B  39.0       33    Male  128250.000000\n",
      "11       Prof          B  23.0       23    Male  134778.000000\n",
      "12   AsstProf          B   1.0        0    Male   88000.000000\n",
      "13       Prof          B   NaN       33    Male  162200.000000\n",
      "14       Prof          B  25.0       19    Male  153750.000000\n",
      "15       Prof          B  17.0        3    Male  150480.000000\n",
      "16   AsstProf          B   8.0        3    Male   75044.000000\n",
      "17   AsstProf          B   4.0        0    Male   92000.000000\n",
      "18       Prof          A  19.0        7    Male  107300.000000\n",
      "19       Prof          A  29.0       27    Male  150500.000000\n",
      "20   AsstProf          B   4.0        4    Male   92000.000000\n",
      "21       Prof          A  33.0       30    Male  103106.000000\n",
      "22   AsstProf          A   4.0        2    Male   73000.000000\n",
      "23   AsstProf          A   2.0        0    Male   85000.000000\n",
      "24       Prof          A  30.0       23    Male   91100.000000\n",
      "25       Prof          B  35.0       31    Male   99418.000000\n",
      "26       Prof          A  38.0       19    Male  148750.000000\n",
      "27       Prof          A  45.0       43    Male  155865.000000\n",
      "28   AsstProf          B   7.0        2    Male   76908.333333\n",
      "29       Prof          B  21.0       20    Male  123683.000000\n",
      "30  AssocProf          B   9.0        7    Male  107008.000000\n",
      "31       Prof          B  22.0       21    Male  155750.000000\n",
      "32       Prof          A  27.0       19    Male  103275.000000\n",
      "33       Prof          B  18.0       18    Male  120000.000000\n",
      "34  AssocProf          B   NaN        8    Male  119800.000000\n",
      "35       Prof          B  28.0       23    Male  126933.000000\n",
      "36       Prof          B  45.0       45    Male  146856.000000\n",
      "37       Prof          A  20.0        8    Male  102000.000000\n",
      "38   AsstProf          B   4.0        3    Male   91000.000000\n",
      "39       Prof          B  18.0       18  Female  129000.000000\n",
      "40       Prof          A  39.0       36  Female  137000.000000\n",
      "41  AssocProf          A  13.0        8  Female   74830.000000\n",
      "42   AsstProf          B   4.0        2  Female   80225.000000\n",
      "43   AsstProf          B   5.0        0  Female   77000.000000\n",
      "44       Prof          B  23.0       19  Female  151768.000000\n",
      "45       Prof          B  25.0       25  Female  140096.000000\n",
      "46   AsstProf          B  11.0        3  Female   74692.000000\n",
      "47  AssocProf          B  11.0       11  Female  103613.000000\n",
      "48       Prof          B  17.0       17  Female  111512.000000\n",
      "49       Prof          B  17.0       18  Female  122960.000000\n",
      "50   AsstProf          B  10.0        5  Female   97032.000000\n",
      "51       Prof          B  20.0       14  Female  127512.000000\n",
      "52       Prof          A  12.0        0  Female  105000.000000\n",
      "53   AsstProf          A   5.0        3  Female   73500.000000\n",
      "54  AssocProf          A  25.0       22  Female   62884.000000\n",
      "55   AsstProf          A   2.0        0  Female   72500.000000\n",
      "56  AssocProf          A  10.0        8  Female   77500.000000\n",
      "57   AsstProf          A   3.0        1  Female   72500.000000\n",
      "58       Prof          B  36.0       26  Female  144651.000000\n",
      "59  AssocProf          B  12.0       10  Female  103994.000000\n",
      "60   AsstProf          B   3.0        3  Female   92000.000000\n",
      "61  AssocProf          B  13.0       10  Female  103750.000000\n",
      "62  AssocProf          B  14.0        7  Female  109650.000000\n",
      "63       Prof          A  29.0       27  Female   91000.000000\n",
      "64  AssocProf          A  26.0       24  Female   73300.000000\n",
      "65       Prof          A  36.0       19  Female  117555.000000\n",
      "66   AsstProf          A   7.0        6  Female   63100.000000\n",
      "67       Prof          A  17.0       11  Female   90450.000000\n",
      "68   AsstProf          A   4.0        2  Female   77500.000000\n",
      "69       Prof          A  28.0        7  Female  116450.000000\n",
      "70   AsstProf          A   8.0        3  Female   78500.000000\n",
      "71  AssocProf          B  12.0        9  Female   71065.000000\n",
      "72       Prof          B  24.0       15  Female  161101.000000\n",
      "73       Prof          B  18.0       10  Female  105450.000000\n",
      "74  AssocProf          B  19.0        6  Female  104542.000000\n",
      "75       Prof          B  17.0       17  Female  124312.000000\n",
      "76       Prof          A  28.0       14  Female  109954.000000\n",
      "77       Prof          A  23.0       15  Female  109646.000000\n"
     ]
    }
   ],
   "source": [
    "#Q5.Missing ‘Salaries’ - should be replaced as mean of the matching salaries of those\n",
    "#whose ‘ service’ is the same\n",
    "# Assuming your DataFrame is named df\n",
    "\n",
    "mean_salary_by_service = df.groupby('service')['salary'].mean()\n",
    "\n",
    "# Replace missing 'Salaries' with the mean of matching salaries for the same 'service'\n",
    "df['salary'] = df['salary'].combine_first(df['service'].map(mean_salary_by_service))\n",
    "print(df.to_string())\n"
   ]
  },
  {
   "cell_type": "code",
   "execution_count": 113,
   "id": "69f6b91a",
   "metadata": {},
   "outputs": [
    {
     "name": "stdout",
     "output_type": "stream",
     "text": [
      "         rank discipline        phd  service     sex         salary\n",
      "0        Prof          B  56.000000       49    Male  186960.000000\n",
      "1        Prof          A  12.000000        6    Male   93000.000000\n",
      "2        Prof          A  23.000000       20    Male  110515.000000\n",
      "3        Prof          A  40.000000       31    Male  131205.000000\n",
      "4        Prof          B  20.000000       18    Male  104800.000000\n",
      "5        Prof          A  20.000000       20    Male  122400.000000\n",
      "6   AssocProf          A  20.000000       17    Male   81285.000000\n",
      "7        Prof          A  18.000000       18    Male  119190.000000\n",
      "8        Prof          A  29.000000       19    Male   94350.000000\n",
      "9        Prof          A  51.000000       51    Male   57800.000000\n",
      "10       Prof          B  39.000000       33    Male  128250.000000\n",
      "11       Prof          B  23.000000       23    Male  134778.000000\n",
      "12   AsstProf          B   1.000000        0    Male   88000.000000\n",
      "13       Prof          B  39.000000       33    Male  162200.000000\n",
      "14       Prof          B  25.000000       19    Male  153750.000000\n",
      "15       Prof          B  17.000000        3    Male  150480.000000\n",
      "16   AsstProf          B   8.000000        3    Male   75044.000000\n",
      "17   AsstProf          B   4.000000        0    Male   92000.000000\n",
      "18       Prof          A  19.000000        7    Male  107300.000000\n",
      "19       Prof          A  29.000000       27    Male  150500.000000\n",
      "20   AsstProf          B   4.000000        4    Male   92000.000000\n",
      "21       Prof          A  33.000000       30    Male  103106.000000\n",
      "22   AsstProf          A   4.000000        2    Male   73000.000000\n",
      "23   AsstProf          A   2.000000        0    Male   85000.000000\n",
      "24       Prof          A  30.000000       23    Male   91100.000000\n",
      "25       Prof          B  35.000000       31    Male   99418.000000\n",
      "26       Prof          A  38.000000       19    Male  148750.000000\n",
      "27       Prof          A  45.000000       43    Male  155865.000000\n",
      "28   AsstProf          B   7.000000        2    Male   76908.333333\n",
      "29       Prof          B  21.000000       20    Male  123683.000000\n",
      "30  AssocProf          B   9.000000        7    Male  107008.000000\n",
      "31       Prof          B  22.000000       21    Male  155750.000000\n",
      "32       Prof          A  27.000000       19    Male  103275.000000\n",
      "33       Prof          B  18.000000       18    Male  120000.000000\n",
      "34  AssocProf          B  14.333333        8    Male  119800.000000\n",
      "35       Prof          B  28.000000       23    Male  126933.000000\n",
      "36       Prof          B  45.000000       45    Male  146856.000000\n",
      "37       Prof          A  20.000000        8    Male  102000.000000\n",
      "38   AsstProf          B   4.000000        3    Male   91000.000000\n",
      "39       Prof          B  18.000000       18  Female  129000.000000\n",
      "40       Prof          A  39.000000       36  Female  137000.000000\n",
      "41  AssocProf          A  13.000000        8  Female   74830.000000\n",
      "42   AsstProf          B   4.000000        2  Female   80225.000000\n",
      "43   AsstProf          B   5.000000        0  Female   77000.000000\n",
      "44       Prof          B  23.000000       19  Female  151768.000000\n",
      "45       Prof          B  25.000000       25  Female  140096.000000\n",
      "46   AsstProf          B  11.000000        3  Female   74692.000000\n",
      "47  AssocProf          B  11.000000       11  Female  103613.000000\n",
      "48       Prof          B  17.000000       17  Female  111512.000000\n",
      "49       Prof          B  17.000000       18  Female  122960.000000\n",
      "50   AsstProf          B  10.000000        5  Female   97032.000000\n",
      "51       Prof          B  20.000000       14  Female  127512.000000\n",
      "52       Prof          A  12.000000        0  Female  105000.000000\n",
      "53   AsstProf          A   5.000000        3  Female   73500.000000\n",
      "54  AssocProf          A  25.000000       22  Female   62884.000000\n",
      "55   AsstProf          A   2.000000        0  Female   72500.000000\n",
      "56  AssocProf          A  10.000000        8  Female   77500.000000\n",
      "57   AsstProf          A   3.000000        1  Female   72500.000000\n",
      "58       Prof          B  36.000000       26  Female  144651.000000\n",
      "59  AssocProf          B  12.000000       10  Female  103994.000000\n",
      "60   AsstProf          B   3.000000        3  Female   92000.000000\n",
      "61  AssocProf          B  13.000000       10  Female  103750.000000\n",
      "62  AssocProf          B  14.000000        7  Female  109650.000000\n",
      "63       Prof          A  29.000000       27  Female   91000.000000\n",
      "64  AssocProf          A  26.000000       24  Female   73300.000000\n",
      "65       Prof          A  36.000000       19  Female  117555.000000\n",
      "66   AsstProf          A   7.000000        6  Female   63100.000000\n",
      "67       Prof          A  17.000000       11  Female   90450.000000\n",
      "68   AsstProf          A   4.000000        2  Female   77500.000000\n",
      "69       Prof          A  28.000000        7  Female  116450.000000\n",
      "70   AsstProf          A   8.000000        3  Female   78500.000000\n",
      "71  AssocProf          B  12.000000        9  Female   71065.000000\n",
      "72       Prof          B  24.000000       15  Female  161101.000000\n",
      "73       Prof          B  18.000000       10  Female  105450.000000\n",
      "74  AssocProf          B  19.000000        6  Female  104542.000000\n",
      "75       Prof          B  17.000000       17  Female  124312.000000\n",
      "76       Prof          A  28.000000       14  Female  109954.000000\n",
      "77       Prof          A  23.000000       15  Female  109646.000000\n"
     ]
    }
   ],
   "source": [
    "#Q6.Missing ‘phd’ - should be replaced as mean of the matching ‘service’\n",
    "df['phd'] = df['phd'].fillna(df.groupby('service')['phd'].transform('mean'))\n",
    "#fillna=eplaces the NULL values with a specified value\n",
    "print(df.to_string())"
   ]
  },
  {
   "cell_type": "code",
   "execution_count": 118,
   "id": "4c35c5b6",
   "metadata": {},
   "outputs": [
    {
     "name": "stdout",
     "output_type": "stream",
     "text": [
      "Number of Male Staff: 39\n",
      "Number of Female Staff: 39\n"
     ]
    },
    {
     "data": {
      "image/png": "[encoded data removed]",
      "text/plain": [
       "<Figure size 600x600 with 1 Axes>"
      ]
     },
     "metadata": {},
     "output_type": "display_data"
    }
   ],
   "source": [
    "#Q7.How many are Male Staff and how many are Female Staff. Show\n",
    "#both in numbers and Graphically using Pie Chart.\n",
    "\n",
    "import matplotlib.pyplot as plt\n",
    "\n",
    "# Assuming your DataFrame is named df\n",
    "\n",
    "# Count the number of Male and Female Staff\n",
    "gender_counts = df['sex'].value_counts()\n",
    "\n",
    "# Display the counts\n",
    "print(f\"Number of Male Staff: {gender_counts['Male']}\")\n",
    "print(f\"Number of Female Staff: {gender_counts['Female']}\")\n",
    "\n",
    "# Create a Pie Chart\n",
    "plt.figure(figsize=(6, 6))\n",
    "plt.pie(gender_counts, labels=gender_counts.index, autopct='%1.1f%%', startangle=90, colors=['blue', 'pink'])\n",
    "plt.title('Distribution of Male and Female Staff')\n",
    "plt.show()\n"
   ]
  },
  {
   "cell_type": "code",
   "execution_count": 119,
   "id": "e8de09cc",
   "metadata": {},
   "outputs": [
    {
     "name": "stdout",
     "output_type": "stream",
     "text": [
      "rank\n",
      "Prof         46\n",
      "AsstProf     19\n",
      "AssocProf    13\n",
      "Name: count, dtype: int64\n"
     ]
    },
    {
     "data": {
      "image/png": "[encoded data removed]",
      "text/plain": [
       "<Figure size 800x800 with 1 Axes>"
      ]
     },
     "metadata": {},
     "output_type": "display_data"
    }
   ],
   "source": [
    "#Q8.How many are Prof, AssocProf and AsstProf. Show both in numbers and\n",
    "#Graphically using a Pie Chart.\n",
    "import matplotlib.pyplot as plt\n",
    "\n",
    "# Assuming your DataFrame is named df\n",
    "\n",
    "# Count the number of Prof, AssocProf, and AsstProf\n",
    "rank_counts = df['rank'].value_counts()\n",
    "\n",
    "# Display the counts\n",
    "print(rank_counts)\n",
    "\n",
    "# Create a Pie Chart\n",
    "plt.figure(figsize=(8, 8))\n",
    "plt.pie(rank_counts, labels=rank_counts.index, autopct='%1.1f%%', startangle=90, colors=['gold', 'lightcoral', 'lightskyblue'])\n",
    "plt.title('Distribution of Professor Ranks')\n",
    "plt.show()\n"
   ]
  },
  {
   "cell_type": "code",
   "execution_count": 125,
   "id": "c6e17672",
   "metadata": {},
   "outputs": [
    {
     "data": {
      "text/plain": [
       "51"
      ]
     },
     "execution_count": 125,
     "metadata": {},
     "output_type": "execute_result"
    }
   ],
   "source": [
    "#Who are the senior and junior most employees in the organization.\n",
    "\n",
    "df['service'].min()\n",
    "df['service'].max()"
   ]
  },
  {
   "cell_type": "code",
   "execution_count": 122,
   "id": "8a03d16e",
   "metadata": {},
   "outputs": [
    {
     "data": {
      "image/png": "[encoded data removed]",
      "text/plain": [
       "<Figure size 1000x600 with 1 Axes>"
      ]
     },
     "metadata": {},
     "output_type": "display_data"
    }
   ],
   "source": [
    "#Q10:Draw a histogram of the salaries divided into bin starting from 50K and increment\n",
    "#of 15K\n",
    "import matplotlib.pyplot as plt\n",
    "\n",
    "# Assuming your DataFrame is named df\n",
    "\n",
    "# Create a histogram\n",
    "plt.figure(figsize=(10, 6))\n",
    "plt.hist(df['salary'], bins=range(50000, int(df['salary'].max())+15000, 15000), edgecolor='black')\n",
    "plt.xlabel('Salary')\n",
    "plt.ylabel('Frequency')\n",
    "plt.title('Salary Distribution')\n",
    "plt.grid(axis='y', alpha=0.75)\n",
    "plt.show()\n"
   ]
  }
 ],
 "metadata": {
  "kernelspec": {
   "display_name": "Python 3 (ipykernel)",
   "language": "python",
   "name": "python3"
  },
  "language_info": {
   "codemirror_mode": {
    "name": "ipython",
    "version": 3
   },
   "file_extension": ".py",
   "mimetype": "text/x-python",
   "name": "python",
   "nbconvert_exporter": "python",
   "pygments_lexer": "ipython3",
   "version": "3.11.5"
  }
 },
 "nbformat": 4,
 "nbformat_minor": 5
}
