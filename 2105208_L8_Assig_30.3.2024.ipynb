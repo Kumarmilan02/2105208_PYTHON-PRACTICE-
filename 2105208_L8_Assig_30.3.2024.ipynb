{
 "cells": [
  {
   "cell_type": "markdown",
   "id": "61a4d9a3",
   "metadata": {},
   "source": [
    "1) WAP in python that uses class to store the name and marks of the students. Use list to store the marks in three subjects."
   ]
  },
  {
   "cell_type": "code",
   "execution_count": 1,
   "id": "0ef0ccee",
   "metadata": {},
   "outputs": [
    {
     "name": "stdout",
     "output_type": "stream",
     "text": [
      "Name: John Doe\n",
      "Roll No: 101\n",
      "Marks in three subjects: [85, 90, 92]\n",
      "Total Marks: 267\n"
     ]
    }
   ],
   "source": [
    "class Student:\n",
    "    def __init__(self, name, roll_no, marks):\n",
    "        self.name = name\n",
    "        self.roll_no = roll_no\n",
    "        self.marks = marks\n",
    "\n",
    "    def display_info(self):\n",
    "        total_marks = sum(self.marks)\n",
    "        print(\"Name:\", self.name)\n",
    "        print(\"Roll No:\", self.roll_no)\n",
    "        print(\"Marks in three subjects:\", self.marks)\n",
    "        print(\"Total Marks:\", total_marks)\n",
    "\n",
    "\n",
    "# Example usage\n",
    "student1 = Student(\"John Doe\", 101, [85, 90, 92])\n",
    "student1.display_info()\n"
   ]
  },
  {
   "cell_type": "markdown",
   "id": "501609f4",
   "metadata": {},
   "source": [
    "2) WAP in python with class Employee that keeps a track of the number ofemployees in an organization and also stores their name, designation and salary details."
   ]
  },
  {
   "cell_type": "code",
   "execution_count": 2,
   "id": "2514fdb9",
   "metadata": {},
   "outputs": [
    {
     "name": "stdout",
     "output_type": "stream",
     "text": [
      "Employee Name: Alice\n",
      "Designation: Manager\n",
      "Salary: 50000\n",
      "Total Employees: 1\n"
     ]
    }
   ],
   "source": [
    "class Employee:\n",
    "    employee_count = 0  # Class variable to track number of employees\n",
    "\n",
    "    def __init__(self, name, designation, salary):\n",
    "        self.name = name\n",
    "        self.designation = designation\n",
    "        self.salary = salary\n",
    "        Employee.employee_count += 1\n",
    "\n",
    "    def display_info(self):\n",
    "        print(\"Employee Name:\", self.name)\n",
    "        print(\"Designation:\", self.designation)\n",
    "        print(\"Salary:\", self.salary)\n",
    "        print(\"Total Employees:\", Employee.employee_count)\n",
    "\n",
    "\n",
    "# Example usage\n",
    "emp1 = Employee(\"Alice\", \"Manager\", 50000)\n",
    "emp1.display_info()\n"
   ]
  },
  {
   "cell_type": "markdown",
   "id": "0974e032",
   "metadata": {},
   "source": [
    "3) WAP in python that has a class Person storing name and date of birth of a person.The program should subtract the date of birth from today’s date to find out that the person is eligible to vote or not."
   ]
  },
  {
   "cell_type": "code",
   "execution_count": 3,
   "id": "97023efb",
   "metadata": {},
   "outputs": [
    {
     "name": "stdout",
     "output_type": "stream",
     "text": [
      "John is eligible to vote.\n"
     ]
    }
   ],
   "source": [
    "from datetime import datetime\n",
    "\n",
    "class Person:\n",
    "    def __init__(self, name, dob):\n",
    "        self.name = name\n",
    "        self.dob = dob\n",
    "\n",
    "    def check_eligibility(self):\n",
    "        today = datetime.now().date()\n",
    "        age = today.year - self.dob.year - ((today.month, today.day) < (self.dob.month, self.dob.day))\n",
    "        if age >= 18:\n",
    "            print(f\"{self.name} is eligible to vote.\")\n",
    "        else:\n",
    "            print(f\"{self.name} is not eligible to vote.\")\n",
    "\n",
    "\n",
    "# Example usage\n",
    "person1 = Person(\"John\", datetime(1995, 5, 15))\n",
    "person1.check_eligibility()\n"
   ]
  },
  {
   "cell_type": "markdown",
   "id": "4405da67",
   "metadata": {},
   "source": [
    "4) WAP in python that has a class Circle. Use a class variable that defines the value of constant Pie value=3.14. Use this class variable to calculate the area and circumference of the circle with specifiedradius."
   ]
  },
  {
   "cell_type": "code",
   "execution_count": 4,
   "id": "c6de1e8c",
   "metadata": {},
   "outputs": [
    {
     "name": "stdout",
     "output_type": "stream",
     "text": [
      "Area of the Circle: 78.5\n",
      "Circumference of the Circle: 31.400000000000002\n"
     ]
    }
   ],
   "source": [
    "class Circle:\n",
    "    pi = 3.14\n",
    "\n",
    "    def __init__(self, radius):\n",
    "        self.radius = radius\n",
    "\n",
    "    def calculate_area(self):\n",
    "        return Circle.pi * (self.radius ** 2)\n",
    "\n",
    "    def calculate_circumference(self):\n",
    "        return 2 * Circle.pi * self.radius\n",
    "\n",
    "\n",
    "# Example usage\n",
    "circle1 = Circle(5)\n",
    "print(\"Area of the Circle:\", circle1.calculate_area())\n",
    "print(\"Circumference of the Circle:\", circle1.calculate_circumference())\n"
   ]
  },
  {
   "cell_type": "markdown",
   "id": "7adfa18f",
   "metadata": {},
   "source": [
    "5) WAP in python that has a class Student that stores the name ,roll no, marks(in three subjects). And display the information(name, roll no, total marks) stored about the students."
   ]
  },
  {
   "cell_type": "code",
   "execution_count": 5,
   "id": "f990d030",
   "metadata": {},
   "outputs": [
    {
     "name": "stdout",
     "output_type": "stream",
     "text": [
      "Name: John Doe\n",
      "Roll No: 101\n",
      "Marks in three subjects: [85, 90, 92]\n",
      "Total Marks: 267\n"
     ]
    }
   ],
   "source": [
    "class Student:\n",
    "    def __init__(self, name, roll_no, marks):\n",
    "        self.name = name\n",
    "        self.roll_no = roll_no\n",
    "        self.marks = marks\n",
    "\n",
    "    def display_info(self):\n",
    "        total_marks = sum(self.marks)\n",
    "        print(\"Name:\", self.name)\n",
    "        print(\"Roll No:\", self.roll_no)\n",
    "        print(\"Marks in three subjects:\", self.marks)\n",
    "        print(\"Total Marks:\", total_marks)\n",
    "\n",
    "\n",
    "# Example usage\n",
    "student1 = Student(\"John Doe\", 101, [85, 90, 92])\n",
    "student1.display_info()\n"
   ]
  },
  {
   "cell_type": "markdown",
   "id": "f5f1c188",
   "metadata": {},
   "source": [
    "6) WAP in python that has a class Rectangle with attribute length and breadth and a method area that returns the area of the circle."
   ]
  },
  {
   "cell_type": "code",
   "execution_count": 6,
   "id": "1a01c5d0",
   "metadata": {},
   "outputs": [
    {
     "name": "stdout",
     "output_type": "stream",
     "text": [
      "Area of Rectangle with length 5 and breadth 10 is: 50\n"
     ]
    }
   ],
   "source": [
    "class Rectangle:\n",
    "    def __init__(self, length, breadth):\n",
    "        self.length = length\n",
    "        self.breadth = breadth\n",
    "\n",
    "    def area(self):\n",
    "        return self.length * self.breadth\n",
    "\n",
    "\n",
    "# Example usage\n",
    "rect1 = Rectangle(5, 10)\n",
    "area_of_rect1 = rect1.area()\n",
    "print(\"Area of Rectangle with length 5 and breadth 10 is:\", area_of_rect1)\n"
   ]
  },
  {
   "cell_type": "markdown",
   "id": "a21bb433",
   "metadata": {},
   "source": [
    "7) WAP in python that has a class Fraction with attributes numerator and denominator. Enter the values to the attributes and print the function in simplified forms."
   ]
  },
  {
   "cell_type": "code",
   "execution_count": 9,
   "id": "294535f3",
   "metadata": {},
   "outputs": [
    {
     "name": "stdout",
     "output_type": "stream",
     "text": [
      "Enter the numerator: 12\n",
      "Enter the denominator: 24\n",
      "Fraction in simplified form: 1 / 2\n"
     ]
    }
   ],
   "source": [
    "class Fraction:\n",
    "    def __init__(self, numerator, denominator):\n",
    "        self.numerator = numerator\n",
    "        self.denominator = denominator\n",
    "\n",
    "    def gcd(self, a, b):\n",
    "        while b:\n",
    "            a, b = b, a % b\n",
    "        return a\n",
    "\n",
    "    def simplify(self):\n",
    "        common_divisor = self.gcd(self.numerator, self.denominator)\n",
    "        simplified_numerator = self.numerator // common_divisor\n",
    "        simplified_denominator = self.denominator // common_divisor\n",
    "        return simplified_numerator, simplified_denominator\n",
    "\n",
    "# Input values from the user\n",
    "numerator_input = int(input(\"Enter the numerator: \"))\n",
    "denominator_input = int(input(\"Enter the denominator: \"))\n",
    "\n",
    "# Create a Fraction object\n",
    "fraction1 = Fraction(numerator_input, denominator_input)\n",
    "\n",
    "# Get the simplified form\n",
    "simplified_fraction = fraction1.simplify()\n",
    "\n",
    "# Print the simplified form\n",
    "print(\"Fraction in simplified form:\", simplified_fraction[0], \"/\", simplified_fraction[1])\n"
   ]
  },
  {
   "cell_type": "markdown",
   "id": "add831b7",
   "metadata": {},
   "source": [
    "8) WAP in python that has an abstract class Polygon. Derive two classes Rectangle and Triangle from polygon and write methods to get the details of their dimensions and hence calculate the area."
   ]
  },
  {
   "cell_type": "code",
   "execution_count": 10,
   "id": "1a6c221f",
   "metadata": {},
   "outputs": [
    {
     "name": "stdout",
     "output_type": "stream",
     "text": [
      "Area of Rectangle: 50\n",
      "Area of Triangle: 12.0\n"
     ]
    }
   ],
   "source": [
    "from abc import ABC, abstractmethod\n",
    "\n",
    "class Polygon(ABC):\n",
    "    def __init__(self, sides):\n",
    "        self.sides = sides\n",
    "\n",
    "    @abstractmethod\n",
    "    def area(self):\n",
    "        pass\n",
    "\n",
    "class Rectangle(Polygon):\n",
    "    def __init__(self, length, breadth):\n",
    "        super().__init__(sides=4)\n",
    "        self.length = length\n",
    "        self.breadth = breadth\n",
    "\n",
    "    def area(self):\n",
    "        return self.length * self.breadth\n",
    "\n",
    "class Triangle(Polygon):\n",
    "    def __init__(self, base, height):\n",
    "        super().__init__(sides=3)\n",
    "        self.base = base\n",
    "        self.height = height\n",
    "\n",
    "    def area(self):\n",
    "        return 0.5 * self.base * self.height\n",
    "\n",
    "# Example usage\n",
    "rect1 = Rectangle(5, 10)\n",
    "print(\"Area of Rectangle:\", rect1.area())\n",
    "\n",
    "tri1 = Triangle(4, 6)\n",
    "print(\"Area of Triangle:\", tri1.area())\n"
   ]
  },
  {
   "cell_type": "markdown",
   "id": "6f53503a",
   "metadata": {},
   "source": [
    "9) WAP in python with class Bill. The users have the option to pay the bill by card or by cash. Use the inheritance to model this situation."
   ]
  },
  {
   "cell_type": "code",
   "execution_count": 11,
   "id": "0347dfcf",
   "metadata": {},
   "outputs": [
    {
     "name": "stdout",
     "output_type": "stream",
     "text": [
      "Payment of 1000 by cash.\n",
      "Payment of 1500 by card number: 1234 5678 9101 1121\n"
     ]
    }
   ],
   "source": [
    "class Bill:\n",
    "    def __init__(self, amount):\n",
    "        self.amount = amount\n",
    "\n",
    "    def pay_by_cash(self):\n",
    "        print(\"Payment of\", self.amount, \"by cash.\")\n",
    "\n",
    "    def pay_by_card(self):\n",
    "        print(\"Payment of\", self.amount, \"by card.\")\n",
    "\n",
    "class CardBill(Bill):\n",
    "    def __init__(self, amount, card_number):\n",
    "        super().__init__(amount)\n",
    "        self.card_number = card_number\n",
    "\n",
    "    def pay_by_card(self):\n",
    "        print(\"Payment of\", self.amount, \"by card number:\", self.card_number)\n",
    "\n",
    "# Example usage\n",
    "bill1 = Bill(1000)\n",
    "bill1.pay_by_cash()\n",
    "\n",
    "card_bill1 = CardBill(1500, \"1234 5678 9101 1121\")\n",
    "card_bill1.pay_by_card()\n"
   ]
  },
  {
   "cell_type": "markdown",
   "id": "8a753a25",
   "metadata": {},
   "source": [
    "10) WAP in python has a class Person. Inherit a class Faculty from person which also have a class publications."
   ]
  },
  {
   "cell_type": "code",
   "execution_count": 12,
   "id": "e7609063",
   "metadata": {},
   "outputs": [
    {
     "name": "stdout",
     "output_type": "stream",
     "text": [
      "Faculty Name: John Doe\n",
      "Faculty Age: 40\n",
      "Publications: ['Journal of Science', 'Research Paper']\n"
     ]
    }
   ],
   "source": [
    "class Person:\n",
    "    def __init__(self, name, age):\n",
    "        self.name = name\n",
    "        self.age = age\n",
    "\n",
    "class Publications:\n",
    "    def __init__(self, publications):\n",
    "        self.publications = publications\n",
    "\n",
    "class Faculty(Person, Publications):\n",
    "    def __init__(self, name, age, publications):\n",
    "        Person.__init__(self, name, age)\n",
    "        Publications.__init__(self, publications)\n",
    "\n",
    "# Example usage\n",
    "faculty1 = Faculty(\"John Doe\", 40, [\"Journal of Science\", \"Research Paper\"])\n",
    "print(\"Faculty Name:\", faculty1.name)\n",
    "print(\"Faculty Age:\", faculty1.age)\n",
    "print(\"Publications:\", faculty1.publications)\n"
   ]
  },
  {
   "cell_type": "code",
   "execution_count": null,
   "id": "7f1a20db",
   "metadata": {},
   "outputs": [],
   "source": []
  }
 ],
 "metadata": {
  "kernelspec": {
   "display_name": "Python 3 (ipykernel)",
   "language": "python",
   "name": "python3"
  },
  "language_info": {
   "codemirror_mode": {
    "name": "ipython",
    "version": 3
   },
   "file_extension": ".py",
   "mimetype": "text/x-python",
   "name": "python",
   "nbconvert_exporter": "python",
   "pygments_lexer": "ipython3",
   "version": "3.11.5"
  }
 },
 "nbformat": 4,
 "nbformat_minor": 5
}
